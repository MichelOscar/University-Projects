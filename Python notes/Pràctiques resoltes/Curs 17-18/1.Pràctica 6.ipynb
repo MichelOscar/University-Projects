{
 "cells": [
  {
   "cell_type": "markdown",
   "metadata": {},
   "source": [
    "# Pràctica 6: Funcions"
   ]
  },
  {
   "cell_type": "markdown",
   "metadata": {},
   "source": [
    "### Exercici 1: Ulls\n",
    "Creem dos òvals en forma de circumferència, allunyant els punts definits idènticament en la x i en la y."
   ]
  },
  {
   "cell_type": "code",
   "execution_count": 2,
   "metadata": {},
   "outputs": [],
   "source": [
    "def dibuixar_ulls (finestra, x, y, escala):\n",
    "    finestra.create_oval (x - escala/6 - escala/10, y - escala/10, # Ull dret.\n",
    "                         x - escala/6 + escala/10, y + escala/10,\n",
    "                         fill = 'black')\n",
    "    finestra.create_oval (x + escala/6 - escala/10, y - escala/10, # Ull esquerre.\n",
    "                         x + escala/6 + escala/10, y + escala/10,\n",
    "                         fill = 'black')"
   ]
  },
  {
   "cell_type": "markdown",
   "metadata": {},
   "source": [
    "### Exercici 2: Nas\n",
    "Creem un triangle amb les propietats sol·licitades, fent servir alguns càlculs per a la posició dels punts."
   ]
  },
  {
   "cell_type": "code",
   "execution_count": 3,
   "metadata": {
    "collapsed": true
   },
   "outputs": [],
   "source": [
    "def dibuixar_nas (finestra, x, y, escala):\n",
    "    finestra.create_polygon (x, y - escala/10, x + escala/20, y + escala*(3**(1/2))/20, \n",
    "                            x - escala/20, y + escala*(3**(1/2))/20,\n",
    "                            fill = 'black')"
   ]
  },
  {
   "cell_type": "markdown",
   "metadata": {},
   "source": [
    "### Exercici 3: Boca\n",
    "He suposat que la longitud estava determinada segons el valor de l'horitzontal i la vertical de l'el·lipse, ja que si no l'exercici se'm feia ridículament difícil, i que el centre de la boca es referia a un punt al centre, però no exactament a la línia que representa la boca. Això últim, però, si es volgués fer diferent, es podria fer fàcilment creant dos semiarcs simètrics que hi comencessin."
   ]
  },
  {
   "cell_type": "code",
   "execution_count": 4,
   "metadata": {
    "collapsed": true
   },
   "outputs": [],
   "source": [
    "def dibuixar_boca (finestra, x, y, escala):\n",
    "    finestra.create_arc (x - escala/8, y - escala/8,\n",
    "                        x + escala/8, y + escala/8,\n",
    "                        start = 190,\n",
    "                        extent = 160,\n",
    "                        style = tkinter.ARC)"
   ]
  },
  {
   "cell_type": "markdown",
   "metadata": {},
   "source": [
    "### Exercici 4: Cara\n",
    "Simplement creem un oval en forma de circumferència, situant els dos punts allunyats simètricament del centre en x i y."
   ]
  },
  {
   "cell_type": "code",
   "execution_count": 6,
   "metadata": {
    "collapsed": true
   },
   "outputs": [],
   "source": [
    "def dibuixar_cara (finestra, x, y, escala):\n",
    "    finestra.create_oval (x - escala/2, y - escala/2,\n",
    "                         x + escala/2, y + escala/2)"
   ]
  },
  {
   "cell_type": "markdown",
   "metadata": {},
   "source": [
    "### Exercici 5: Cap\n",
    "Creem una nova funció que cridi les altres amb un valor desplaçat per al posicionament correcte de totes les parts (el nas al centre, els ulls més amunt i la boca més avall)."
   ]
  },
  {
   "cell_type": "code",
   "execution_count": 11,
   "metadata": {
    "collapsed": true
   },
   "outputs": [],
   "source": [
    "def dibuixar_ulls (finestra, x, y, escala):\n",
    "    finestra.create_oval (x - escala/6 - escala/10, y - escala/10, # Ull esquerre.\n",
    "                         x - escala/6 + escala/10, y + escala/10,\n",
    "                         fill = 'black')\n",
    "    finestra.create_oval (x + escala/6 - escala/10, y - escala/10, # Ull dret.\n",
    "                         x + escala/6 + escala/10, y + escala/10,\n",
    "                         fill = 'black')\n",
    "def dibuixar_nas (finestra, x, y, escala):\n",
    "    finestra.create_polygon (x, y - escala/10, x + escala/20, y + escala*(3**(1/2))/20, \n",
    "                            x - escala/20, y + escala*(3**(1/2))/20,\n",
    "                            fill = 'black')\n",
    "def dibuixar_boca (finestra, x, y, escala):\n",
    "    finestra.create_arc (x - escala/8, y - escala/8,\n",
    "                        x + escala/8, y + escala/8,\n",
    "                        start = 190,\n",
    "                        extent = 160,\n",
    "                        style = tkinter.ARC)\n",
    "def dibuixar_cara (finestra, x, y, escala):\n",
    "    finestra.create_oval (x - escala/2, y - escala/2,\n",
    "                         x + escala/2, y + escala/2)\n",
    "def dibuixar_cap (finestra, x, y, escala):\n",
    "    dibuixar_ulls (finestra, x, y - escala/4, escala)\n",
    "    dibuixar_nas (finestra, x, y, escala)\n",
    "    dibuixar_boca (finestra, x, y + escala/5, escala)\n",
    "    dibuixar_cara (finestra, x, y, escala)"
   ]
  },
  {
   "cell_type": "markdown",
   "metadata": {},
   "source": [
    "### Exercici 6: Moltes cares\n",
    "Noti's que, com a les anteriors, hi ha algunes fraccions sense simplificar. Això és degut a que prefereixo donar-li més claredat al programa, ja que cada una de les fraccions té una funció diferent (això s'explica millor a l'exercici 8)."
   ]
  },
  {
   "cell_type": "code",
   "execution_count": 12,
   "metadata": {
    "collapsed": true
   },
   "outputs": [],
   "source": [
    "def dibuixar_ulls (finestra, x, y, escala):\n",
    "    finestra.create_oval (x - escala/6 - escala/10, y - escala/10, # Ull dret.\n",
    "                         x - escala/6 + escala/10, y + escala/10,\n",
    "                         fill = 'black')\n",
    "    finestra.create_oval (x + escala/6 - escala/10, y - escala/10, # Ull esquerre.\n",
    "                         x + escala/6 + escala/10, y + escala/10,\n",
    "                         fill = 'black')\n",
    "def dibuixar_nas (finestra, x, y, escala):\n",
    "    finestra.create_polygon (x, y - escala/10, x + escala/20, y + escala*(3**(1/2))/20, \n",
    "                            x - escala/20, y + escala*(3**(1/2))/20,\n",
    "                            fill = 'black')\n",
    "def dibuixar_boca (finestra, x, y, escala):\n",
    "    finestra.create_arc (x - escala/8, y - escala/8,\n",
    "                        x + escala/8, y + escala/8,\n",
    "                        start = 190,\n",
    "                        extent = 160,\n",
    "                        style = tkinter.ARC)\n",
    "def dibuixar_cara (finestra, x, y, escala):\n",
    "    finestra.create_oval (x - escala/2, y - escala/2,\n",
    "                         x + escala/2, y + escala/2)\n",
    "def dibuixar_cap (finestra, x, y, escala):\n",
    "    dibuixar_ulls (finestra, x, y - escala/4, escala)\n",
    "    dibuixar_nas (finestra, x, y, escala)\n",
    "    dibuixar_boca (finestra, x, y + escala/5, escala)\n",
    "    dibuixar_cara (finestra, x, y, escala)\n",
    "\n",
    "import random\n",
    "import tkinter\n",
    "root = tkinter.Tk()\n",
    "window = tkinter.Canvas(root,\n",
    "                    borderwidth=20,\n",
    "                    background='white',\n",
    "                    cursor='circle',\n",
    "                    height=240,\n",
    "                    width=320)\n",
    "window.pack()\n",
    "for k in range(0, 10):\n",
    "    i = random.randint(0, 320)\n",
    "    j = random.randint(0, 240)\n",
    "    l = random.randint(10, 150)\n",
    "    dibuixar_cap (window, i, j, l)\n",
    "window.mainloop()"
   ]
  },
  {
   "cell_type": "markdown",
   "metadata": {},
   "source": [
    "### Exercici 7: Cos"
   ]
  },
  {
   "cell_type": "code",
   "execution_count": 13,
   "metadata": {
    "collapsed": true
   },
   "outputs": [],
   "source": [
    "def dibuixar_cos (finestra, x, y, escala):\n",
    "    finestra.create_polygon (x - escala/2, y - escala,\n",
    "                            x + escala/2, y - escala,\n",
    "                            x + escala/2, y + escala,\n",
    "                            x - escala/2, y + escala)"
   ]
  },
  {
   "cell_type": "markdown",
   "metadata": {},
   "source": [
    "### Exercici 8: Braços\n",
    "He preferit no posar els braços a l'extrem superior del cos per tal que almenys el pobre ninot tingui espatlles. Noti's que, com a les cames, hi ha moltes fraccions que es podrien simplificar, però he preferit no fer-ho per tal que s'entengui amb més calredat el programa, ja que així s'entén millor la funció que fa cadascuna (unes marquen la posició del primer punt del poligon i les altres modifiquen el valor de les coordenades en funció d'aquest)."
   ]
  },
  {
   "cell_type": "code",
   "execution_count": 14,
   "metadata": {
    "collapsed": true
   },
   "outputs": [],
   "source": [
    "def dibuixar_braços (finestra, x, y, escala):\n",
    "    finestra.create_polygon (x - escala/2, y - 9*escala/10,  # Braç dret.\n",
    "                            x - escala/2, y - 9*escala/10 + escala/8,\n",
    "                            x - 3*escala/2, y - 9*escala/10 + escala/8,\n",
    "                            x - 3*escala/2, y - 9*escala/10)\n",
    "    finestra.create_polygon (x + escala/2, y - 9*escala/10,  # Braç esquerre.\n",
    "                            x + escala/2, y - 9*escala/10 + escala/8,\n",
    "                            x + 3*escala/2, y - 9*escala/10 + escala/8,\n",
    "                            x + 3*escala/2, y - 9*escala/10)"
   ]
  },
  {
   "cell_type": "markdown",
   "metadata": {},
   "source": [
    "### Exercici 9: Cames"
   ]
  },
  {
   "cell_type": "code",
   "execution_count": 24,
   "metadata": {
    "collapsed": true
   },
   "outputs": [],
   "source": [
    "def dibuixar_cames (finestra, x, y, escala):\n",
    "    finestra.create_polygon (x - 8*escala/20, y + escala,  # Cama dreta.\n",
    "                            x - 8*escala/20 + escala/8, y + escala,\n",
    "                            x - 8*escala/20 + escala/8, y + 2*escala,\n",
    "                            x - 8*escala/20, y + 2*escala)\n",
    "    finestra.create_polygon (x + 8*escala/20, y + escala,  # Cama esquerra.\n",
    "                            x + 8*escala/20 - escala/8, y + escala,\n",
    "                            x + 8*escala/20 - escala/8, y + 2*escala,\n",
    "                            x + 8*escala/20, y + 2*escala)"
   ]
  },
  {
   "cell_type": "markdown",
   "metadata": {},
   "source": [
    "### Exercici 10: Ninot\n",
    "He preferit aplicar el color com a vora de la cara, el cos, els braços i les cames i no com a farcit, per tal que es distingeixi mínimament el dibuix resultant. Després, he creat una llista amb 7 colors i li'n he fet triar un aleatori per a cada iteració del bucle for. Prèviament, he modificat totes les funcions per a que rebin els colors com a argument."
   ]
  },
  {
   "cell_type": "code",
   "execution_count": 30,
   "metadata": {},
   "outputs": [],
   "source": [
    "def dibuixar_ulls (finestra, x, y, escala, color):\n",
    "    finestra.create_oval (x - escala/6 - escala/10, y - escala/10, # Ull dret.\n",
    "                         x - escala/6 + escala/10, y + escala/10,\n",
    "                         fill = color)\n",
    "    finestra.create_oval (x + escala/6 - escala/10, y - escala/10, # Ull esquerre.\n",
    "                         x + escala/6 + escala/10, y + escala/10,\n",
    "                         fill = color)\n",
    "def dibuixar_nas (finestra, x, y, escala, color):\n",
    "    finestra.create_polygon (x, y - escala/10, x + escala/20, y + escala*(3**(1/2))/20, \n",
    "                            x - escala/20, y + escala*(3**(1/2))/20,\n",
    "                            fill = color)\n",
    "def dibuixar_boca (finestra, x, y, escala, color):\n",
    "    finestra.create_arc (x - escala/8, y - escala/8,\n",
    "                        x + escala/8, y + escala/8,\n",
    "                        start = 190,\n",
    "                        extent = 160,\n",
    "                        style = tkinter.ARC,\n",
    "                        outline = color)\n",
    "def dibuixar_cara (finestra, x, y, escala, color):\n",
    "    finestra.create_oval (x - escala/2, y - escala/2,\n",
    "                         x + escala/2, y + escala/2,\n",
    "                         outline = color)\n",
    "def dibuixar_cap (finestra, x, y, escala, color):\n",
    "    dibuixar_ulls (finestra, x, y - escala/4, escala, color)\n",
    "    dibuixar_nas (finestra, x, y, escala, color)\n",
    "    dibuixar_boca (finestra, x, y + escala/5, escala, color)\n",
    "    dibuixar_cara (finestra, x, y, escala, color)\n",
    "def dibuixar_cos (finestra, x, y, escala, color):\n",
    "    finestra.create_polygon (x - escala/2, y - escala,\n",
    "                            x + escala/2, y - escala,\n",
    "                            x + escala/2, y + escala,\n",
    "                            x - escala/2, y + escala,\n",
    "                            fill = '',\n",
    "                            outline = color)\n",
    "def dibuixar_braços (finestra, x, y, escala, color):\n",
    "    finestra.create_polygon (x - escala/2, y - 9*escala/10,  # Braç dret.\n",
    "                            x - escala/2, y - 9*escala/10 + escala/8,\n",
    "                            x - 3*escala/2, y - 9*escala/10 + escala/8,\n",
    "                            x - 3*escala/2, y - 9*escala/10,\n",
    "                            fill = '',\n",
    "                            outline = color)\n",
    "    finestra.create_polygon (x + escala/2, y - 9*escala/10,  # Braç esquerre.\n",
    "                            x + escala/2, y - 9*escala/10 + escala/8,\n",
    "                            x + 3*escala/2, y - 9*escala/10 + escala/8,\n",
    "                            x + 3*escala/2, y - 9*escala/10,\n",
    "                            fill = '',\n",
    "                            outline = color)\n",
    "def dibuixar_cames (finestra, x, y, escala, color):\n",
    "    finestra.create_polygon (x - 8*escala/20, y + escala,  # Cama dreta.\n",
    "                            x - 8*escala/20 + escala/8, y + escala,\n",
    "                            x - 8*escala/20 + escala/8, y + 2*escala,\n",
    "                            x - 8*escala/20, y + 2*escala,\n",
    "                            fill = '',\n",
    "                            outline = color)\n",
    "    finestra.create_polygon (x + 8*escala/20, y + escala,  # Cama esquerra.\n",
    "                            x + 8*escala/20 - escala/8, y + escala,\n",
    "                            x + 8*escala/20 - escala/8, y + 2*escala,\n",
    "                            x + 8*escala/20, y + 2*escala,\n",
    "                            fill = '',\n",
    "                            outline = color)\n",
    "def dibuixar_ninot (finestra, x, y, escala, color):\n",
    "    dibuixar_cap (finestra, x, y - 3*escala/2, escala, color)\n",
    "    dibuixar_cos (finestra, x, y, escala, color)\n",
    "    dibuixar_braços (finestra, x, y, escala, color)\n",
    "    dibuixar_cames (finestra, x, y, escala, color)\n",
    "    \n",
    "import random\n",
    "import tkinter\n",
    "llis = ['black', 'blue', 'yellow', 'green', 'orange', 'pink', 'red']\n",
    "root = tkinter.Tk()\n",
    "window = tkinter.Canvas(root,\n",
    "                    borderwidth=20,\n",
    "                    background='white',\n",
    "                    cursor='circle',\n",
    "                    height=240,\n",
    "                    width=320)\n",
    "window.pack()\n",
    "for k in range(0, 5):\n",
    "    i = random.randint(0, 320)\n",
    "    j = random.randint(0, 240)\n",
    "    l = random.randint(10, 150)\n",
    "    c = random.choice(llis)\n",
    "    dibuixar_ninot (window, i, j, l, c)\n",
    "window.mainloop()"
   ]
  },
  {
   "cell_type": "markdown",
   "metadata": {},
   "source": [
    "### Millora opcional 1\n",
    "Per tal de realitzar aquesta millora, he reposicionat els modificadors de posició dins la funció cap, i els he simplificat."
   ]
  },
  {
   "cell_type": "code",
   "execution_count": 34,
   "metadata": {
    "collapsed": true
   },
   "outputs": [],
   "source": [
    "def dibuixar_ulls (finestra, x, y, escala, color):\n",
    "    finestra.create_oval (x - escala/6 - escala/10, y - escala/10, # Ull dret.\n",
    "                         x - escala/6 + escala/10, y + escala/10,\n",
    "                         fill = color)\n",
    "    finestra.create_oval (x + escala/6 - escala/10, y - escala/10, # Ull esquerre.\n",
    "                         x + escala/6 + escala/10, y + escala/10,\n",
    "                         fill = color)\n",
    "def dibuixar_nas (finestra, x, y, escala, color):\n",
    "    finestra.create_polygon (x, y - escala/10, x + escala/20, y + escala*(3**(1/2))/20, \n",
    "                            x - escala/20, y + escala*(3**(1/2))/20,\n",
    "                            fill = color)\n",
    "def dibuixar_boca (finestra, x, y, escala, color):\n",
    "    finestra.create_arc (x - escala/8, y - escala/8,\n",
    "                        x + escala/8, y + escala/8,\n",
    "                        start = 190,\n",
    "                        extent = 160,\n",
    "                        style = tkinter.ARC,\n",
    "                        outline = color)\n",
    "def dibuixar_cara (finestra, x, y, escala, color):\n",
    "    finestra.create_oval (x - escala/2, y - escala/2,\n",
    "                         x + escala/2, y + escala/2,\n",
    "                         outline = color)\n",
    "def dibuixar_cap (finestra, x, y, escala, color):\n",
    "    dibuixar_ulls (finestra, x, y - 7*escala/4, escala, color)\n",
    "    dibuixar_nas (finestra, x, y - 3*escala/2, escala, color)\n",
    "    dibuixar_boca (finestra, x, y - 13*escala/10, escala, color)\n",
    "    dibuixar_cara (finestra, x, y - 3*escala/2, escala, color)"
   ]
  },
  {
   "cell_type": "markdown",
   "metadata": {},
   "source": [
    "### Millora opcional 2\n",
    "Introduïm els valors demanats a la funció i la reduïm de manera que només requereixi la finestra i el color. No obstant això, com el punt donat és (0, 0), en un canvas com el que coneixem només apareixerà una quarta part del ninot."
   ]
  },
  {
   "cell_type": "code",
   "execution_count": 36,
   "metadata": {
    "collapsed": true
   },
   "outputs": [],
   "source": [
    "def dibuixar_ulls (finestra, color):\n",
    "    finestra.create_oval (-27, -185, # Ull dret.\n",
    "                         -7, -165,\n",
    "                         fill = color)\n",
    "    finestra.create_oval (7, -185, # Ull esquerre.\n",
    "                         27, -165,\n",
    "                         fill = color)\n",
    "def dibuixar_nas (finestra, color):\n",
    "    finestra.create_polygon (0, -160, 5, -141, \n",
    "                            -5, -141,\n",
    "                            fill = color)\n",
    "def dibuixar_boca (finestra, color):\n",
    "    finestra.create_arc (-13, -143,\n",
    "                        13, -117,\n",
    "                        start = 190,\n",
    "                        extent = 160,\n",
    "                        style = tkinter.ARC,\n",
    "                        outline = color)\n",
    "def dibuixar_cara (finestra, color):\n",
    "    finestra.create_oval (-50, -200,\n",
    "                         50, -100,\n",
    "                         outline = color)\n",
    "def dibuixar_cap (finestra, color):\n",
    "    dibuixar_ulls (finestra, color)\n",
    "    dibuixar_nas (finestra, color)\n",
    "    dibuixar_boca (finestra, color)\n",
    "    dibuixar_cara (finestra, color)\n",
    "def dibuixar_cos (finestra, color):\n",
    "    finestra.create_polygon (-50, -100,\n",
    "                            50, -100,\n",
    "                            50, 100,\n",
    "                            -50, 100,\n",
    "                            fill = '',\n",
    "                            outline = color)\n",
    "def dibuixar_braços (finestra, color):\n",
    "    finestra.create_polygon (-50, -90,  # Braç dret.\n",
    "                            -50, -10,\n",
    "                            -150, -10,\n",
    "                            -150, -90,\n",
    "                            fill = '',\n",
    "                            outline = color)\n",
    "    finestra.create_polygon (50, -90,  # Braç esquerre.\n",
    "                            50, -10,\n",
    "                            150, -10,\n",
    "                            150, -90,\n",
    "                            fill = '',\n",
    "                            outline = color)\n",
    "def dibuixar_cames (finestra, color):\n",
    "    finestra.create_polygon (-40, 100,  # Cama dreta.\n",
    "                            -28, 100,\n",
    "                            -28, 200,\n",
    "                            -40, 200,\n",
    "                            fill = '',\n",
    "                            outline = color)\n",
    "    finestra.create_polygon (40, 100,  # Cama esquerra.\n",
    "                            28, 100,\n",
    "                            28, 200,\n",
    "                            40, 200,\n",
    "                            fill = '',\n",
    "                            outline = color)\n",
    "def dibuixar_ninot (finestra, color):\n",
    "    dibuixar_cap (finestra, color)\n",
    "    dibuixar_cos (finestra, color)\n",
    "    dibuixar_braços (finestra, color)\n",
    "    dibuixar_cames (finestra, color)\n",
    "    \n",
    "import tkinter\n",
    "root = tkinter.Tk()\n",
    "window = tkinter.Canvas(root,\n",
    "                    borderwidth=20,\n",
    "                    background='white',\n",
    "                    cursor='circle',\n",
    "                    height=240,\n",
    "                    width=320)\n",
    "window.pack()\n",
    "dibuixar_ninot (window, 'black')\n",
    "window.mainloop()"
   ]
  },
  {
   "cell_type": "code",
   "execution_count": null,
   "metadata": {
    "collapsed": true
   },
   "outputs": [],
   "source": []
  }
 ],
 "metadata": {
  "kernelspec": {
   "display_name": "Python 3",
   "language": "python",
   "name": "python3"
  },
  "language_info": {
   "codemirror_mode": {
    "name": "ipython",
    "version": 3
   },
   "file_extension": ".py",
   "mimetype": "text/x-python",
   "name": "python",
   "nbconvert_exporter": "python",
   "pygments_lexer": "ipython3",
   "version": "3.6.1"
  }
 },
 "nbformat": 4,
 "nbformat_minor": 2
}
