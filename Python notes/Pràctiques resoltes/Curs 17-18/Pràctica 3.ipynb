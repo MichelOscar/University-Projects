{
 "cells": [
  {
   "cell_type": "code",
   "execution_count": 20,
   "metadata": {},
   "outputs": [
    {
     "name": "stdout",
     "output_type": "stream",
     "text": [
      "1000000000000\n",
      "<class 'int'>\n",
      "40\n",
      "\n",
      "999999999902\n",
      "<class 'int'>\n",
      "40\n",
      "\n",
      "2000000699804\n",
      "<class 'int'>\n",
      "41\n",
      "\n",
      "400000279921648972563841600\n",
      "<class 'int'>\n",
      "89\n",
      "\n"
     ]
    }
   ],
   "source": [
    "#Exercici 1.1\n",
    "enter = 100  # Definim el valor de la variable \"enter\" i li donem el valor 100\n",
    "enter = enter**2\n",
    "enter = enter**3  # Modifiquem el valor d'\"enter\".\n",
    "print (enter)  # Esbrinem el valor d'\"enter\".\n",
    "print (type (enter))  # Esbrinem el tipus d'\"enter\".\n",
    "print (enter.bit_length())  # Esbrinem els bits utilitzats per representar \"enter\".\n",
    "print (\n",
    ")  # Fem aparèixer un salt de línia per a que quedi tot més clar.\n",
    "enter = enter-100\n",
    "enter = enter+2\n",
    "print (enter)  # Repetim el procés anterior unes quantes vegades, modificant les operacions implicades.\n",
    "print (type (enter))\n",
    "print (enter.bit_length())\n",
    "print (\n",
    ")\n",
    "enter = enter+350000\n",
    "enter = enter+enter\n",
    "print (enter)\n",
    "print (type (enter))\n",
    "print (enter.bit_length())\n",
    "print (\n",
    ")\n",
    "enter = enter**2\n",
    "enter = enter *100\n",
    "print (enter)\n",
    "print (type (enter))\n",
    "print (enter.bit_length())\n",
    "print (\n",
    "    \n",
    ")\n",
    "# Fins a l'últim pas, la calculadora de l'ordinador no ha tingut problema en calcular aquests nombres. A l'últim, però, \n",
    "# me l'ha hagut d'ensenyar en notació científica.\n",
    "\n",
    "#Exercici 1.2"
   ]
  },
  {
   "cell_type": "code",
   "execution_count": 35,
   "metadata": {},
   "outputs": [
    {
     "name": "stdout",
     "output_type": "stream",
     "text": [
      "x_1 = \n",
      "1.25\n",
      "\n",
      "x_2 = \n",
      "-2.0\n"
     ]
    }
   ],
   "source": [
    "# Exercici 2\n",
    "a = 4  # Definim les tres variables originals (coeficients de l'equació).\n",
    "b = 3\n",
    "c = -10\n",
    "x_1 = (-b + (b**2 - 4*a*c)**(1/2))/(2*a)  # Calculem el valor d'x per a l'arrel positiva.\n",
    "x_2 = (-b - (b**2 - 4*a*c)**(1/2))/(2*a)  # Calculem el valor d'x per a l'arrel negativa.\n",
    "print (\"x_1 = \")\n",
    "print (x_1)  # Espressem la primera solució.\n",
    "print (\n",
    ")  # Donem una certa coherència a la resposta.\n",
    "print (\"x_2 = \")\n",
    "print (x_2)  # Expressem la segona solució."
   ]
  },
  {
   "cell_type": "markdown",
   "metadata": {},
   "source": [
    "A l'exemple 3, el resultat és \"false\" perquè no es compleixen totes dues condicions, és a dir, no tots dos valors són \"true\", com exigeix \"and\".  \n",
    "Exercici 3:\n",
    "\n",
    "| || ||'and'||'or'|\n",
    "|:----------:||:------------:||:-----------:||:-------------:|\n",
    "| True || True || True || True |\n",
    "| True || False || False || True |\n",
    "| False || True || False || True |\n",
    "| False || False || False || False |"
   ]
  },
  {
   "cell_type": "code",
   "execution_count": 39,
   "metadata": {},
   "outputs": [
    {
     "name": "stdout",
     "output_type": "stream",
     "text": [
      "True\n",
      "False\n",
      "True\n",
      "True\n",
      "False\n"
     ]
    }
   ],
   "source": [
    "a = False  # Definim les variables booleanes.\n",
    "b = False\n",
    "c = True\n",
    "o1 = a and b or c  # Surt True perquè, en no haver-hi parèntesi, l'operació \"or\" es fa després de l'\"and\" i identifica que c és True.\n",
    "o2 = a and (b or c)  # Surt False perquè primer es realitza \"or\" en haver-hi parèntesi, i l'\"and\", que es realitza després, troba que a és False.\n",
    "o3 = (a and b) or c  # Surt True perquè, en realitzar-se \"and\" primer degut al parèntesi, passa el mateix que a o1.\n",
    "o4 = not (a and b) or c  # Surt True perquè, en no haver-hi parèntesi, el \"not\" només s'aplica al resultat d'\"and\". Per tant, l'\"or\" identifica que c és True independentment del \"not\".\n",
    "o5 = not ((a and b) or c)  # Passa el contrari que a o4 ja que el \"not\" abarca totes dues operacions degut al parèntesi.\n",
    "print (o1)\n",
    "print (o2)\n",
    "print (o3)\n",
    "print (o4)\n",
    "print (o5)"
   ]
  },
  {
   "cell_type": "code",
   "execution_count": 40,
   "metadata": {},
   "outputs": [
    {
     "ename": "TypeError",
     "evalue": "must be str, not int",
     "output_type": "error",
     "traceback": [
      "\u001b[1;31m---------------------------------------------------------------------------\u001b[0m",
      "\u001b[1;31mTypeError\u001b[0m                                 Traceback (most recent call last)",
      "\u001b[1;32m<ipython-input-40-76037ba601b7>\u001b[0m in \u001b[0;36m<module>\u001b[1;34m()\u001b[0m\n\u001b[0;32m      2\u001b[0m \u001b[0ma\u001b[0m \u001b[1;33m=\u001b[0m \u001b[1;34m\"hola \"\u001b[0m\u001b[1;33m\u001b[0m\u001b[0m\n\u001b[0;32m      3\u001b[0m \u001b[0mb\u001b[0m \u001b[1;33m=\u001b[0m \u001b[1;36m2\u001b[0m\u001b[1;33m\u001b[0m\u001b[0m\n\u001b[1;32m----> 4\u001b[1;33m \u001b[0mprint\u001b[0m \u001b[1;33m(\u001b[0m\u001b[0ma\u001b[0m \u001b[1;33m+\u001b[0m \u001b[0mb\u001b[0m\u001b[1;33m)\u001b[0m\u001b[1;33m\u001b[0m\u001b[0m\n\u001b[0m",
      "\u001b[1;31mTypeError\u001b[0m: must be str, not int"
     ]
    }
   ],
   "source": [
    "# Exercici 5 part 1\n",
    "a = \"hola \"  # Declarem les variables i intentem concatenar-les.\n",
    "b = 2\n",
    "print (a + b)"
   ]
  },
  {
   "cell_type": "code",
   "execution_count": 41,
   "metadata": {},
   "outputs": [
    {
     "name": "stdout",
     "output_type": "stream",
     "text": [
      "hola 2\n"
     ]
    }
   ],
   "source": [
    "# Exercici 5 part 2\n",
    "a = \"hola \"  # Repetim el procés anterior convertint b en string.\n",
    "b = 2\n",
    "print (a + str(b))"
   ]
  },
  {
   "cell_type": "code",
   "execution_count": 44,
   "metadata": {},
   "outputs": [
    {
     "name": "stdout",
     "output_type": "stream",
     "text": [
      "x_1 = \n",
      "(-0.09999999999999991+1.4106735979665885j)\n",
      "\n",
      "x_2 = \n",
      "(-0.10000000000000009-1.4106735979665885j)\n"
     ]
    }
   ],
   "source": [
    "a = 5  # Declarem les tres variables.\n",
    "b = 1\n",
    "c = 10\n",
    "x_1 = (-b + (b**2 - 4*a*c)**(1/2))/(2*a)  # Calculem el valor d'x per a l'arrel complexa sumada.\n",
    "x_2 = (-b - (b**2 - 4*a*c)**(1/2))/(2*a)  # Calculem el valor d'x per a l'arrel complexa restada.\n",
    "print (\"x_1 = \")\n",
    "print (x_1)  # Espressem la primera solució.\n",
    "print (\n",
    ")  # Donem una certa coherència a la resposta.\n",
    "print (\"x_2 = \")\n",
    "print (x_2)  # Expressem la segona solució."
   ]
  },
  {
   "cell_type": "code",
   "execution_count": null,
   "metadata": {
    "collapsed": true
   },
   "outputs": [],
   "source": [
    "print (\"Per tal de resoldre una equació de segon grau amb la forma ax^2 + bx + c = y (on y=o)\")  # Escrivim un enunciat coherent.\n",
    "a = float (input (\"Quin és el valor d'a?\")) # Demanem el valor d'a i la convertim en float.\n",
    "b = float (input (\"I el de b?\"))  # Ídem per a b.\n",
    "c = float (input (\"I el de c?\"))  # Ídem per a c.\n",
    "x_1 = (-b + (b**2 - 4*a*c)**(1/2))/(2*a)  # Calculem el valor d'x per a l'arrel positiva.\n",
    "x_2 = (-b - (b**2 - 4*a*c)**(1/2))/(2*a)  # Calculem el valor d'x per a l'arrel negativa.\n",
    "print (\"x_1 = \")\n",
    "print (x_1)  # Espressem la primera solució.\n",
    "print (\n",
    ")  # Donem una certa coherència a la resposta.\n",
    "print (\"x_2 = \")\n",
    "print (x_2)  # Expressem la segona solució."
   ]
  },
  {
   "cell_type": "code",
   "execution_count": null,
   "metadata": {
    "collapsed": true
   },
   "outputs": [],
   "source": []
  }
 ],
 "metadata": {
  "kernelspec": {
   "display_name": "Python 3",
   "language": "python",
   "name": "python3"
  },
  "language_info": {
   "codemirror_mode": {
    "name": "ipython",
    "version": 3
   },
   "file_extension": ".py",
   "mimetype": "text/x-python",
   "name": "python",
   "nbconvert_exporter": "python",
   "pygments_lexer": "ipython3",
   "version": "3.6.1"
  }
 },
 "nbformat": 4,
 "nbformat_minor": 2
}
