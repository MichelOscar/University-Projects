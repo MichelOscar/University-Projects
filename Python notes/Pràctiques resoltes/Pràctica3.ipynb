{
 "cells": [
  {
   "cell_type": "markdown",
   "metadata": {},
   "source": [
    "###Exercici 1"
   ]
  },
  {
   "cell_type": "code",
   "execution_count": 3,
   "metadata": {
    "collapsed": false
   },
   "outputs": [
    {
     "name": "stdout",
     "output_type": "stream",
     "text": [
      "100\n",
      "<class 'int'> tipus de variable\n",
      "7 bits utilitzats\n",
      "0x64 format hexadecimal \n",
      "\n",
      "10000\n",
      "<class 'int'> tipus de variable\n",
      "14 bits utilitzats\n",
      "0x2710 format hexadecimal \n",
      "\n",
      "100000000\n",
      "<class 'int'> tipus de variable\n",
      "27 bits utilitzats\n",
      "0x5f5e100 format hexadecimal \n",
      "\n",
      "10000000000000000\n",
      "<class 'int'> tipus de variable\n",
      "54 bits utilitzats\n",
      "0x2386f26fc10000 format hexadecimal\n"
     ]
    }
   ],
   "source": [
    "enter=100\n",
    "print(enter)\n",
    "print(type(enter),\"tipus de variable\")\n",
    "print(enter.bit_length(),\"bits utilitzats\")\n",
    "print(hex(enter),\"format hexadecimal \\n\")\n",
    "# repetim el procés\n",
    "enter=enter**2\n",
    "print(enter)\n",
    "print(type(enter),\"tipus de variable\")\n",
    "print(enter.bit_length(),\"bits utilitzats\")\n",
    "print(hex(enter),\"format hexadecimal \\n\")\n",
    "\n",
    "enter=enter**2\n",
    "print(enter)\n",
    "print(type(enter),\"tipus de variable\")\n",
    "print(enter.bit_length(),\"bits utilitzats\")\n",
    "print(hex(enter),\"format hexadecimal \\n\")\n",
    "\n",
    "enter=enter**2\n",
    "print(enter)\n",
    "print(type(enter),\"tipus de variable\")\n",
    "print(enter.bit_length(),\"bits utilitzats\")\n",
    "print(hex(enter),\"format hexadecimal\")"
   ]
  },
  {
   "cell_type": "markdown",
   "metadata": {},
   "source": [
    ">Després de cada valor (que és l'anterior al quadrat) veiem el tipus de variable (sempre el mateix), el nombre de bits que python utilitza per a emmagatzemar-la (que es va duplicant) i el format hexadecimal de la variable."
   ]
  },
  {
   "cell_type": "markdown",
   "metadata": {},
   "source": [
    "###Exercici 2\n",
    "$$4x²+3x-10=0$$"
   ]
  },
  {
   "cell_type": "code",
   "execution_count": 6,
   "metadata": {
    "collapsed": false
   },
   "outputs": [
    {
     "name": "stdout",
     "output_type": "stream",
     "text": [
      "Quant val x?\n",
      "x1=1.25 \t x2=-2.0\n"
     ]
    }
   ],
   "source": [
    "print(\"Quant val x?\")\n",
    "\n",
    "a=4\n",
    "b=3\n",
    "c=-10\n",
    "# ax²+bx+c=0\n",
    "x1=(-b+(b**2-4*a*c)**0.5)/(2*a) # primera solució\n",
    "x2=(-b-(b**2-4*a*c)**0.5)/(2*a) # segona solució\n",
    "\n",
    "print(\"x1=\"+str(float(x1)),\"\\t x2=\"+str(float(x2)))"
   ]
  },
  {
   "cell_type": "markdown",
   "metadata": {},
   "source": [
    ">En aquest cas forço que la solució sigui real, per tant si introdueixes unes variables a,b,c que donin una solució complexa donarà error."
   ]
  },
  {
   "cell_type": "markdown",
   "metadata": {},
   "source": [
    "###Exercici 3"
   ]
  },
  {
   "cell_type": "code",
   "execution_count": 4,
   "metadata": {
    "collapsed": false
   },
   "outputs": [
    {
     "name": "stdout",
     "output_type": "stream",
     "text": [
      "True True\n",
      "False True\n",
      "False True\n",
      "False False\n"
     ]
    }
   ],
   "source": [
    "a=True\n",
    "b=False\n",
    "# operacions amb and\n",
    "c1=a and a\n",
    "c2=a and b\n",
    "c3=b and a\n",
    "c4=b and b\n",
    "# operacions amb or\n",
    "d1=a or a\n",
    "d2=a or b\n",
    "d3=b or a\n",
    "d4=b or b\n",
    "print(c1,d1)\n",
    "print(c2,d2)\n",
    "print(c3,d3)\n",
    "print(c4,d4)"
   ]
  },
  {
   "cell_type": "markdown",
   "metadata": {},
   "source": [
    "| |'and'|'or'|\n",
    "|:---:|:---:|:---:|\n",
    "|**True  True**|True|True|\n",
    "|**True  False**|False|True|\n",
    "|**False  True**|False|True|\n",
    "|**False  False**|False|False|"
   ]
  },
  {
   "cell_type": "markdown",
   "metadata": {},
   "source": [
    "###Exercici 4"
   ]
  },
  {
   "cell_type": "code",
   "execution_count": 10,
   "metadata": {
    "collapsed": false
   },
   "outputs": [
    {
     "name": "stdout",
     "output_type": "stream",
     "text": [
      "True\n",
      "False\n",
      "True\n",
      "True\n",
      "False\n"
     ]
    }
   ],
   "source": [
    "a=False\n",
    "b=False\n",
    "c=True\n",
    "# operacions lògiques\n",
    "o1=a and b or c\n",
    "o2=a and (b or c)\n",
    "o3=(a and b) or c\n",
    "o4=not(a and b) or c\n",
    "o5=not((a and b)or c)\n",
    "print(o1)\n",
    "print(o2)\n",
    "print(o3)\n",
    "print(o4)\n",
    "print(o5)"
   ]
  },
  {
   "cell_type": "markdown",
   "metadata": {},
   "source": [
    ">#####Justificacions:\n",
    ">* o1=True: Fa una operació \"or True\", que sempre donarà vertader\n",
    "* o2=False: L'última operació és un \"and False\", que sempre dóna fals\n",
    "* o3=True: L'última operació és un \"or True\", que sempre dóna vertader\n",
    "* o4=True: L'última operació és un \"or True\", que sempre dóna vertader\n",
    "* o5=False: L'última operació és un \"or True\", que sempre dóna vertader, però en última instància el nega"
   ]
  },
  {
   "cell_type": "markdown",
   "metadata": {},
   "source": [
    "###Exercici 5"
   ]
  },
  {
   "cell_type": "code",
   "execution_count": 12,
   "metadata": {
    "collapsed": false
   },
   "outputs": [
    {
     "ename": "TypeError",
     "evalue": "Can't convert 'int' object to str implicitly",
     "output_type": "error",
     "traceback": [
      "\u001b[1;31m---------------------------------------------------------------------------\u001b[0m\n\u001b[1;31mTypeError\u001b[0m                                 Traceback (most recent call last)",
      "\u001b[1;32m<ipython-input-12-ddb99611d737>\u001b[0m in \u001b[0;36m<module>\u001b[1;34m()\u001b[0m\n\u001b[0;32m      1\u001b[0m \u001b[0ma\u001b[0m\u001b[1;33m=\u001b[0m\u001b[1;34m\"hola \"\u001b[0m\u001b[1;33m\u001b[0m\u001b[0m\n\u001b[0;32m      2\u001b[0m \u001b[0mb\u001b[0m\u001b[1;33m=\u001b[0m\u001b[1;36m2\u001b[0m\u001b[1;33m\u001b[0m\u001b[0m\n\u001b[1;32m----> 3\u001b[1;33m \u001b[0mprint\u001b[0m\u001b[1;33m(\u001b[0m\u001b[0ma\u001b[0m\u001b[1;33m+\u001b[0m\u001b[0mb\u001b[0m\u001b[1;33m)\u001b[0m\u001b[1;33m\u001b[0m\u001b[0m\n\u001b[0m",
      "\u001b[1;31mTypeError\u001b[0m: Can't convert 'int' object to str implicitly"
     ]
    }
   ],
   "source": [
    "a=\"hola \"\n",
    "b=2\n",
    "print(a+b)"
   ]
  },
  {
   "cell_type": "markdown",
   "metadata": {},
   "source": [
    ">No es poden sumar una dada numèrica amb una cadena, primer s'ha de fer un cast convertint la numèrica a cadena per a poder concatenar-les."
   ]
  },
  {
   "cell_type": "markdown",
   "metadata": {},
   "source": [
    "###Exercici 6\n",
    "$$4x²+3x+10=0$$"
   ]
  },
  {
   "cell_type": "code",
   "execution_count": 12,
   "metadata": {
    "collapsed": false
   },
   "outputs": [
    {
     "name": "stdout",
     "output_type": "stream",
     "text": [
      "Quant val x?\n",
      "x1=(-0.3749999999999999+1.5360257159305635j) \t x2=(-0.3750000000000001-1.5360257159305635j)\n"
     ]
    }
   ],
   "source": [
    "print(\"Quant val x?\")\n",
    "\n",
    "a=4\n",
    "b=3\n",
    "c=10\n",
    "# ax²+bx+c=0\n",
    "x1=(-b+(b**2-4*a*c)**0.5)/(2*a) # primera solució\n",
    "x2=(-b-(b**2-4*a*c)**0.5)/(2*a) # segona solució\n",
    "\n",
    "print(\"x1=\"+str(complex(x1)),\"\\t x2=\"+str(complex(x2)))"
   ]
  },
  {
   "cell_type": "markdown",
   "metadata": {},
   "source": [
    ">Aquí forço una solució complexa, evitant l'error."
   ]
  },
  {
   "cell_type": "markdown",
   "metadata": {},
   "source": [
    "###Exercici 7\n",
    "$$ax²+bx+c=y$$"
   ]
  },
  {
   "cell_type": "code",
   "execution_count": 10,
   "metadata": {
    "collapsed": false
   },
   "outputs": [
    {
     "name": "stdout",
     "output_type": "stream",
     "text": [
      "Quant bal x si y=0\n",
      "Doneu valor a a=2\n",
      "Doneu valor a b=3\n",
      "Doneu valor a c=4\n",
      "x1=(-0.7499999999999999+1.1989578808281798j) \t x2=(-0.7500000000000001-1.1989578808281798j)\n"
     ]
    }
   ],
   "source": [
    "print(\"Quant bal x si y=0\")\n",
    "\n",
    "a=complex(input(\"Doneu valor a a=\"))\n",
    "b=complex(input(\"Doneu valor a b=\"))\n",
    "c=complex(input(\"Doneu valor a c=\"))\n",
    "# ax²+bx+c=0\n",
    "x1=(-b+(b**2-4*a*c)**0.5)/(2*a) # primera solució\n",
    "x2=(-b-(b**2-4*a*c)**0.5)/(2*a) # segona solució\n",
    "\n",
    "print(\"x1=\"+str(x1),\"\\t x2=\"+str(x2))"
   ]
  },
  {
   "cell_type": "markdown",
   "metadata": {},
   "source": [
    ">Després d'executar el programa et demanarà el valor de a,b,c. Les solucions vindran en variable real o complexa segons escaigui, ja que no s'ha demanat un tipus de variable específic com en els anteriors programes."
   ]
  },
  {
   "cell_type": "code",
   "execution_count": null,
   "metadata": {
    "collapsed": false
   },
   "outputs": [],
   "source": []
  }
 ],
 "metadata": {
  "kernelspec": {
   "display_name": "Python 3",
   "language": "python",
   "name": "python3"
  },
  "language_info": {
   "codemirror_mode": {
    "name": "ipython",
    "version": 3
   },
   "file_extension": ".py",
   "mimetype": "text/x-python",
   "name": "python",
   "nbconvert_exporter": "python",
   "pygments_lexer": "ipython3",
   "version": "3.4.3"
  }
 },
 "nbformat": 4,
 "nbformat_minor": 0
}
