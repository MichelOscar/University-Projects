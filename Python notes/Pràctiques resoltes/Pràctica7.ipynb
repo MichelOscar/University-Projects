{
 "cells": [
  {
   "cell_type": "markdown",
   "metadata": {},
   "source": [
    "#Buscamines"
   ]
  },
  {
   "cell_type": "code",
   "execution_count": 1,
   "metadata": {
    "collapsed": true
   },
   "outputs": [],
   "source": [
    "# Llibreries\n",
    "import turtle as trt\n",
    "import random as rd"
   ]
  },
  {
   "cell_type": "markdown",
   "metadata": {},
   "source": [
    "###Entrada de dades\n",
    "Implementeu una funció amb les especificacions següents de manera que es pugui usar per demanar\n",
    "el valor enter:\n",
    "* Nom: demana enter()\n",
    "* Arguments: (text,min,max) amb valor per defecte min = 0 i max = 9\n",
    "* Retorn: un valor enter min ≤ i ≤ max\n",
    "* Funcionament: ha de demanar per teclat un valor enter donant el text que es rep com a argument. Si\n",
    "no verifica que min ≤ i ≤ max s’ha de tornar a demanar. Quan es doni un valor en el rang acceptable\n",
    "l’ha de retornar"
   ]
  },
  {
   "cell_type": "code",
   "execution_count": 2,
   "metadata": {
    "collapsed": true
   },
   "outputs": [],
   "source": [
    "def demana_enter(text,min=0,max=9):\n",
    "    '''Demana un nombre enter dins del rang especificat.\n",
    "    Aquest rang ve per defecte entre el 0 i el 9.\n",
    "    Arguments: text(string del input), min(mínim per defecte 0), max(màxim per defecte 9)'''\n",
    "    enter=int(input(text))\n",
    "    if enter<min or enter>max:\n",
    "        print(\"Aquest valor ha d'estar entre el {} i el {}.\".format(min,max))\n",
    "        return demana_enter(text,min,max)\n",
    "    else:\n",
    "        return enter"
   ]
  },
  {
   "cell_type": "markdown",
   "metadata": {},
   "source": [
    "###Inicialització de la finestra\n",
    "Implementeu una funció que inicialitzi la part finestra gràfica (turtle) del joc:\n",
    "* Nom: ini finestra()\n",
    "* Ha de crear una finestra de 600 × 600 píxels amb\n",
    "  * Color de fons al vostre gust\n",
    "  * Títol “Buscamines”\n",
    "* Ha de retornar la finestra inicialitzada, que es podrà usar per a futures manipulacions"
   ]
  },
  {
   "cell_type": "code",
   "execution_count": 3,
   "metadata": {
    "collapsed": true
   },
   "outputs": [],
   "source": [
    "def ini_finestra():\n",
    "    '''Fa la finestra.\n",
    "    Sense arguments.'''\n",
    "    wn=trt.Screen()\n",
    "    wn.setup(600,600)\n",
    "    wn.title(\"Buscamines\")\n",
    "    wn.bgcolor(\"white\")\n",
    "    return wn"
   ]
  },
  {
   "cell_type": "markdown",
   "metadata": {},
   "source": [
    "###Inicialització de la tortuga\n",
    "Implementeu una funció que inicialitzi la tortuga que usarem pel joc:\n",
    "* Nom: ini tortuga()\n",
    "* Ha de crear la tortuga amb:\n",
    "  * Gruix 1\n",
    "  * Color negre\n",
    "  * Velocitat 10\n",
    "* Ha de retornar la tortuga creada, que s’usarà per traçar els gràfics"
   ]
  },
  {
   "cell_type": "code",
   "execution_count": 4,
   "metadata": {
    "collapsed": true
   },
   "outputs": [],
   "source": [
    "def ini_tortuga():\n",
    "    '''Fa la tortuga que dibuixa la graella i marca les jugades.\n",
    "    Sense arguments'''\n",
    "    tortuga=trt.Turtle()\n",
    "    tortuga.hideturtle()\n",
    "    tortuga.pensize(1)\n",
    "    tortuga.color(\"black\")\n",
    "    tortuga.speed(10)\n",
    "    tortuga.hideturtle() # Amago la tortuga per a què no estorbi mentre es juga\n",
    "    return tortuga"
   ]
  },
  {
   "cell_type": "markdown",
   "metadata": {},
   "source": [
    "###Traçat de la graella\n",
    "Implementeu una funció que traci una graella de 10 × 10 usant la tortuga creada anteriorment\n",
    "* Nom: ini graella()\n",
    "* Arguments: (tortuga)\n",
    ">Nota: introduida la millora opcional 1."
   ]
  },
  {
   "cell_type": "code",
   "execution_count": 5,
   "metadata": {
    "collapsed": true
   },
   "outputs": [],
   "source": [
    "def ini_graella(tortuga):\n",
    "    '''Dibuixa una graella numerada.\n",
    "    Arguments: tortuga(turtle que dibuixa)'''\n",
    "    tortuga.speed(0)\n",
    "    for angle in [0,90]:\n",
    "        # Taulell\n",
    "        x=-250\n",
    "        y=-250\n",
    "        tortuga.penup()\n",
    "        tortuga.goto(x,y)\n",
    "        tortuga.setheading(angle)\n",
    "        for val in range(11):\n",
    "            tortuga.pendown()\n",
    "            tortuga.forward(500)\n",
    "            tortuga.penup()\n",
    "            if angle==0:\n",
    "                y=y+50\n",
    "            elif angle==90:\n",
    "                x=x+50\n",
    "            tortuga.goto(x,y)\n",
    "        # Numeració de coordenades\n",
    "        x=-250\n",
    "        y=-250\n",
    "        for coord in range(10):\n",
    "            if angle==0:\n",
    "                tortuga.goto(x-25,y+10)\n",
    "                tortuga.write(str(coord),font=(\"Arial\",20))\n",
    "                y=y+50\n",
    "            elif angle==90:\n",
    "                tortuga.goto(x+20,y-35)\n",
    "                tortuga.write(str(coord),font=(\"Arial\",20))\n",
    "                x=x+50"
   ]
  },
  {
   "cell_type": "markdown",
   "metadata": {},
   "source": [
    "###Marca i control de jugada\n",
    "Implementeu una funció que marqui el resultat d’una jugada, tenint en compte que el jugador indica les\n",
    "coordenades d’una cel·la donant fila i columna com dos números entre 0 i 9:\n",
    "* Nom: marca jugada()\n",
    "* Arguments: (tortuga, Fg,Cg, F1,C1, F2,C2)\n",
    "  * (Fg,Cg) coordenades de la cel·la donada pel jugador\n",
    "  * (F1,C1) (F2,C2) coordenades de les mines\n",
    "* Funcionament:\n",
    "  * Marca una rodona verda a la cel·la i totes les del voltant estan buides\n",
    "  * Marca una rodona taronja si la cel·la està buida pero hi ha una mina en alguna de les cel·les del\n",
    "voltant\n",
    "  * Marca una rodona vermella si la cel·la està buida però hi ha dues mines en les cel·les dels voltants\n",
    "  * Marca una tortuga vermella si hi ha una mina a la cel·la seleccionada\n",
    "* Retorn: False si la cel·la escollida pel jugador està buida i True si hi ha una mina\n",
    ">Nota: en front la possibilitat d'haver més de dues mines al voltant de la casella marcada he modificat els colors especificats per a què indiquin el nombre de mines que hi ha al voltant. Aquests colors estan especificats en el docstring de la funció. El nombre de mines en funció del color ve definit en l'índex de la llista anomenada colors on estan situats. Deixo també una llista alternativa amb els colors de les especificacions donada com a comentari."
   ]
  },
  {
   "cell_type": "code",
   "execution_count": 6,
   "metadata": {
    "collapsed": true
   },
   "outputs": [],
   "source": [
    "def analitza_entorn(Fg,Cg,coord):\n",
    "    entorn=0\n",
    "    for a in [-1,0,1]:\n",
    "        for b in [-1,0,1]:\n",
    "            if [Cg+a,Fg+b] in coord:\n",
    "                entorn=entorn+1\n",
    "    return entorn"
   ]
  },
  {
   "cell_type": "code",
   "execution_count": 7,
   "metadata": {
    "collapsed": true
   },
   "outputs": [],
   "source": [
    "def marca_jugada(tortuga,Fg,Cg,mines):\n",
    "    '''Marca la jugada quan introdueixes les coordenades:\n",
    "    Segons el nombre de mines de l'entorn et marcarà la jugada de color:\n",
    "    -Blau: 0 mines\n",
    "    -Verd: 1 mina\n",
    "    -Groc: 2 mines\n",
    "    -Taronja: 3 mines\n",
    "    -Vermell: 4 mines\n",
    "    -Rosa: 5 mines\n",
    "    -Marró: 6 mines\n",
    "    -Gris: 7 mines\n",
    "    -Negre: 8 mines\n",
    "    Si dones una mina marcarà una tortuga vermella.\n",
    "    Arguments: tortuga(turtle que marca les jugades), Fg(int, fila de la jugada),\n",
    "               Cg(int, columna de la jugada), mines(list que conté les coordenades de les mines).'''\n",
    "    # Coordenades reals dins la pantalla\n",
    "    Fg_real=(Fg+1)*50-275\n",
    "    Cg_real=(Cg+1)*50-275\n",
    "    \n",
    "    tortuga.penup()\n",
    "    tortuga.goto(Cg_real,Fg_real)\n",
    "    if [Cg,Fg] in mines:\n",
    "        tortuga.color(\"red\")\n",
    "        tortuga.shape(\"turtle\")\n",
    "        tortuga.stamp()\n",
    "        return True\n",
    "    else:\n",
    "        tortuga.shape(\"circle\")\n",
    "        entorn=analitza_entorn(Fg,Cg,mines)\n",
    "        colors=[\"blue\",\"green\",\"yellow\",\"orange\",\"red\",\"pink\",\"brown\",\"grey\",\"black\"]  # Llista amb els colors modificats.\n",
    "        #colors=[\"green\",\"orange\",\"red\",\"red\",\"red\",\"red\",\"red\",\"red\",\"red\"]  # Llista amb els colors especificats.\n",
    "        tortuga.color(colors[entorn])\n",
    "        tortuga.stamp()\n",
    "        return False"
   ]
  },
  {
   "cell_type": "markdown",
   "metadata": {},
   "source": [
    "###Cos del programa\n",
    "Implementeu el cos del programa que controlarà el joc. Ha de començar per inicialitzar aleatàriament la\n",
    "posició de les dues mines. Després ha de constar d’un bucle while que s’executarà fins que es compleixi una\n",
    "de les dues condicions:\n",
    "1. La funció marca jugada() retorna True\n",
    "2. S’han fet 98 jugades (vol dir que nom´es queden les cel·les amb les dues mines)\n",
    "\n",
    "A cada iteració del bucle el programa ha de:\n",
    "1. Demanar les coordenades d’una cel·la\n",
    "2. Comprovar la jugada\n",
    "El programa ha d’acabar amb un missatge indicant al jugador si ha perdut o ha guanyat. Proveu el\n",
    "programa jugant una partida.\n",
    ">Nota: introduida la millora opcional 2."
   ]
  },
  {
   "cell_type": "code",
   "execution_count": 10,
   "metadata": {
    "collapsed": false
   },
   "outputs": [],
   "source": [
    "# Funció necessària per a la millora opcional 3\n",
    "def jugar(x,y):\n",
    "    '''Agafa unes coordenades de la pantalla i executa la jugada.\n",
    "    Arguments: x(coord donada per un click), y(coord donada per un click)'''\n",
    "    # De blocs en la pantalla a nombres del 0 al 9\n",
    "    Cg=(x+250)//50\n",
    "    Fg=(y+250)//50\n",
    "    # Variables de fora la funció necessàries per a executar la jugada\n",
    "    global coord_usat\n",
    "    global n_mines\n",
    "    global mines\n",
    "    global jugades\n",
    "    global alex\n",
    "    # Comprobar que es dona dins el taulell\n",
    "    if (Fg in range(10))==False or (Cg in range(10))==False:\n",
    "        return\n",
    "    if [Cg,Fg] in coord_usat: # Sino, podries posar la mateixa coordenada diverses vegades fins a obtenir la victòria\n",
    "        return\n",
    "    else:\n",
    "        coord_usat.append([Cg,Fg])\n",
    "        es_mina=marca_jugada(alex,Fg,Cg,mines)\n",
    "        if es_mina==False:\n",
    "            jugades=jugades+1\n",
    "        else:\n",
    "            alex.color(\"red\")\n",
    "            alex.shape(\"turtle\")\n",
    "            for m in mines: # Revela la posició de les mines a la pantalla (en vermell)\n",
    "                alex.goto((m[0]+1)*50-275,(m[1]+1)*50-275)\n",
    "                alex.stamp()\n",
    "            for a in range(10): # Afegeix totes les coordenades no usades en coord_usat per a evitar que se segeuixi jugant\n",
    "                for b in range(10):\n",
    "                    if [a,b] in coord_usat:\n",
    "                        None\n",
    "                    else:\n",
    "                        coord_usat.append([a,b])\n",
    "            alex.goto(-125,0)\n",
    "            alex.write(\"Derrota\",font=(\"Arial\",60))\n",
    "            return\n",
    "        if jugades==(100-n_mines):\n",
    "            alex.color(\"lightblue\")\n",
    "            alex.shape(\"turtle\")\n",
    "            for m in mines: # Revela la posició de les mines a la pantalla (en blaucel)\n",
    "                coord_usat.append(m) # Evitar que se segeuixi jugant (donar-li a una mina i que senyali derrota)\n",
    "                alex.goto((m[0]+1)*50-275,(m[1]+1)*50-275)\n",
    "                alex.stamp()\n",
    "            alex.goto(-125,0)\n",
    "            alex.write(\"Victòria\",font=(\"Arial\",60))\n",
    "            return"
   ]
  },
  {
   "cell_type": "code",
   "execution_count": 11,
   "metadata": {
    "collapsed": false
   },
   "outputs": [
    {
     "name": "stdout",
     "output_type": "stream",
     "text": [
      "Quantes mines vols? 20\n"
     ]
    }
   ],
   "source": [
    "# Fabricar el taulell de joc\n",
    "ini_finestra()\n",
    "wn=ini_finestra()\n",
    "alex=ini_tortuga()\n",
    "ini_graella(alex)\n",
    "\n",
    "# Mines (millora opcional 2)\n",
    "n_mines=demana_enter(\"Quantes mines vols? \",2,99) # Pots jugar amb desde 2 mines fins 99 (si vols experiències fortes)\n",
    "mines=[]\n",
    "mina=1\n",
    "while mina <= n_mines:\n",
    "    Fm=rd.randint(0,9) # Coordenades de les mines aleatòries\n",
    "    Cm=rd.randint(0,9)\n",
    "    if [Cm,Fm] in mines: # Evita que se solapin mines\n",
    "        continue\n",
    "    else:\n",
    "        mines.append([Cm,Fm])\n",
    "        mina=mina+1\n",
    "#print(mines) # Per si es volen fer probes en relació a la posició de les mines o jugar amb una ajuda\n",
    "\n",
    "coord_usat=[]\n",
    "jugades=0\n",
    "wn.onscreenclick(jugar) # Millora opcional 3\n",
    "wn.listen()\n",
    "trt.mainloop()"
   ]
  },
  {
   "cell_type": "markdown",
   "metadata": {},
   "source": [
    "###Millores opcionals\n",
    "####1.-Numeració de files i columnes\n",
    "Amb Turtle podeu escriure un text a la pantalla usant la funció `tortuga.write(\"text\")`. Useu-la per millorar la funció `ini_graella()` de manera que les files i les columnes quedin numerades.\n",
    ">introduida\n",
    "\n",
    "####2.-Més mines\n",
    "Si sabeu usar llistes podeu modificar el programa per què el joc inclogui més de dues mines. En aquest cas\n",
    "cal usar una llista per contenir les coordenades de les mines i passar-la com a argument.\n",
    ">introduida\n",
    "\n",
    "####3.-Ús del ratolí (nivell avançat)\n",
    "Jugar entrant les coordenades per teclat es fa una mica pesat. Podem millorar el joc si fem que es pugui\n",
    "seleccionar una cel·la clicant sobre ella a la finestra. El programa seguent crea una finestra i cada cop que\n",
    "es clica sobre ella imprimeix les coordenades del punt seleccionat.\n",
    ">introduida"
   ]
  },
  {
   "cell_type": "code",
   "execution_count": null,
   "metadata": {
    "collapsed": true
   },
   "outputs": [],
   "source": []
  }
 ],
 "metadata": {
  "kernelspec": {
   "display_name": "Python 3",
   "language": "python",
   "name": "python3"
  },
  "language_info": {
   "codemirror_mode": {
    "name": "ipython",
    "version": 3
   },
   "file_extension": ".py",
   "mimetype": "text/x-python",
   "name": "python",
   "nbconvert_exporter": "python",
   "pygments_lexer": "ipython3",
   "version": "3.4.3"
  }
 },
 "nbformat": 4,
 "nbformat_minor": 0
}
