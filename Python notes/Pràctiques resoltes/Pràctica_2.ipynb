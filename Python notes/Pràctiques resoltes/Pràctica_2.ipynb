{
 "cells": [
  {
   "cell_type": "markdown",
   "metadata": {},
   "source": [
    "#Sessió introductòria 2: Document en format markdown"
   ]
  },
  {
   "cell_type": "markdown",
   "metadata": {},
   "source": [
    "Text text text **negreta** text text text _cursiva_ text text text `codi` text text text. Text text text **negreta** text text text _cursiva_ text text text `codi` text text text. ext text text **negreta** text text text _cursiva_ text text text `codi` text text text. Text text text **negreta** text text text _cursiva_ text text text `codi` text text text. Text text text **negreta** text text text _cursiva_ text text text `codi` text text text. ext text text **negreta** text text text _cursiva_ text text text `codi` text text text.\n",
    ">    Cita cita cita cita cita cita **negreta** cita cita cita cita cita _cursiva_ cita cita cita cita cita `codi` cita cita cita cita cita.  \n",
    ">Cita cita cita cita cita cita **negreta** cita cita cita cita cita _cursiva_ cita cita cita cita cita `codi` cita cita cita cita cita.  \n",
    ">Cita cita cita cita cita cita **negreta** cita cita cita cita cita _cursiva_ cita cita cita cita cita `codi` cita cita cita cita cita.\n",
    "\n",
    "---\n",
    "##Títol nivell 2\n",
    "###Títol nivell 3\n",
    "####Títol nivell 4\n",
    "---\n",
    "\n",
    "* llista nivell 1\n",
    "\n",
    " * llista nivell 2\n",
    "\n",
    "   * llista nivell 3\n",
    "\n",
    "\n",
    "1. primer llista numerada\n",
    "\n",
    "2. segon llista numerada\n",
    "\n",
    "---\n",
    "###Imatge web:  \n",
    "(la podeu trobar a l'adreça `http://www.ub.edu/web/ub/galeries/imatges/logo_home_nou.png`)\n",
    "![](http://www.ub.edu/web/ub/galeries/imatges/logo_home_nou.png)\n",
    "\n",
    "###Enllaç a la web de la [UB](http://www.ub.edu/)\n",
    "\n",
    "###Taules `html`:\n",
    "\n",
    "Procedència dels operadors:\n",
    "\n",
    "|**1er**|**2on**|**3er**|\n",
    "|---|:---:|---|\n",
    "|Aritmètica|Comparació|Booleans|\n",
    "|\\```+-*/**%```|\\```==!=<=>=```|\\```not and or```|\n",
    "\n",
    "###Blocs de codi font (no executable):  \n",
    "    for val in range(1,10,2):  \n",
    "        print(val)\n",
    "        \n",
    "###Equacions `LaTeX`:  \n",
    "$$e^x = \\sum_{n=0}^{\\infty} \\frac{x^n}{n!}$$\n",
    "$$e^x = \\lim_{n\\to\\infty}{\\left(1+\\frac{x}{n}\\right)}^n$$\n",
    "$$x=\\frac{-b\\pm\\sqrt{b^2-4ac}}{2a}$$\n",
    "$$f=b_0+\\frac{a_1}{b_1+\\frac{a_2}{b_2+\\frac{a_3}{b_3+a_4}}}$$\n",
    "$$A=\\left(\\begin{matrix} a_{11} & a_{12} & a_{13} \\\\ a_{21} & a_{22} & a_{23} \\\\ a_{31} & a_{32} & a_{33} \\end{matrix}\\right)$$\n",
    "$$\\begin{array}{rcl}x+y+z&=&3\\\\2y&=&x+z\\\\2x+y&=&z\\end{array}$$\n",
    "$$f(x)=\\int_{-\\infty}^{x}e^{-t^2}dt$$\n",
    "\n",
    "###Codi executable"
   ]
  },
  {
   "cell_type": "code",
   "execution_count": 1,
   "metadata": {
    "collapsed": false
   },
   "outputs": [
    {
     "name": "stdout",
     "output_type": "stream",
     "text": [
      "1\n",
      "3\n",
      "5\n",
      "7\n",
      "9\n",
      "11\n",
      "13\n",
      "15\n",
      "17\n",
      "19\n",
      "21\n",
      "23\n",
      "25\n",
      "27\n",
      "29\n"
     ]
    }
   ],
   "source": [
    "for val in range(1,30,2): # imprimeix tots els enters senars menors de 30\n",
    "    print (val)"
   ]
  },
  {
   "cell_type": "code",
   "execution_count": null,
   "metadata": {
    "collapsed": false
   },
   "outputs": [],
   "source": []
  }
 ],
 "metadata": {
  "kernelspec": {
   "display_name": "Python 3",
   "language": "python",
   "name": "python3"
  },
  "language_info": {
   "codemirror_mode": {
    "name": "ipython",
    "version": 3
   },
   "file_extension": ".py",
   "mimetype": "text/x-python",
   "name": "python",
   "nbconvert_exporter": "python",
   "pygments_lexer": "ipython3",
   "version": "3.4.3"
  }
 },
 "nbformat": 4,
 "nbformat_minor": 0
}
