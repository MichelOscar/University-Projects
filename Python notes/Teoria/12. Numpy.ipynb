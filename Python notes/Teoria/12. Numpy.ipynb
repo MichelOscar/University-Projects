{
 "cells": [
  {
   "cell_type": "markdown",
   "id": "d3c5eebe",
   "metadata": {},
   "source": [
    "# 1 Llibreria numpy\n",
    "\n",
    "Numpy és una llibreria de python per a càlcul científic que conté una gran varietat d’eines per a la **creació, manipulació i càlculs de vectors i matrius**. L’avantatge respecte l’ús de llistes normals de python per a fer aquest tipus de càlculs és que les eines de numpy són més senzilles, completes i **molt més ràpides**.\n",
    "\n",
    "**Nota**: per a usar la llibreria numpy cal fer la importació:\n",
    "    import numpy\n",
    "\n",
    "## 1.1 ndarray\n",
    "\n",
    "L’objecte bàsic de numpy és ndarray. Aquest tipus d’objecte és una extensió de les llistes normals de python amb adaptacions pensades per al càlcul numèric. En aquest sentit ja inclou conceptes com a dimensions i eixos.\n",
    "\n",
    "* ndarray.ndim d´ona la dimensi´o de la llista\n",
    "* ndarray.shape d´ona la “forma” de la llista (n1 x n2 x n3 x ...)\n",
    "* ndarray.size número d’elements de la llista\n",
    "\n",
    "**Exemple**:"
   ]
  },
  {
   "cell_type": "code",
   "execution_count": 39,
   "id": "4f72ab75",
   "metadata": {},
   "outputs": [
    {
     "name": "stdout",
     "output_type": "stream",
     "text": [
      "[[ 0  1  2  3  4]\n",
      " [ 5  6  7  8  9]\n",
      " [10 11 12 13 14]]\n",
      "Dimensió:  2\n",
      "Forma:  (3, 5)\n",
      "Númoro d'elements:  15\n"
     ]
    }
   ],
   "source": [
    "import numpy as np\n",
    "\n",
    "# Generem un ndarray a partir de la funció de numpy arange(),\n",
    "# similar a range() però que genera ndarrays\n",
    "# reshape() converteix la llista en una matriu 3 x 5\n",
    "un_array = np.arange(15).reshape(3,5)\n",
    "print(un_array)\n",
    "\n",
    "# Comprovem la dimensió\n",
    "print(\"Dimensió: \",un_array.ndim)\n",
    "\n",
    "# Comprovem la forma\n",
    "print(\"Forma: \",un_array.shape)\n",
    "\n",
    "# Comprovem el numero total d’elements\n",
    "print(\"Númoro d'elements: \",un_array.size)"
   ]
  },
  {
   "cell_type": "markdown",
   "id": "242d5fd7",
   "metadata": {},
   "source": [
    "## 1.2 Creació de ndarrays\n",
    "\n",
    "Numpy ofereix diverses formes per crear objectes ndarray (ja hem vist en l’exemple anterior una forma simple de crear-ne un)."
   ]
  },
  {
   "cell_type": "markdown",
   "id": "3739cc2a",
   "metadata": {},
   "source": [
    "### 1.2.1 A partir d'una llista\n",
    "\n",
    "La manera més simple de crear un objecte ndarray és a partir d’una llista normal, utilitzant la funció array(). Aquesta funció convertirà una llista en un objecte ndarray de les mateixes dimensions."
   ]
  },
  {
   "cell_type": "code",
   "execution_count": 3,
   "id": "5b5027a0",
   "metadata": {},
   "outputs": [
    {
     "name": "stdout",
     "output_type": "stream",
     "text": [
      "range(0, 9)\n",
      "<class 'range'>\n",
      "[0 1 2 3 4 5 6 7 8]\n",
      "Forma:  1\n",
      "<class 'numpy.ndarray'>\n",
      "[[1, 2, 3], [4, 5, 6], [7, 8, 9]]\n",
      "[[1 2 3]\n",
      " [4 5 6]\n",
      " [7 8 9]]\n",
      "Forma:  (3, 3)\n",
      "Mida:  3\n",
      "<class 'numpy.ndarray'>\n",
      "5 <class 'numpy.int32'>\n",
      "6.9 <class 'numpy.float64'>\n"
     ]
    }
   ],
   "source": [
    "import numpy as np\n",
    "\n",
    "# Creem una llista 1D amb nou elements i la convertim en un ndarray 1D\n",
    "llista_1D = range(9)\n",
    "print(llista_1D)\n",
    "print(type(llista_1D))\n",
    "\n",
    "\n",
    "array_1D = np.array(llista_1D)\n",
    "print(array_1D)\n",
    "print(\"Forma: \", len(array_1D.shape))\n",
    "print(type(array_1D))\n",
    "\n",
    "# Fem el mateix partint d’una llista 2D\n",
    "llista_2D = [[1,2,3],[4,5,6],[7,8,9]]\n",
    "array_2D = np.array(llista_2D)\n",
    "print(llista_2D)\n",
    "print(array_2D)\n",
    "print(\"Forma: \",array_2D.shape)\n",
    "print(\"Mida: \",len(array_2D))\n",
    "print(type(array_2D))\n",
    "\n",
    "# Exemple d’operació amb ndarray. L’analitzarem més tard\n",
    "array_vell = array_2D\n",
    "array_2D = array_2D + 1.9\n",
    "print(array_vell[1][1],type(array_vell[1][1]))\n",
    "print(array_2D[1][1],type(array_2D[1][1]))\n"
   ]
  },
  {
   "cell_type": "markdown",
   "id": "648f073f",
   "metadata": {},
   "source": [
    "Cal tenir en compte que els objectes ndarray són homogenis, tots els seus elements són del mateix tipus bàsic. Si és necessari es pot especificar aquest tipus quan es crea l’objecte amb la funció **array()**."
   ]
  },
  {
   "cell_type": "code",
   "execution_count": 40,
   "id": "b7e23629",
   "metadata": {},
   "outputs": [
    {
     "name": "stdout",
     "output_type": "stream",
     "text": [
      "[[1.+0.j 2.+0.j]\n",
      " [3.+0.j 4.+0.j]]\n"
     ]
    }
   ],
   "source": [
    "import numpy as np\n",
    "\n",
    "un_array = np.array([[1,2],[3,4]],dtype = complex)\n",
    "print(un_array) # Noteu que tots els enters s’han convertit en complexes"
   ]
  },
  {
   "cell_type": "markdown",
   "id": "0fe393b7",
   "metadata": {},
   "source": [
    "### 1.2.2 Usant la funció zeros ()\n",
    "\n",
    "Aquesta funció crea un ndarray de les mides donades amb totes les components a zero:"
   ]
  },
  {
   "cell_type": "code",
   "execution_count": 5,
   "id": "b071c79f",
   "metadata": {},
   "outputs": [
    {
     "name": "stdout",
     "output_type": "stream",
     "text": [
      "[[0. 0. 0. 0. 0.]\n",
      " [0. 0. 0. 0. 0.]\n",
      " [0. 0. 0. 0. 0.]\n",
      " [0. 0. 0. 0. 0.]\n",
      " [0. 0. 0. 0. 0.]]\n"
     ]
    }
   ],
   "source": [
    "import numpy as np\n",
    "\n",
    "array_Z = np.zeros((5,5))\n",
    "print(array_Z)"
   ]
  },
  {
   "cell_type": "markdown",
   "id": "c8f430b1",
   "metadata": {},
   "source": [
    "### 1.2.3 Usant la funció ones ()\n",
    "\n",
    "De forma similar la funció **ones()** crea un ndarray de la mida donada ple de uns."
   ]
  },
  {
   "cell_type": "code",
   "execution_count": 6,
   "id": "237df63b",
   "metadata": {},
   "outputs": [
    {
     "name": "stdout",
     "output_type": "stream",
     "text": [
      "[[1. 1. 1. 1. 1.]\n",
      " [1. 1. 1. 1. 1.]\n",
      " [1. 1. 1. 1. 1.]\n",
      " [1. 1. 1. 1. 1.]\n",
      " [1. 1. 1. 1. 1.]]\n"
     ]
    }
   ],
   "source": [
    "import numpy as np\n",
    "\n",
    "array_U = np.ones((5,5))\n",
    "print(array_U)"
   ]
  },
  {
   "cell_type": "markdown",
   "id": "3415af1b",
   "metadata": {},
   "source": [
    "### 1.2.4 Usant la funció eye ()\n",
    "\n",
    "Aquesta funció retorna una matriu identitat (usualment s’escriu I, que es pronuncia 'eye' en anglès):"
   ]
  },
  {
   "cell_type": "code",
   "execution_count": 41,
   "id": "caceee44",
   "metadata": {},
   "outputs": [
    {
     "name": "stdout",
     "output_type": "stream",
     "text": [
      "Matriu identitat 3x3\n",
      "[[1. 0. 0.]\n",
      " [0. 1. 0.]\n",
      " [0. 0. 1.]]\n"
     ]
    }
   ],
   "source": [
    "import numpy as np\n",
    "\n",
    "# Generem la identitat 3x3\n",
    "I = np.eye(3)\n",
    "\n",
    "print(\"Matriu identitat 3x3\")\n",
    "print(I)"
   ]
  },
  {
   "cell_type": "markdown",
   "id": "251ac96a",
   "metadata": {},
   "source": [
    "### 1.2.5 Usant les funcions arange () o linspace ()\n",
    "\n",
    "La funció arange() permet crear seqüències numèriques regulars (de forma similar a range() perè més general). La seva sintaxi és\n",
    "\n",
    "**arange(min,max,pas)**    **màxim no inclòs*\n",
    "\n",
    "i el resultat de la funció és un objecte ndarray:"
   ]
  },
  {
   "cell_type": "code",
   "execution_count": 9,
   "id": "da775772",
   "metadata": {},
   "outputs": [
    {
     "name": "stdout",
     "output_type": "stream",
     "text": [
      "[0.  0.5 1.  1.5 2.  2.5 3.  3.5 4. ]\n",
      "<class 'numpy.ndarray'>\n"
     ]
    }
   ],
   "source": [
    "import numpy as np\n",
    "\n",
    "llista = np.arange(0.,4.5,0.5)\n",
    "print(llista)\n",
    "print(type(llista))\n"
   ]
  },
  {
   "cell_type": "markdown",
   "id": "2f9ff03e",
   "metadata": {},
   "source": [
    "Com que el resultat és un objecte ndarray podem usar directament reshape per modificar la seva forma:"
   ]
  },
  {
   "cell_type": "code",
   "execution_count": 12,
   "id": "e380e0fa",
   "metadata": {},
   "outputs": [
    {
     "name": "stdout",
     "output_type": "stream",
     "text": [
      "[[0.  0.5 1. ]\n",
      " [1.5 2.  2.5]\n",
      " [3.  3.5 4. ]]\n"
     ]
    }
   ],
   "source": [
    "import numpy as np\n",
    "\n",
    "un_array = np.arange(0.,4.5,0.5).reshape((3,3))\n",
    "print(un_array)"
   ]
  },
  {
   "cell_type": "markdown",
   "id": "e9051711",
   "metadata": {},
   "source": [
    "La funció **arange()** té el problema de que, donada la precisió finita dels càlculs amb float, a vegades\n",
    "no es pot predir exactament el número d’elements que generarà. Quan això sigui important es pot usar la funció **linspace()** que permet especificar exactament el número d’elements:\n",
    "\n",
    "**linspace(min, max, num_elements)**"
   ]
  },
  {
   "cell_type": "code",
   "execution_count": 14,
   "id": "d2012bc2",
   "metadata": {},
   "outputs": [
    {
     "name": "stdout",
     "output_type": "stream",
     "text": [
      "[0.         0.34906585 0.6981317  1.04719755 1.3962634  1.74532925\n",
      " 2.0943951  2.44346095 2.7925268  3.14159265]\n"
     ]
    }
   ],
   "source": [
    "import numpy as np\n",
    "import math\n",
    "\n",
    "vector = np.linspace(0.,math.pi,10)\n",
    "print(vector)"
   ]
  },
  {
   "cell_type": "markdown",
   "id": "a4520f33",
   "metadata": {},
   "source": [
    "### 1.2.6 A partir d'una funció\n",
    "\n",
    "Es pot crear un objecte ndarray usant una funció. La funció ha de rebre com a paràmetres els índexs d’una component i retornar el valor de la component que correspongui a aquests índexs."
   ]
  },
  {
   "cell_type": "code",
   "execution_count": 16,
   "id": "f0a2ae3d",
   "metadata": {},
   "outputs": [
    {
     "name": "stdout",
     "output_type": "stream",
     "text": [
      "Matriu i1+i2: \n",
      "[[0. 1. 2. 3. 4.]\n",
      " [1. 2. 3. 4. 5.]\n",
      " [2. 3. 4. 5. 6.]\n",
      " [3. 4. 5. 6. 7.]\n",
      " [4. 5. 6. 7. 8.]]\n"
     ]
    }
   ],
   "source": [
    "import numpy as np\n",
    "\n",
    "# Definim la funció\n",
    "def funció(i,j):\n",
    "    \"\"\"Reb com a par`ametres els dos índex i1,i2 i assigna com\n",
    "       a valor de la component la suma dels dos\"\"\"\n",
    "    return i+j\n",
    "\n",
    "# Creem una matriu de floats a partir de la funció\n",
    "A = np.fromfunction(funció,(5,5),dtype = float)\n",
    "print(\"Matriu i1+i2: \")\n",
    "print(A)"
   ]
  },
  {
   "cell_type": "markdown",
   "id": "2e064d7d",
   "metadata": {},
   "source": [
    "## 1.3 Còpia de ndarray\n",
    "\n",
    "**Important**: tingueu en compte que, al contrari que amb els tipus bàsics de dades i de forma similar als conjunts de dades, quan es fa un assignament a una nova variable d’un ndarray no es copia, sinó que les dues variables corresponen al mateix objecte:"
   ]
  },
  {
   "cell_type": "code",
   "execution_count": 17,
   "id": "3a2cd7ec",
   "metadata": {},
   "outputs": [
    {
     "name": "stdout",
     "output_type": "stream",
     "text": [
      "Array A\n",
      "[0 1 2 3 4 5 6 7 8 9]\n",
      "Array B\n",
      "[0 1 2 3 4 5 6 7 8 9]\n",
      "Array A modificat\n",
      "[10  1  2  3  4  5  6  7  8  9]\n",
      "A reassignat\n",
      "[0 1]\n",
      "B com queda?\n",
      "[10  1  2  3  4  5  6  7  8  9]\n"
     ]
    }
   ],
   "source": [
    "import numpy as np\n",
    "\n",
    "A = np.arange(10)\n",
    "print(\"Array A\")\n",
    "print(A)\n",
    "\n",
    "B = A\n",
    "print(\"Array B\")\n",
    "print(B)\n",
    "\n",
    "# Mofiquem A\n",
    "A[0] = 10\n",
    "print(\"Array A modificat\")\n",
    "print(A)\n",
    "\n",
    "# Comprovem que B tamb´e s’ha modificat\n",
    "print(\"Array B modificat?\")\n",
    "print(B)\n",
    "\n",
    "# Tanmateix, si reassigneu A aleshores B no es modifica!!\n",
    "A = np.arange(2)\n",
    "print(\"A reassignat\")\n",
    "print(A)\n",
    "print(\"B com queda?\")\n",
    "print(B)"
   ]
  },
  {
   "cell_type": "markdown",
   "id": "6cd3644a",
   "metadata": {},
   "source": [
    "Si es vol realment fer una còpia d’un array per assignar-lo a una nova variable s’ha d’usar la funció copy():"
   ]
  },
  {
   "cell_type": "code",
   "execution_count": 18,
   "id": "058429da",
   "metadata": {},
   "outputs": [
    {
     "name": "stdout",
     "output_type": "stream",
     "text": [
      "Array A\n",
      "[0 1 2 3 4 5 6 7 8 9]\n",
      "Array B\n",
      "[0 1 2 3 4 5 6 7 8 9]\n",
      "Array A modificat\n",
      "[10  1  2  3  4  5  6  7  8  9]\n",
      "Array B modificat?\n",
      "[0 1 2 3 4 5 6 7 8 9]\n"
     ]
    }
   ],
   "source": [
    "import numpy as np\n",
    "\n",
    "A = np.arange(10)\n",
    "print(\"Array A\")\n",
    "print(A)\n",
    "\n",
    "B = A.copy()\n",
    "print(\"Array B\")\n",
    "print(B)\n",
    "\n",
    "# Mofiquem A\n",
    "A[0] = 10\n",
    "print(\"Array A modificat\")\n",
    "print(A)\n",
    "\n",
    "# Comprovem que B tamb´e s’ha modificat\n",
    "print(\"Array B modificat?\")\n",
    "print(B)"
   ]
  },
  {
   "cell_type": "markdown",
   "id": "a4415516",
   "metadata": {},
   "source": [
    "## 1.4 Canvi de forma d'un objecte ndarray\n"
   ]
  },
  {
   "cell_type": "code",
   "execution_count": 19,
   "id": "bd82231b",
   "metadata": {},
   "outputs": [
    {
     "name": "stdout",
     "output_type": "stream",
     "text": [
      "Array 2D\n",
      "[[0 1 2]\n",
      " [3 4 5]\n",
      " [6 7 8]]\n",
      "\n",
      "Array 3D\n",
      "[[[ 0  1  2]\n",
      "  [ 3  4  5]\n",
      "  [ 6  7  8]]\n",
      "\n",
      " [[ 9 10 11]\n",
      "  [12 13 14]\n",
      "  [15 16 17]]\n",
      "\n",
      " [[18 19 20]\n",
      "  [21 22 23]\n",
      "  [24 25 26]]]\n"
     ]
    }
   ],
   "source": [
    "import numpy as np\n",
    "\n",
    "# Creem una matriu 1D\n",
    "llista_1D = range(9)\n",
    "array_1D = np.array(llista_1D)\n",
    "\n",
    "# Convertim la matriu_1D de 9 elements en una matriu 3x3\n",
    "array_2D = np.reshape(llista_1D,(3,3))\n",
    "print(\"Array 2D\")\n",
    "print(array_2D)\n",
    "print()\n",
    "\n",
    "# Fem el mateix però creant una matriu 3D a partir d’una llista\n",
    "llista_1D = range(27)\n",
    "array_3D = np.reshape(llista_1D,(3,3,3))\n",
    "print(\"Array 3D\")\n",
    "print(array_3D)"
   ]
  },
  {
   "cell_type": "markdown",
   "id": "83141f4f",
   "metadata": {},
   "source": [
    "## 1.5 Accés als elements\n",
    "\n",
    "Els elements d’un objecte **ndarray** es poden accedir com els de les llistes normals de python, donant els índexs corresponents:"
   ]
  },
  {
   "cell_type": "code",
   "execution_count": 20,
   "id": "f4d3e54d",
   "metadata": {},
   "outputs": [
    {
     "name": "stdout",
     "output_type": "stream",
     "text": [
      "[[1. 2. 3.]\n",
      " [4. 5. 6.]\n",
      " [7. 8. 9.]]\n",
      "Element[0][0]:  1.0\n",
      "Element[2][2]:  9.0\n"
     ]
    }
   ],
   "source": [
    "import numpy as np\n",
    "\n",
    "un_array = np.linspace(1.,9.,9).reshape((3,3))\n",
    "print(un_array)\n",
    "print(\"Element[0][0]: \",un_array[0][0])\n",
    "print(\"Element[2][2]: \",un_array[2][2])"
   ]
  },
  {
   "cell_type": "markdown",
   "id": "eb3444f8",
   "metadata": {},
   "source": [
    "Però en el cas de ndarray també es pot indicar un element donant els dos índexs en forma de llista:"
   ]
  },
  {
   "cell_type": "code",
   "execution_count": 21,
   "id": "629086a5",
   "metadata": {},
   "outputs": [
    {
     "name": "stdout",
     "output_type": "stream",
     "text": [
      "[[1. 2. 3.]\n",
      " [4. 5. 6.]\n",
      " [7. 8. 9.]]\n",
      "Element[0][0]:  1.0\n",
      "Element[0,0]:  1.0\n",
      "Element[2][2]:  9.0\n",
      "Element[2,2]:  9.0\n"
     ]
    }
   ],
   "source": [
    "import numpy as np\n",
    "\n",
    "un_array = np.linspace(1.,9.,9).reshape((3,3))\n",
    "print(un_array)\n",
    "print(\"Element[0][0]: \",un_array[0][0])\n",
    "print(\"Element[0,0]: \",un_array[0,0])\n",
    "print(\"Element[2][2]: \",un_array[2][2])\n",
    "print(\"Element[2,2]: \",un_array[2,2])"
   ]
  },
  {
   "cell_type": "markdown",
   "id": "f670b70c",
   "metadata": {},
   "source": [
    "També com en el cas de les llistes es poden seleccionar subconjunts indicant un rang d’índexs i el pas:"
   ]
  },
  {
   "cell_type": "code",
   "execution_count": 22,
   "id": "c4b033a7",
   "metadata": {},
   "outputs": [
    {
     "name": "stdout",
     "output_type": "stream",
     "text": [
      "Array\n",
      "[[1. 2. 3.]\n",
      " [4. 5. 6.]\n",
      " [7. 8. 9.]]\n",
      "Elements [0:2,0]: \n",
      "[1. 4.]\n",
      "Elements [0:3:2,0]: \n",
      "[1. 7.]\n",
      "Elements [0:3,1:2]: \n",
      "[[2.]\n",
      " [5.]\n",
      " [8.]]\n"
     ]
    }
   ],
   "source": [
    "import numpy as np\n",
    "\n",
    "un_array = np.linspace(1.,9.,9).reshape((3,3))\n",
    "print(\"Array\")\n",
    "print(un_array)\n",
    "print(\"Elements [0:2,0]: \")\n",
    "print(un_array[0:2,0])\n",
    "print(\"Elements [0:3:2,0]: \")\n",
    "print(un_array[0:3:2,0])\n",
    "print(\"Elements [0:3,1:2]: \")\n",
    "print(un_array[0:3,1:2])"
   ]
  },
  {
   "cell_type": "markdown",
   "id": "8aac1b71",
   "metadata": {},
   "source": [
    "## 1.6 Inserci´o i esborrat d’elements\n",
    "\n",
    "Per a afegir o esborrar elements cal usar les funcions insert(), append() i delete(). Noteu que aquestes operacions **no modifiquen l’array original i retornen un nou array amb els canvis**. Cal anar amb compte amb arrays de dimensió més gran que 1. En aquest cas possiblement caldrà especificar el paràmetre axis per què el resultats sigui el desitjat."
   ]
  },
  {
   "cell_type": "code",
   "execution_count": 23,
   "id": "bf1abc0e",
   "metadata": {},
   "outputs": [
    {
     "name": "stdout",
     "output_type": "stream",
     "text": [
      "Array original 1D:  [1. 2. 3. 4. 5.]\n",
      "append(): [1. 2. 3. 4. 5. 1. 2. 3. 4. 5.]\n",
      "insert(pos 1): [1. 0. 2. 3. 4. 5.]\n",
      "delete(pos 1): [1. 3. 4. 5.]\n",
      "Array original 2D:  [[1. 2. 3.]\n",
      " [4. 5. 6.]\n",
      " [7. 8. 9.]]\n",
      "append() 2D: [1. 2. 3. 4. 5. 6. 7. 8. 9. 1. 2. 3. 4. 5. 6. 7. 8. 9.]\n",
      "append(axis=0) 2D:\n",
      "[[1. 2. 3.]\n",
      " [4. 5. 6.]\n",
      " [7. 8. 9.]\n",
      " [1. 2. 3.]\n",
      " [4. 5. 6.]\n",
      " [7. 8. 9.]]\n",
      "append(axis=1) 2D:\n",
      "[[1. 2. 3. 1. 2. 3.]\n",
      " [4. 5. 6. 4. 5. 6.]\n",
      " [7. 8. 9. 7. 8. 9.]]\n"
     ]
    }
   ],
   "source": [
    "import numpy as np\n",
    "\n",
    "# En una dimensió\n",
    "un_array = np.linspace(1.,5.,5)\n",
    "print(\"Array original 1D: \", un_array)\n",
    "\n",
    "print(\"append():\", np.append(un_array,un_array))\n",
    "print(\"insert(pos 1):\", np.insert(un_array,1,0))\n",
    "print(\"delete(pos 1):\", np.delete(un_array,1))\n",
    "\n",
    "# En dos dimensions\n",
    "un_array = np.linspace(1.,9.,9).reshape( (3,3) )\n",
    "print(\"Array original 2D: \", un_array)\n",
    "\n",
    "print(\"append() 2D:\", np.append(un_array,un_array))\n",
    "print(\"append(axis=0) 2D:\")\n",
    "print(np.append(un_array,un_array,axis=0))\n",
    "print(\"append(axis=1) 2D:\")\n",
    "print(np.append(un_array,un_array,axis=1))"
   ]
  },
  {
   "cell_type": "markdown",
   "id": "2602ea7a",
   "metadata": {},
   "source": [
    "## 1.7 Operacions amb ndarray\n",
    "\n",
    "Un dels grans avantatges dels objecte ndarray es que es poden realitzar directament operacions amb valors numèrics o amb altres arrays, senzillament usant els operadors habituals +,-,*,/,** ,%\n",
    "\n",
    "Noteu que realitzar les operacions d’aquesta manera és molt més ràpid que fer-ho usant bucles for.\n",
    "\n",
    "### 1.7.1 Operacions amb valors numèrics"
   ]
  },
  {
   "cell_type": "code",
   "execution_count": 25,
   "id": "97efbf33",
   "metadata": {},
   "outputs": [
    {
     "name": "stdout",
     "output_type": "stream",
     "text": [
      "Array A:\n",
      "[[1. 2. 3.]\n",
      " [4. 5. 6.]\n",
      " [7. 8. 9.]]\n",
      "Array C=A+2:\n",
      "[[ 3.  4.  5.]\n",
      " [ 6.  7.  8.]\n",
      " [ 9. 10. 11.]]\n",
      "Array D=A-2:\n",
      "[[-1.  0.  1.]\n",
      " [ 2.  3.  4.]\n",
      " [ 5.  6.  7.]]\n",
      "Array E=A*2:\n",
      "[[ 2.  4.  6.]\n",
      " [ 8. 10. 12.]\n",
      " [14. 16. 18.]]\n",
      "Array F=A/2:\n",
      "[[0.5 1.  1.5]\n",
      " [2.  2.5 3. ]\n",
      " [3.5 4.  4.5]]\n",
      "Array G=A**2:\n",
      "[[ 1.  4.  9.]\n",
      " [16. 25. 36.]\n",
      " [49. 64. 81.]]\n",
      "Array H=A%2:\n",
      "[[1. 0. 1.]\n",
      " [0. 1. 0.]\n",
      " [1. 0. 1.]]\n",
      "Array I=A>5:\n",
      "[[False False False]\n",
      " [False False  True]\n",
      " [ True  True  True]]\n"
     ]
    }
   ],
   "source": [
    "import numpy as np\n",
    "\n",
    "A = np.linspace(1.,9.,9).reshape( (3,3) )\n",
    "print(\"Array A:\")\n",
    "print(A)\n",
    "\n",
    "# Suma i resta d’un valor a tots els elements\n",
    "C = A+2\n",
    "print(\"Array C=A+2:\")\n",
    "print(C)\n",
    "D = A-2\n",
    "print(\"Array D=A-2:\")\n",
    "print(D)\n",
    "\n",
    "# Producte i divisi´o de tots els elements per un valor\n",
    "E = A*2\n",
    "print(\"Array E=A*2:\")\n",
    "print(E)\n",
    "F = A/2\n",
    "print(\"Array F=A/2:\")\n",
    "print(F)\n",
    "\n",
    "# Exponenciaci´o\n",
    "G = A**2\n",
    "print(\"Array G=A**2:\")\n",
    "print(G)\n",
    "\n",
    "# M`odul\n",
    "H = A%2\n",
    "print(\"Array H=A%2:\")\n",
    "print(H)\n",
    "\n",
    "# Operadors booleans\n",
    "I = A>5\n",
    "print(\"Array I=A>5:\")\n",
    "print(I)"
   ]
  },
  {
   "cell_type": "markdown",
   "id": "3e667eeb",
   "metadata": {},
   "source": [
    "### 1.7.2 Operacions element a element"
   ]
  },
  {
   "cell_type": "code",
   "execution_count": 26,
   "id": "b1e8483f",
   "metadata": {},
   "outputs": [
    {
     "name": "stdout",
     "output_type": "stream",
     "text": [
      "Array A:\n",
      "[[1. 2. 3.]\n",
      " [4. 5. 6.]\n",
      " [7. 8. 9.]]\n",
      "Array B:\n",
      "[[10. 11. 12.]\n",
      " [13. 14. 15.]\n",
      " [16. 17. 18.]]\n",
      "Array C=A+B:\n",
      "[[11. 13. 15.]\n",
      " [17. 19. 21.]\n",
      " [23. 25. 27.]]\n",
      "Array D=A-B:\n",
      "[[-9. -9. -9.]\n",
      " [-9. -9. -9.]\n",
      " [-9. -9. -9.]]\n",
      "Array E=A*B:\n",
      "[[ 10.  22.  36.]\n",
      " [ 52.  70.  90.]\n",
      " [112. 136. 162.]]\n",
      "Array F=A/B:\n",
      "[[0.1        0.18181818 0.25      ]\n",
      " [0.30769231 0.35714286 0.4       ]\n",
      " [0.4375     0.47058824 0.5       ]]\n",
      "Array G=A**B:\n",
      "[[1.00000000e+00 2.04800000e+03 5.31441000e+05]\n",
      " [6.71088640e+07 6.10351562e+09 4.70184985e+11]\n",
      " [3.32329306e+13 2.25179981e+15 1.50094635e+17]]\n",
      "Array H=A>B:\n",
      "[[False False False]\n",
      " [False False False]\n",
      " [False False False]]\n"
     ]
    }
   ],
   "source": [
    "import numpy as np\n",
    "\n",
    "A = np.linspace(1.,9.,9).reshape( (3,3) )\n",
    "B = np.linspace(10.,18.,9).reshape( (3,3) )\n",
    "print(\"Array A:\")\n",
    "print(A)\n",
    "print(\"Array B:\")\n",
    "print(B)\n",
    "\n",
    "# Suma i resta de matrius (element a element)\n",
    "C = A+B\n",
    "print(\"Array C=A+B:\")\n",
    "print(C)\n",
    "D = A-B\n",
    "print(\"Array D=A-B:\")\n",
    "print(D)\n",
    "\n",
    "# Producte i divisi´o (element a element)\n",
    "E = A*B\n",
    "print(\"Array E=A*B:\")\n",
    "print(E)\n",
    "F = A/B\n",
    "print(\"Array F=A/B:\")\n",
    "print(F)\n",
    "\n",
    "# Exponenciaci´o (element a element)\n",
    "G = A**B\n",
    "print(\"Array G=A**B:\")\n",
    "print(G)\n",
    "\n",
    "# Operacions booleanes (element a element)\n",
    "H = A>B\n",
    "print(\"Array H=A>B:\")\n",
    "print(H)\n"
   ]
  },
  {
   "cell_type": "markdown",
   "id": "3aeb5d0f",
   "metadata": {},
   "source": [
    "### 1.7.3 Operacions unitaries\n",
    "\n",
    "Numpy inclou algunes operacions unitàries (que s’apliquen a un únic objecte ndarray):\n",
    "\n",
    "* sum() suma de totes les components (o de les d’un eix)\n",
    "* min() retorna la component amb el m´ınim valor\n",
    "* max() retorna la component amb el màxim valor"
   ]
  },
  {
   "cell_type": "code",
   "execution_count": 27,
   "id": "1389a46e",
   "metadata": {},
   "outputs": [
    {
     "name": "stdout",
     "output_type": "stream",
     "text": [
      "Array A: \n",
      "[[1. 2. 3.]\n",
      " [4. 5. 6.]\n",
      " [7. 8. 9.]]\n",
      "Suma global:  45.0\n",
      "Suma columnes:  [12. 15. 18.]\n",
      "Suma files:  [ 6. 15. 24.]\n",
      "M`axim global:  9.0\n",
      "M`axim de cada columna:  [7. 8. 9.]\n",
      "M`axim de cada fila:  [3. 6. 9.]\n",
      "M´ınim global:  1.0\n",
      "M´ınim de cada columna:  [1. 2. 3.]\n",
      "M´ınim de cada fila:  [1. 4. 7.]\n"
     ]
    }
   ],
   "source": [
    "import numpy as np\n",
    "A = np.linspace(1.,9.,9).reshape( (3,3) )\n",
    "print(\"Array A: \")\n",
    "print(A)\n",
    "\n",
    "# Suma de totes les components\n",
    "print(\"Suma global: \", A.sum())\n",
    "print(\"Suma columnes: \", A.sum(axis=0))\n",
    "print(\"Suma files: \", A.sum(axis=1))\n",
    "\n",
    "# Màxim\n",
    "print(\"M`axim global: \",A.max())\n",
    "print(\"M`axim de cada columna: \",A.max(axis=0))\n",
    "print(\"M`axim de cada fila: \",A.max(axis=1))\n",
    "\n",
    "# Mínim\n",
    "print(\"M´ınim global: \",A.min())\n",
    "print(\"M´ınim de cada columna: \",A.min(axis=0))\n",
    "print(\"M´ınim de cada fila: \",A.min(axis=1))\n"
   ]
  },
  {
   "cell_type": "markdown",
   "id": "bd791f7b",
   "metadata": {},
   "source": [
    "### 1.7.4 Funcions\n",
    "\n",
    "Numpy també extén les funcions habituals de manera que es poden aplicar directament als ndarray. En altres paraules, es pot aplicar una funció a cadascuna de les components de ndarray amb una sola crida."
   ]
  },
  {
   "cell_type": "code",
   "execution_count": 28,
   "id": "c0da976a",
   "metadata": {},
   "outputs": [
    {
     "name": "stdout",
     "output_type": "stream",
     "text": [
      "Array A: \n",
      "[[1.         1.26769908 1.53539816]\n",
      " [1.80309725 2.07079633 2.33849541]\n",
      " [2.60619449 2.87389357 3.14159265]]\n",
      "sin(A): \n",
      "[[8.41470985e-01 9.54416610e-01 9.99373550e-01]\n",
      " [9.73139260e-01 8.77582562e-01 7.19510518e-01]\n",
      " [5.10183526e-01 2.64513174e-01 1.22464680e-16]]\n",
      "exp(A): \n",
      "[[ 2.71828183  3.55266875  4.6431739 ]\n",
      " [ 6.06841375  7.93113638 10.36562879]\n",
      " [13.54739788 17.70582306 23.14069263]]\n",
      "log(A): \n",
      "[[9.99950003e-05 2.37282391e-01 4.28854865e-01]\n",
      " [5.89561337e-01 7.27981522e-01 8.49550496e-01]\n",
      " [9.57929477e-01 1.05570255e+00 1.14476172e+00]]\n",
      "sqrt(A): \n",
      "[[1.         1.12592144 1.23911184]\n",
      " [1.34279457 1.43902617 1.52921398]\n",
      " [1.61437124 1.6952562  1.77245385]]\n"
     ]
    }
   ],
   "source": [
    "import numpy as np\n",
    "A = np.linspace(1,np.pi,9).reshape( (3,3) )\n",
    "print(\"Array A: \")\n",
    "print(A)\n",
    "\n",
    "# sin()\n",
    "print(\"sin(A): \")\n",
    "print(np.sin(A))\n",
    "\n",
    "# exp()\n",
    "print(\"exp(A): \")\n",
    "print(np.exp(A))\n",
    "\n",
    "# log()\n",
    "print(\"log(A): \")\n",
    "print(np.log(A+0.0001)) # Sumem 0.0001 per evitar que el zero doni errors\n",
    "\n",
    "# sqrt()\n",
    "print(\"sqrt(A): \")\n",
    "print(np.sqrt(A))\n"
   ]
  },
  {
   "cell_type": "markdown",
   "id": "204a60fd",
   "metadata": {},
   "source": [
    "Noteu que en aquest cas és important distingir la funció sinus del mòdul math de la funció amb el mateix\n",
    "nom del mòdul numpy, d’aquí la importància del prefix i la recomanació d’evitar fer “wild imports”.\n",
    "Noteu també que amb les funcionalitats d’operacions de numpy el calcul de valors de funcions i la seva\n",
    "representació és molt simple. Nom´es cal definir un ndarray amb els valors de x i calcular ndarray amb els\n",
    "valors corresponents de la funció, com podem veure en l’exemple següent:"
   ]
  },
  {
   "cell_type": "code",
   "execution_count": 30,
   "id": "26bc09f7",
   "metadata": {},
   "outputs": [
    {
     "name": "stdout",
     "output_type": "stream",
     "text": [
      "Populating the interactive namespace from numpy and matplotlib\n",
      "x =  [0.         0.13089969 0.26179939 0.39269908 0.52359878 0.65449847\n",
      " 0.78539816 0.91629786 1.04719755 1.17809725 1.30899694 1.43989663\n",
      " 1.57079633 1.70169602 1.83259571 1.96349541 2.0943951  2.2252948\n",
      " 2.35619449 2.48709418 2.61799388 2.74889357 2.87979327 3.01069296\n",
      " 3.14159265]\n",
      "lineal =  [3.         3.26179939 3.52359878 3.78539816 4.04719755 4.30899694\n",
      " 4.57079633 4.83259571 5.0943951  5.35619449 5.61799388 5.87979327\n",
      " 6.14159265 6.40339204 6.66519143 6.92699082 7.1887902  7.45058959\n",
      " 7.71238898 7.97418837 8.23598776 8.49778714 8.75958653 9.02138592\n",
      " 9.28318531]\n"
     ]
    },
    {
     "data": {
      "image/png": "[encoded data removed]",
      "text/plain": [
       "<Figure size 432x288 with 1 Axes>"
      ]
     },
     "metadata": {
      "needs_background": "light"
     },
     "output_type": "display_data"
    }
   ],
   "source": [
    "%pylab inline\n",
    "import numpy as np\n",
    "import matplotlib.pyplot as plt\n",
    "\n",
    "# Calculem valors de x entre -2*pi i 2*pi\n",
    "x = np.linspace(0., np.pi, 25, endpoint=True)\n",
    "\n",
    "# Calculem funcions d’aquests valors\n",
    "lineal = 2*x+3\n",
    "sinusoidal = np.sin(x)\n",
    "exponencial = np.exp(x)\n",
    "print (\"x = \", x)\n",
    "print (\"lineal = \", lineal)\n",
    "\n",
    "# Els representem (usem mathplotlib, que explicarem en les sessions seg¨uents)\n",
    "plt.plot(x, lineal, color = 'red')\n",
    "plt.plot(x, sinusoidal, color = 'blue')\n",
    "plt.plot(x, exponencial, color = 'green')\n",
    "plt.show()\n"
   ]
  },
  {
   "cell_type": "markdown",
   "id": "be4d74c1",
   "metadata": {},
   "source": [
    "## 1.8 Acumulaci´o i separació d’arrays\n",
    "\n",
    "Numpy també ofereix funcions per ajuntar dos ndarray, verticalment o horitzontalment:"
   ]
  },
  {
   "cell_type": "code",
   "execution_count": 31,
   "id": "64fc1be0",
   "metadata": {},
   "outputs": [
    {
     "name": "stdout",
     "output_type": "stream",
     "text": [
      "Array A:\n",
      "[[1. 2. 3.]\n",
      " [4. 5. 6.]\n",
      " [7. 8. 9.]]\n",
      "Array B:\n",
      "[[10. 11. 12.]\n",
      " [13. 14. 15.]\n",
      " [16. 17. 18.]]\n",
      "Array C:\n",
      "[[19. 20. 21.]\n",
      " [22. 23. 24.]\n",
      " [25. 26. 27.]]\n",
      "hstack((A,B))\n",
      "[[ 1.  2.  3. 10. 11. 12.]\n",
      " [ 4.  5.  6. 13. 14. 15.]\n",
      " [ 7.  8.  9. 16. 17. 18.]]\n",
      "hstack((A,B,C))\n",
      "[[ 1.  2.  3. 10. 11. 12. 19. 20. 21.]\n",
      " [ 4.  5.  6. 13. 14. 15. 22. 23. 24.]\n",
      " [ 7.  8.  9. 16. 17. 18. 25. 26. 27.]]\n",
      "vstack((A,B))\n",
      "[[ 1.  2.  3.]\n",
      " [ 4.  5.  6.]\n",
      " [ 7.  8.  9.]\n",
      " [10. 11. 12.]\n",
      " [13. 14. 15.]\n",
      " [16. 17. 18.]]\n",
      "vstack((A,B,C))\n",
      "[[ 1.  2.  3.]\n",
      " [ 4.  5.  6.]\n",
      " [ 7.  8.  9.]\n",
      " [10. 11. 12.]\n",
      " [13. 14. 15.]\n",
      " [16. 17. 18.]\n",
      " [19. 20. 21.]\n",
      " [22. 23. 24.]\n",
      " [25. 26. 27.]]\n"
     ]
    }
   ],
   "source": [
    "import numpy as np\n",
    "\n",
    "A = np.linspace(1.,9.,9).reshape( (3,3) )\n",
    "B = np.linspace(10.,18.,9).reshape( (3,3) )\n",
    "C = np.linspace(19.,27.,9).reshape( (3,3) )\n",
    "print (\"Array A:\")\n",
    "print (A)\n",
    "print (\"Array B:\")\n",
    "print (B)\n",
    "print (\"Array C:\")\n",
    "print (C)\n",
    "\n",
    "# Els ajuntem horitzontalment\n",
    "print (\"hstack((A,B))\")\n",
    "print (np.hstack( (A,B) )) # Noteu que passem com a argument una tupla\n",
    "print (\"hstack((A,B,C))\")\n",
    "print (np.hstack( (A,B,C) ))\n",
    "\n",
    "# Els ajuntem verticalment\n",
    "print (\"vstack((A,B))\")\n",
    "print (np.vstack( (A,B) ))\n",
    "print (\"vstack((A,B,C))\")\n",
    "print (np.vstack( (A,B,C) ))\n"
   ]
  },
  {
   "cell_type": "markdown",
   "id": "0a8d1182",
   "metadata": {},
   "source": [
    "**Nota**: tamb´e es pot separar un array en diverses parts amb les funcions vsplit() i hsplit().\n",
    "\n",
    "## 1.9 Bucles for\n",
    "\n",
    "Ja hem vist en la secció “4.3 - for” que els ndarray es poden usar en els bucles for. Quan són d’una dimensió s'itera sobre els elements i quan són multidimensionals s'itera sobre els elements del primer eix, que són ndarrays:"
   ]
  },
  {
   "cell_type": "code",
   "execution_count": 32,
   "id": "d735c506",
   "metadata": {},
   "outputs": [
    {
     "name": "stdout",
     "output_type": "stream",
     "text": [
      "Array 1D\n",
      "0\n",
      "-------\n",
      "1\n",
      "-------\n",
      "2\n",
      "-------\n",
      "Array 2D\n",
      "[0 1 2]\n",
      "-------\n",
      "[3 4 5]\n",
      "-------\n",
      "[6 7 8]\n",
      "-------\n",
      "Array 3D\n",
      "[[0 1 2]\n",
      " [3 4 5]\n",
      " [6 7 8]]\n",
      "-------\n",
      "[[ 9 10 11]\n",
      " [12 13 14]\n",
      " [15 16 17]]\n",
      "-------\n",
      "[[18 19 20]\n",
      " [21 22 23]\n",
      " [24 25 26]]\n",
      "-------\n"
     ]
    }
   ],
   "source": [
    " import numpy as np\n",
    "    \n",
    "print (\"Array 1D\")\n",
    "array_1D = np.arange(3)\n",
    "for element in array_1D:\n",
    "    print (element)\n",
    "    print (\"-------\")\n",
    "\n",
    "print (\"Array 2D\")\n",
    "array_2D = np.arange(9).reshape(3,3)\n",
    "for element in array_2D:\n",
    "    print (element)\n",
    "    print (\"-------\")\n",
    "\n",
    "print (\"Array 3D\")\n",
    "array_3D = np.arange(27).reshape(3,3,3)\n",
    "for element in array_3D:\n",
    "    print (element)\n",
    "    print (\"-------\")"
   ]
  },
  {
   "cell_type": "markdown",
   "id": "06332f62",
   "metadata": {},
   "source": [
    "Si es vol iterar sobre tots els elements independentment de les dimensions de l’ndarray es pot usar la funció flat per a “desplegar” l’ndarray en el bucle for:"
   ]
  },
  {
   "cell_type": "code",
   "execution_count": 33,
   "id": "37177e35",
   "metadata": {},
   "outputs": [
    {
     "name": "stdout",
     "output_type": "stream",
     "text": [
      "[[0 1 2]\n",
      " [3 4 5]\n",
      " [6 7 8]]\n",
      "0\n",
      "1\n",
      "2\n",
      "3\n",
      "4\n",
      "5\n",
      "6\n",
      "7\n",
      "8\n"
     ]
    }
   ],
   "source": [
    "import numpy as np\n",
    "\n",
    "array_2D = np.arange(9).reshape(3,3)\n",
    "print (array_2D)\n",
    "print\n",
    "\n",
    "for element in array_2D.flat:\n",
    "    print (element)"
   ]
  },
  {
   "cell_type": "markdown",
   "id": "e5ecdbbf",
   "metadata": {},
   "source": [
    "## 1.10 Algebra lineal\n",
    "\n",
    "Numpy implementa les operacions d’algebra lineal, ´es a dir, les operacions amb vectors i matrius. Les eines d’àlgebra lineal es troben en el mòdul numpy.linalg:\n",
    "\n",
    "from numpy.linalg import *\n",
    "\n",
    "### 1.10.1 Eines d’àlgebra lineal\n",
    "\n",
    "**Trasposició** Es pot fer amb el mètode transpose() dels ndarrays:"
   ]
  },
  {
   "cell_type": "code",
   "execution_count": 34,
   "id": "9766f757",
   "metadata": {},
   "outputs": [
    {
     "name": "stdout",
     "output_type": "stream",
     "text": [
      "Array A\n",
      "[[1. 2. 3.]\n",
      " [4. 5. 6.]\n",
      " [7. 8. 9.]]\n",
      "Array A transposat\n",
      "[[1. 4. 7.]\n",
      " [2. 5. 8.]\n",
      " [3. 6. 9.]]\n"
     ]
    }
   ],
   "source": [
    "import numpy as np\n",
    "\n",
    "# Generem un array 2D\n",
    "A = np.linspace(1.,9.,9).reshape(3,3)\n",
    "print(\"Array A\")\n",
    "print(A)\n",
    "\n",
    "# El transposem\n",
    "print (\"Array A transposat\")\n",
    "print (A.transpose())"
   ]
  },
  {
   "cell_type": "markdown",
   "id": "8fe15ed5",
   "metadata": {},
   "source": [
    "### 1.10.2 Determinants i matriu inversa\n",
    "\n",
    "Els determinants es calculen amb la funció linalg.det() i la matriu inversa amb la funció linalg.inv()"
   ]
  },
  {
   "cell_type": "code",
   "execution_count": 35,
   "id": "c1246aa1",
   "metadata": {},
   "outputs": [
    {
     "name": "stdout",
     "output_type": "stream",
     "text": [
      "Array A\n",
      "[[1 1 2]\n",
      " [2 1 1]\n",
      " [1 1 1]]\n",
      "Determinant de A:  1.0\n",
      "Inversa de A\n",
      "[[ 0.  1. -1.]\n",
      " [-1. -1.  3.]\n",
      " [ 1. -0. -1.]]\n"
     ]
    }
   ],
   "source": [
    "import numpy as np\n",
    "\n",
    "# Generem un array 2D\n",
    "A = np.array( [[1,1,2], [2,1,1], [1,1,1]] )\n",
    "print (\"Array A\")\n",
    "print (A)\n",
    "\n",
    "# Calculem el determinant\n",
    "print (\"Determinant de A: \", np.linalg.det(A))\n",
    "\n",
    "# L’invertim\n",
    "print (\"Inversa de A\")\n",
    "print (np.linalg.inv(A))"
   ]
  },
  {
   "cell_type": "markdown",
   "id": "7e5b8306",
   "metadata": {},
   "source": [
    "### 1.10.3 Rang i traça d’una matriu\n",
    "\n",
    "El rang d’una matriu es pot calcular usant la funció numpy.linalg.matrix rank(A)\n",
    "\n",
    "La traça d’una matriu es calcula amb la funció trace():"
   ]
  },
  {
   "cell_type": "code",
   "execution_count": 36,
   "id": "17ece0d1",
   "metadata": {},
   "outputs": [
    {
     "name": "stdout",
     "output_type": "stream",
     "text": [
      "Array A\n",
      "[[1 1 2]\n",
      " [2 4 1]\n",
      " [1 1 1]]\n",
      "Rang de A:  3\n",
      "Traça de A:  6\n"
     ]
    }
   ],
   "source": [
    "import numpy as np\n",
    "\n",
    "# Generem un array 2D\n",
    "A = np.array( [[1,1,2], [2,4,1], [1,1,1]] )\n",
    "print (\"Array A\")\n",
    "print (A)\n",
    "\n",
    "# Calculem el rang\n",
    "print(\"Rang de A: \", np.linalg.matrix_rank(A))\n",
    "\n",
    "# Calculem la traça\n",
    "print (\"Traça de A: \", np.trace(A))\n"
   ]
  },
  {
   "cell_type": "markdown",
   "id": "cfd41d85",
   "metadata": {},
   "source": [
    "### 1.10.4 Producte de matrius\n",
    "\n",
    "El producte de matrius s’implementa amb la funció dot():"
   ]
  },
  {
   "cell_type": "code",
   "execution_count": 37,
   "id": "3dc65a33",
   "metadata": {},
   "outputs": [
    {
     "name": "stdout",
     "output_type": "stream",
     "text": [
      "Array A\n",
      "[[1 1 2]\n",
      " [2 1 1]\n",
      " [1 1 1]]\n",
      "A*A\n",
      "[[5 4 5]\n",
      " [5 4 6]\n",
      " [4 3 4]]\n",
      "A*v\n",
      "[10 10  7]\n"
     ]
    }
   ],
   "source": [
    "import numpy as np\n",
    "\n",
    "# Generem un array 2D\n",
    "A = np.array( [[1,1,2], [2,1,1], [1,1,1]] )\n",
    "print (\"Array A\")\n",
    "print (A)\n",
    "\n",
    "# El multipliquem per ell mateix\n",
    "print (\"A*A\")\n",
    "print (np.dot(A,A))\n",
    "\n",
    "# Multipliquem la matriu per un vector\n",
    "v = array( [3,1,3] )\n",
    "print (\"A*v\")\n",
    "print (np.dot(A,v))\n"
   ]
  },
  {
   "cell_type": "markdown",
   "id": "8e8689f7",
   "metadata": {},
   "source": [
    "### 1.10.5 Solució de sistemes d’equacions\n",
    "\n",
    "Un sistema d’equacions es pot representar en forma matricial o de forma compacta.\n",
    "\n",
    "Donada la matriu A del sistema i el vector de termes independents es pot obtenir la solució amb la funció solve():"
   ]
  },
  {
   "cell_type": "code",
   "execution_count": 38,
   "id": "5f779a7f",
   "metadata": {},
   "outputs": [
    {
     "name": "stdout",
     "output_type": "stream",
     "text": [
      "[[1 1 2]\n",
      " [2 1 1]\n",
      " [1 1 1]]\n",
      "Vector de termes independents\n",
      "[1 1 1]\n",
      "Solució\n",
      "[ 0.  1. -0.]\n"
     ]
    }
   ],
   "source": [
    "import numpy as np\n",
    "\n",
    "# Matriu del sistema\n",
    "A = np.array( [[1,1,2], [2,1,1], [1,1,1]] )\n",
    "print(A)\n",
    "\n",
    "# Vector de termes independents\n",
    "b = np.array( [1,1,1] )\n",
    "print(\"Vector de termes independents\")\n",
    "print(b)\n",
    "\n",
    "# Calculem la solució\n",
    "x = np.linalg.solve(A,b)\n",
    "print(\"Solució\")\n",
    "print(x)\n"
   ]
  },
  {
   "cell_type": "markdown",
   "id": "ee705f4e",
   "metadata": {},
   "source": [
    "## 1.11 Classe matrix\n",
    "\n",
    "En les operacions d’àlgebra lineal que hem descrit fins ara hem usat objectes de tipus ndarray. Tanmateix, si hem de treballar amb matrius “classiques”, és a dir 2D i regulars, podem usar una classe de numpy dissenyada específicament per aquest cas, la classe matrix. Podeu trobar una descripció completa de la classe aquí.\n",
    "\n",
    "Aquesta classe es pot usar com un ndarray normal en les operacions anteriors"
   ]
  },
  {
   "cell_type": "code",
   "execution_count": null,
   "id": "d7da92ca",
   "metadata": {},
   "outputs": [],
   "source": []
  }
 ],
 "metadata": {
  "kernelspec": {
   "display_name": "Python 3",
   "language": "python",
   "name": "python3"
  },
  "language_info": {
   "codemirror_mode": {
    "name": "ipython",
    "version": 3
   },
   "file_extension": ".py",
   "mimetype": "text/x-python",
   "name": "python",
   "nbconvert_exporter": "python",
   "pygments_lexer": "ipython3",
   "version": "3.8.8"
  }
 },
 "nbformat": 4,
 "nbformat_minor": 5
}
