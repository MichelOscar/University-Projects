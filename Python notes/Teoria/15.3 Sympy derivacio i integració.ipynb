{
 "cells": [
  {
   "cell_type": "markdown",
   "metadata": {},
   "source": [
    "# 15.3 Derivació i Integració amb simpy\n",
    "\n",
    "## 15.3.1 Derivades\n",
    "\n",
    "`Sympy` permet fer derivació simbòlica de funcions (_differentiation_ en anglès) mitjançant la funció **`.diff(`**`exp`**`,`**`var`**`)`**, que, en la seva forma més bàsica, rep com a arguments:\n",
    "\n",
    "  * una `exp`ressió simbòlica a derivar i\n",
    "  * la `var`iable sobre la que derivar."
   ]
  },
  {
   "cell_type": "code",
   "execution_count": 1,
   "metadata": {},
   "outputs": [
    {
     "name": "stdout",
     "output_type": "stream",
     "text": [
      "Derivant x**2 + 5*x + 1\n"
     ]
    },
    {
     "data": {
      "image/png": "[encoded data removed]",
      "text/latex": [
       "$$2 x + 5$$"
      ],
      "text/plain": [
       "2⋅x + 5"
      ]
     },
     "execution_count": 1,
     "metadata": {},
     "output_type": "execute_result"
    }
   ],
   "source": [
    "import sympy as sp\n",
    "sp.init_printing()\n",
    "sp.var(\"x\")\n",
    "\n",
    "print (\"Derivant x**2 + 5*x + 1\")\n",
    "sp.diff(x**2 + 5*x + 1, x)"
   ]
  },
  {
   "cell_type": "code",
   "execution_count": 2,
   "metadata": {},
   "outputs": [
    {
     "name": "stdout",
     "output_type": "stream",
     "text": [
      "Derivant sin(x)*exp(x)\n"
     ]
    },
    {
     "data": {
      "image/png": "[encoded data removed]",
      "text/latex": [
       "$$e^{x} \\sin{\\left (x \\right )} + e^{x} \\cos{\\left (x \\right )}$$"
      ],
      "text/plain": [
       " x           x       \n",
       "ℯ ⋅sin(x) + ℯ ⋅cos(x)"
      ]
     },
     "execution_count": 2,
     "metadata": {},
     "output_type": "execute_result"
    }
   ],
   "source": [
    "print (\"Derivant sin(x)*exp(x)\")\n",
    "sp.diff(sp.sin(x)*sp.exp(x),x)"
   ]
  },
  {
   "cell_type": "markdown",
   "metadata": {},
   "source": [
    "### 15.3.1.1 Derivades succesives\n",
    "\n",
    "Si es desitja determinar la derivada d´ordre __$n$-èssim__, només cal cridar a aquesta funció $n$ vegades."
   ]
  },
  {
   "cell_type": "code",
   "execution_count": 3,
   "metadata": {},
   "outputs": [
    {
     "data": {
      "image/png": "[encoded data removed]",
      "text/latex": [
       "$$x^{4} + x^{3} + x^{2} + x + 1$$"
      ],
      "text/plain": [
       " 4    3    2        \n",
       "x  + x  + x  + x + 1"
      ]
     },
     "execution_count": 3,
     "metadata": {},
     "output_type": "execute_result"
    }
   ],
   "source": [
    "import sympy as sp\n",
    "sp.init_printing()\n",
    "sp.var(\"x\")\n",
    "poli = sp.sympify(\"x**4+x**3+x**2+x**1+x**0\")\n",
    "poli"
   ]
  },
  {
   "cell_type": "code",
   "execution_count": 4,
   "metadata": {},
   "outputs": [
    {
     "name": "stdout",
     "output_type": "stream",
     "text": [
      "1a Derivada\n"
     ]
    },
    {
     "data": {
      "image/png": "[encoded data removed]",
      "text/latex": [
       "$$4 x^{3} + 3 x^{2} + 2 x + 1$$"
      ],
      "text/plain": [
       "   3      2          \n",
       "4⋅x  + 3⋅x  + 2⋅x + 1"
      ]
     },
     "execution_count": 4,
     "metadata": {},
     "output_type": "execute_result"
    }
   ],
   "source": [
    "print (\"1a Derivada\")\n",
    "d1_poli = sp.diff(poli, x)\n",
    "d1_poli"
   ]
  },
  {
   "cell_type": "code",
   "execution_count": 5,
   "metadata": {},
   "outputs": [
    {
     "name": "stdout",
     "output_type": "stream",
     "text": [
      "2a Derivada\n"
     ]
    },
    {
     "data": {
      "image/png": "[encoded data removed]",
      "text/latex": [
       "$$12 x^{2} + 6 x + 2$$"
      ],
      "text/plain": [
       "    2          \n",
       "12⋅x  + 6⋅x + 2"
      ]
     },
     "execution_count": 5,
     "metadata": {},
     "output_type": "execute_result"
    }
   ],
   "source": [
    "print (\"2a Derivada\")\n",
    "d2_poli = sp.diff(d1_poli, x)\n",
    "d2_poli"
   ]
  },
  {
   "cell_type": "code",
   "execution_count": 6,
   "metadata": {},
   "outputs": [
    {
     "name": "stdout",
     "output_type": "stream",
     "text": [
      "4a Derivada\n"
     ]
    },
    {
     "data": {
      "image/png": "[encoded data removed]",
      "text/latex": [
       "$$24$$"
      ],
      "text/plain": [
       "24"
      ]
     },
     "execution_count": 6,
     "metadata": {},
     "output_type": "execute_result"
    }
   ],
   "source": [
    "print (\"4a Derivada\")\n",
    "d3_poli = sp.diff(d2_poli, x)\n",
    "d4_poli = sp.diff(d3_poli, x)\n",
    "d4_poli"
   ]
  },
  {
   "cell_type": "markdown",
   "metadata": {},
   "source": [
    "O bé, més directament, un paràmetre enter addicional i opcional permet trobar directament una derivada d´ordre $n$:"
   ]
  },
  {
   "cell_type": "code",
   "execution_count": 7,
   "metadata": {},
   "outputs": [
    {
     "name": "stdout",
     "output_type": "stream",
     "text": [
      "4a Derivada\n"
     ]
    },
    {
     "data": {
      "image/png": "[encoded data removed]",
      "text/latex": [
       "$$24$$"
      ],
      "text/plain": [
       "24"
      ]
     },
     "execution_count": 7,
     "metadata": {},
     "output_type": "execute_result"
    }
   ],
   "source": [
    "print (\"4a Derivada\")\n",
    "sp.diff(poli, x, 4)"
   ]
  },
  {
   "cell_type": "markdown",
   "metadata": {},
   "source": [
    "### 15.3.1.2 Derivades puntuals\n",
    "\n",
    "Si el que es vol es avaluar la _derivada puntual_ en un valor específic de la variable de derivació, només cal `.subs()`tituir-la després de derivar.\n",
    "\n"
   ]
  },
  {
   "cell_type": "code",
   "execution_count": 8,
   "metadata": {},
   "outputs": [
    {
     "name": "stdout",
     "output_type": "stream",
     "text": [
      "Avaluem la derivada del polinomi en x = 3\n"
     ]
    },
    {
     "data": {
      "image/png": "[encoded data removed]",
      "text/latex": [
       "$$142$$"
      ],
      "text/plain": [
       "142"
      ]
     },
     "execution_count": 8,
     "metadata": {},
     "output_type": "execute_result"
    }
   ],
   "source": [
    "print (\"Avaluem la derivada del polinomi en x = 3\")\n",
    "sp.diff(poli, x).subs(x,3)"
   ]
  },
  {
   "cell_type": "markdown",
   "metadata": {},
   "source": [
    "### 15.3.1.3 Derivació respecte múltiples variables\n",
    "\n",
    "Sovint, necessitareu __funcions de més d'una variable__. En aquest cas, és possible realitzar derivades múltiples sobre diferents variables:\n"
   ]
  },
  {
   "cell_type": "code",
   "execution_count": 9,
   "metadata": {},
   "outputs": [
    {
     "data": {
      "image/png": "[encoded data removed]",
      "text/latex": [
       "$$5 x^{2} \\sin{\\left (y \\right )}$$"
      ],
      "text/plain": [
       "   2       \n",
       "5⋅x ⋅sin(y)"
      ]
     },
     "execution_count": 9,
     "metadata": {},
     "output_type": "execute_result"
    }
   ],
   "source": [
    "import sympy as sp\n",
    "sp.init_printing()\n",
    "sp.var(\"x\")\n",
    "sp.var(\"y\")\n",
    "funcio = x**2 * 5*sp.sin(y)\n",
    "funcio"
   ]
  },
  {
   "cell_type": "code",
   "execution_count": 12,
   "metadata": {},
   "outputs": [
    {
     "data": {
      "image/png": "[encoded data removed]",
      "text/plain": [
       "<matplotlib.figure.Figure at 0x68352d0>"
      ]
     },
     "metadata": {},
     "output_type": "display_data"
    },
    {
     "data": {
      "text/plain": [
       "<sympy.plotting.plot.Plot at 0x67aec10>"
      ]
     },
     "execution_count": 12,
     "metadata": {},
     "output_type": "execute_result"
    }
   ],
   "source": [
    "import sympy as sp\n",
    "sp.plotting.plot3d(funcio, xlabel= 'X',ylabel= 'Y', zlabel= 'Z')"
   ]
  },
  {
   "cell_type": "code",
   "execution_count": 10,
   "metadata": {},
   "outputs": [
    {
     "data": {
      "image/png": "[encoded data removed]",
      "text/latex": [
       "$$10 x \\sin{\\left (y \\right )}$$"
      ],
      "text/plain": [
       "10⋅x⋅sin(y)"
      ]
     },
     "execution_count": 10,
     "metadata": {},
     "output_type": "execute_result"
    }
   ],
   "source": [
    "# d(5sin(y)x**2) / dx\n",
    "sp.diff(funcio,x)"
   ]
  },
  {
   "cell_type": "code",
   "execution_count": 11,
   "metadata": {},
   "outputs": [
    {
     "data": {
      "image/png": "[encoded data removed]",
      "text/latex": [
       "$$5 x^{2} \\cos{\\left (y \\right )}$$"
      ],
      "text/plain": [
       "   2       \n",
       "5⋅x ⋅cos(y)"
      ]
     },
     "execution_count": 11,
     "metadata": {},
     "output_type": "execute_result"
    }
   ],
   "source": [
    "# d(5sin(y)x**2) / dy\n",
    "sp.diff(funcio,y)"
   ]
  },
  {
   "cell_type": "code",
   "execution_count": 13,
   "metadata": {},
   "outputs": [
    {
     "data": {
      "image/png": "[encoded data removed]",
      "text/latex": [
       "$$10 x \\cos{\\left (y \\right )}$$"
      ],
      "text/plain": [
       "10⋅x⋅cos(y)"
      ]
     },
     "execution_count": 13,
     "metadata": {},
     "output_type": "execute_result"
    }
   ],
   "source": [
    "# d2(5sin(y)x**2) / dxdy\n",
    "sp.diff(sp.diff(funcio,y),x)"
   ]
  },
  {
   "cell_type": "markdown",
   "metadata": {},
   "source": [
    "### Exercici 15.3.1\n",
    "\n",
    "___\n",
    "\n",
    ">  * Sigui un $porc$ volador de massa $m$ que segueix la trajectòria:\n",
    ">>    $$ X(t) = a + b\\cdot t^{3} $$\n",
    "    $$ Y(t) = c + d\\cos(e\\cdot t) $$\n",
    "    $$ a, b, c, d, e > 0 $$\n",
    "\n",
    ">   * Trobeu l'expressió de la força que l'impulsa en cada instant de temps.\n",
    ">   * Representeu:\n",
    ">      1. la trajectòria en el pla X-Y\n",
    ">      2. la velocitat i la força totals en funció del temps\n",
    ">    * Considereu que $ a = 1, b = 1, c = 14, d = 10, e = 2, m = 500$, expressats en unitats S.I."
   ]
  },
  {
   "cell_type": "code",
   "execution_count": 25,
   "metadata": {},
   "outputs": [
    {
     "data": {
      "text/latex": [
       "$$\\begin{pmatrix}a + b t^{3}, & c + d \\cos{\\left (e t \\right )}\\end{pmatrix}$$"
      ],
      "text/plain": [
       "⎛       3                ⎞\n",
       "⎝a + b⋅t , c + d⋅cos(e⋅t)⎠"
      ]
     },
     "execution_count": 25,
     "metadata": {},
     "output_type": "execute_result"
    }
   ],
   "source": [
    "import sympy\n",
    "sympy.init_printing()\n",
    "\n",
    "sympy.var(\"t\")\n",
    "sympy.var(\"a\")\n",
    "sympy.var(\"b\")\n",
    "sympy.var(\"c\")\n",
    "sympy.var(\"d\")\n",
    "sympy.var(\"e\")\n",
    "\n",
    "#definim eq trajectoria\n",
    "x_porc = a + b * t**3\n",
    "y_porc = c + d * sympy.cos(e*t)\n",
    "(x_porc,y_porc)"
   ]
  },
  {
   "cell_type": "code",
   "execution_count": 26,
   "metadata": {},
   "outputs": [
    {
     "data": {
      "text/latex": [
       "$$\\begin{pmatrix}3 b t^{2}, & - d e \\sin{\\left (e t \\right )}, & \\sqrt{9 b^{2} t^{4} + d^{2} e^{2} \\sin^{2}{\\left (e t \\right )}}\\end{pmatrix}$$"
      ],
      "text/plain": [
       "⎛                          ___________________________⎞\n",
       "⎜     2                   ╱    2  4    2  2    2      ⎟\n",
       "⎝3⋅b⋅t , -d⋅e⋅sin(e⋅t), ╲╱  9⋅b ⋅t  + d ⋅e ⋅sin (e⋅t) ⎠"
      ]
     },
     "execution_count": 26,
     "metadata": {},
     "output_type": "execute_result"
    }
   ],
   "source": [
    "#calculem velocitats\n",
    "vx_porc = x_porc.diff(t)\n",
    "vy_porc = y_porc.diff(t)\n",
    "#calculem mòdul de la velocitat\n",
    "vTOTAL_porc =sympy.sqrt(vx_porc**2 + vy_porc**2)\n",
    "vx_porc, vy_porc, vTOTAL_porc"
   ]
  },
  {
   "cell_type": "code",
   "execution_count": 27,
   "metadata": {},
   "outputs": [
    {
     "data": {
      "text/latex": [
       "$$\\begin{pmatrix}6 b t, & - d e^{2} \\cos{\\left (e t \\right )}\\end{pmatrix}$$"
      ],
      "text/plain": [
       "⎛           2         ⎞\n",
       "⎝6⋅b⋅t, -d⋅e ⋅cos(e⋅t)⎠"
      ]
     },
     "execution_count": 27,
     "metadata": {},
     "output_type": "execute_result"
    }
   ],
   "source": [
    "#calculem acceleracions\n",
    "ax_porc = vx_porc.diff(t)\n",
    "ay_porc = vy_porc.diff(t)\n",
    "ax_porc, ay_porc"
   ]
  },
  {
   "cell_type": "code",
   "execution_count": 28,
   "metadata": {},
   "outputs": [
    {
     "data": {
      "text/latex": [
       "$$\\begin{pmatrix}6 b m t, & - d e^{2} m \\cos{\\left (e t \\right )}, & \\sqrt{36 b^{2} m^{2} t^{2} + d^{2} e^{4} m^{2} \\cos^{2}{\\left (e t \\right )}}\\end{pmatrix}$$"
      ],
      "text/plain": [
       "⎛                              __________________________________⎞\n",
       "⎜             2               ╱     2  2  2    2  4  2    2      ⎟\n",
       "⎝6⋅b⋅m⋅t, -d⋅e ⋅m⋅cos(e⋅t), ╲╱  36⋅b ⋅m ⋅t  + d ⋅e ⋅m ⋅cos (e⋅t) ⎠"
      ]
     },
     "execution_count": 28,
     "metadata": {},
     "output_type": "execute_result"
    }
   ],
   "source": [
    "#apliquem segona llei de Newton\n",
    "sympy.var(\"m\")\n",
    "Fx_porc = ax_porc * m\n",
    "Fy_porc = ay_porc * m\n",
    "#calculem mòdul de la força\n",
    "FTOTAL_porc =sympy.sqrt(Fx_porc**2 + Fy_porc**2)\n",
    "Fx_porc, Fy_porc, FTOTAL_porc"
   ]
  },
  {
   "cell_type": "code",
   "execution_count": 30,
   "metadata": {},
   "outputs": [
    {
     "data": {
      "text/latex": [
       "$$\\begin{pmatrix}t^{3} + 1, & 10 \\cos{\\left (2 t \\right )} + 14, & \\sqrt{9 t^{4} + 400 \\sin^{2}{\\left (2 t \\right )}}, & \\sqrt{9000000 t^{2} + 400000000 \\cos^{2}{\\left (2 t \\right )}}\\end{pmatrix}$$"
      ],
      "text/plain": [
       "⎛                             ______________________     _____________________\n",
       "⎜ 3                          ╱    4          2          ╱          2          \n",
       "⎝t  + 1, 10⋅cos(2⋅t) + 14, ╲╱  9⋅t  + 400⋅sin (2⋅t) , ╲╱  9000000⋅t  + 4000000\n",
       "\n",
       "_____________⎞\n",
       "      2      ⎟\n",
       "00⋅cos (2⋅t) ⎠"
      ]
     },
     "execution_count": 30,
     "metadata": {},
     "output_type": "execute_result"
    }
   ],
   "source": [
    "#substituació numèrica\n",
    "valor_a = 1\n",
    "valor_b = 1\n",
    "valor_c = 14\n",
    "valor_d = 10\n",
    "valor_e = 2\n",
    "valor_m = 500\n",
    "\n",
    "\n",
    "# trajectoria porc, només depen de t\n",
    "x_porc_num = x_porc.subs(a,valor_a).subs(b,valor_b).subs(c,valor_c).subs(d,valor_d).subs(e,valor_e)\n",
    "y_porc_num = y_porc.subs(a,valor_a).subs(b,valor_b).subs(c,valor_c).subs(d,valor_d).subs(e,valor_e)\n",
    "\n",
    "# velocitat total porc, només depèn de t\n",
    "vTOTAL_porc_num = vTOTAL_porc.subs(a,valor_a).subs(b,valor_b).subs(c,valor_c).subs(d,valor_d).subs(e,valor_e)\n",
    "\n",
    "# força total porc, només depèn de t\n",
    "FTOTAL_porc_num = FTOTAL_porc.subs(a,valor_a).subs(b,valor_b).subs(c,valor_c).subs(d,valor_d).subs(e,valor_e).subs(m,valor_m)\n",
    "\n",
    "x_porc_num, y_porc_num, vTOTAL_porc_num, FTOTAL_porc_num"
   ]
  },
  {
   "cell_type": "code",
   "execution_count": 31,
   "metadata": {},
   "outputs": [
    {
     "data": {
      "image/png": "[encoded data removed]",
      "text/plain": [
       "<matplotlib.figure.Figure at 0x8023978>"
      ]
     },
     "metadata": {},
     "output_type": "display_data"
    },
    {
     "data": {
      "text/plain": [
       "<sympy.plotting.plot.Plot at 0x8023a90>"
      ]
     },
     "execution_count": 31,
     "metadata": {},
     "output_type": "execute_result"
    }
   ],
   "source": [
    "#exemple representació paramètrica 2D\n",
    "import sympy as sp\n",
    "sp.plotting.plot_parametric(x_porc_num, y_porc_num, (t,0,7), xlabel = \"posicio x [m]\",ylabel = \"posicio y [m]\", title = \"trajectoria del porc\" )"
   ]
  },
  {
   "cell_type": "code",
   "execution_count": 32,
   "metadata": {},
   "outputs": [
    {
     "data": {
      "image/png": "[encoded data removed]",
      "text/plain": [
       "<matplotlib.figure.Figure at 0x827a0b8>"
      ]
     },
     "metadata": {},
     "output_type": "display_data"
    },
    {
     "data": {
      "image/png": "[encoded data removed]",
      "text/plain": [
       "<matplotlib.figure.Figure at 0x81022b0>"
      ]
     },
     "metadata": {},
     "output_type": "display_data"
    },
    {
     "data": {
      "text/plain": [
       "<sympy.plotting.plot.Plot at 0x827e4e0>"
      ]
     },
     "execution_count": 32,
     "metadata": {},
     "output_type": "execute_result"
    }
   ],
   "source": [
    "# representació velocitat i força\n",
    "import sympy as sp\n",
    "sp.plotting.plot(vTOTAL_porc_num, (t,0,7), xlabel = \"temps [s]\", ylabel = \"velocitat total [m/s]\", title = \"velocitat del porc\" )\n",
    "sp.plotting.plot(FTOTAL_porc_num, (t,0,7), xlabel = \"temps [s]\",ylabel = \"forc,a total [N]\", title = \"forc,a sobre el porc\" )"
   ]
  },
  {
   "cell_type": "code",
   "execution_count": 33,
   "metadata": {},
   "outputs": [
    {
     "data": {
      "image/png": "[encoded data removed]",
      "text/plain": [
       "<matplotlib.figure.Figure at 0x7bf5c88>"
      ]
     },
     "metadata": {},
     "output_type": "display_data"
    },
    {
     "data": {
      "text/plain": [
       "<sympy.plotting.plot.Plot at 0x7bf5978>"
      ]
     },
     "execution_count": 33,
     "metadata": {},
     "output_type": "execute_result"
    }
   ],
   "source": [
    "#exemple representació paramètrica 3D\n",
    "import sympy as sp\n",
    "sp.plotting.plot3d_parametric_line(y_porc_num, x_porc_num, t, (t,0,7), xlabel = \"Y\",ylabel = \"X\",zlabel = \"t\" )"
   ]
  },
  {
   "cell_type": "markdown",
   "metadata": {},
   "source": [
    "### Exercici 15.3.2\n",
    "\n",
    "> * Trobeu la longitud mínima d'un cable, que s'ha de mantenir en tensió entre l'extrem d'un màstil de $6m$ d'alçada, el terra, i un altre mástil de $8m$ d'alçada. Els mástils estan separats $10m$."
   ]
  },
  {
   "cell_type": "markdown",
   "metadata": {},
   "source": [
    "* La longitud del cable serà:"
   ]
  },
  {
   "cell_type": "code",
   "execution_count": 34,
   "metadata": {},
   "outputs": [
    {
     "data": {
      "image/png": "[encoded data removed]",
      "text/latex": [
       "$$y_{1} + y_{2}$$"
      ],
      "text/plain": [
       "y₁ + y₂"
      ]
     },
     "execution_count": 34,
     "metadata": {},
     "output_type": "execute_result"
    }
   ],
   "source": [
    "import sympy\n",
    "sympy.var(\"y1\") #longitud segment mastil1 - terra\n",
    "sympy.var(\"y2\") #longitud segment terra - mastil2\n",
    "\n",
    "L = y1 + y2     #longitud del cable\n",
    "L"
   ]
  },
  {
   "cell_type": "markdown",
   "metadata": {},
   "source": [
    "* El contacte amb el terra, en un punt $x$ entre els dos mástils (separats $10m$) imposa dues lligadures:\n",
    "$$ y_1 = \\sqrt{(6m)^2 + x^2} $$\n",
    "$$ y_2 = \\sqrt{(8m)^2 + (10m-x)^2} $$"
   ]
  },
  {
   "cell_type": "code",
   "execution_count": 35,
   "metadata": {},
   "outputs": [
    {
     "data": {
      "image/png": "[encoded data removed]",
      "text/latex": [
       "$$\\sqrt{x^{2} + 36} + \\sqrt{\\left(- x + 10\\right)^{2} + 64}$$"
      ],
      "text/plain": [
       "   _________      _________________\n",
       "  ╱  2           ╱          2      \n",
       "╲╱  x  + 36  + ╲╱  (-x + 10)  + 64 "
      ]
     },
     "execution_count": 35,
     "metadata": {},
     "output_type": "execute_result"
    }
   ],
   "source": [
    "sympy.var(\"x\")\n",
    "\n",
    "L_lligadura = L.subs(y1, sympy.sqrt(6**2+x**2)).subs(y2, sympy.sqrt(8**2+(10-x)**2))\n",
    "L_lligadura"
   ]
  },
  {
   "cell_type": "markdown",
   "metadata": {},
   "source": [
    "* Calculem la primera derivada:"
   ]
  },
  {
   "cell_type": "code",
   "execution_count": 36,
   "metadata": {},
   "outputs": [
    {
     "data": {
      "image/png": "[encoded data removed]",
      "text/latex": [
       "$$\\frac{x}{\\sqrt{x^{2} + 36}} + \\frac{x - 10}{\\sqrt{\\left(- x + 10\\right)^{2} + 64}}$$"
      ],
      "text/plain": [
       "     x                x - 10       \n",
       "──────────── + ────────────────────\n",
       "   _________      _________________\n",
       "  ╱  2           ╱          2      \n",
       "╲╱  x  + 36    ╲╱  (-x + 10)  + 64 "
      ]
     },
     "execution_count": 36,
     "metadata": {},
     "output_type": "execute_result"
    }
   ],
   "source": [
    "L_deriv = sp.diff(L_lligadura,x)\n",
    "L_deriv"
   ]
  },
  {
   "cell_type": "markdown",
   "metadata": {},
   "source": [
    "* Trobem l'extrem de la funció fent $\\frac{dL}{dx} = 0$:"
   ]
  },
  {
   "cell_type": "code",
   "execution_count": 38,
   "metadata": {},
   "outputs": [
    {
     "data": {
      "text/latex": [
       "$$\\begin{bmatrix}\\frac{30}{7}\\end{bmatrix}$$"
      ],
      "text/plain": [
       "[30/7]"
      ]
     },
     "execution_count": 38,
     "metadata": {},
     "output_type": "execute_result"
    }
   ],
   "source": [
    "x_solucio = sympy.solve(L_deriv, x)\n",
    "x_solucio"
   ]
  },
  {
   "cell_type": "markdown",
   "metadata": {},
   "source": [
    "* Comprovem que és un mínim si $\\frac{d^2L}{dx^2} > 0$:"
   ]
  },
  {
   "cell_type": "code",
   "execution_count": 40,
   "metadata": {},
   "outputs": [
    {
     "name": "stdout",
     "output_type": "stream",
     "text": [
      "És un mínim? True\n"
     ]
    }
   ],
   "source": [
    "print (\"És un mínim? %s\" % (sp.diff(L_lligadura, x, 2).subs(x,x_solucio[0]) > 0))"
   ]
  },
  {
   "cell_type": "markdown",
   "metadata": {},
   "source": [
    "* Per tot això:"
   ]
  },
  {
   "cell_type": "code",
   "execution_count": 42,
   "metadata": {},
   "outputs": [
    {
     "name": "stdout",
     "output_type": "stream",
     "text": [
      "La longitud de la corda més curta és 17.205m\n",
      "i toca el terra en un punt situat a 4.286m de la torre de 6m d'alçada.\n"
     ]
    }
   ],
   "source": [
    "print (\"La longitud de la corda més curta és %4.3fm\" % L_lligadura.subs(x,x_solucio[0]))\n",
    "print (\"i toca el terra en un punt situat a %4.3fm de la torre de 6m d'alçada.\" % x_solucio[0])"
   ]
  },
  {
   "cell_type": "markdown",
   "metadata": {},
   "source": [
    "## 15.3.2 Integració\n",
    "\n",
    "### 15.3.2.1 Integrals indefinides\n",
    "\n",
    "`Sympy` permet fer integració simbòlica de funcions mitjançant la funció **`.integrate(`**`exp`**`,`**`var`**`)`**, que, en la seva forma més bàsica, rep com a arguments:\n",
    "\n",
    "  * una `exp`ressió simbòlica a integrar i\n",
    "  * la `var`iable sobre la que integrar."
   ]
  },
  {
   "cell_type": "code",
   "execution_count": 43,
   "metadata": {},
   "outputs": [
    {
     "name": "stdout",
     "output_type": "stream",
     "text": [
      "Integrant x**2 + 5*x + 1\n"
     ]
    },
    {
     "data": {
      "image/png": "[encoded data removed]",
      "text/latex": [
       "$$\\frac{x^{3}}{3} + \\frac{5 x^{2}}{2} + x$$"
      ],
      "text/plain": [
       " 3      2    \n",
       "x    5⋅x     \n",
       "── + ──── + x\n",
       "3     2      "
      ]
     },
     "execution_count": 43,
     "metadata": {},
     "output_type": "execute_result"
    }
   ],
   "source": [
    "import sympy as sp\n",
    "sp.init_printing()\n",
    "sp.var(\"x\")\n",
    "\n",
    "print (\"Integrant x**2 + 5*x + 1\")\n",
    "sp.integrate(x**2 + 5*x + 1, x)"
   ]
  },
  {
   "cell_type": "code",
   "execution_count": 44,
   "metadata": {},
   "outputs": [
    {
     "name": "stdout",
     "output_type": "stream",
     "text": [
      "Integrant sin(x)*exp(x)\n"
     ]
    },
    {
     "data": {
      "image/png": "[encoded data removed]",
      "text/latex": [
       "$$\\frac{e^{x}}{2} \\sin{\\left (x \\right )} - \\frac{e^{x}}{2} \\cos{\\left (x \\right )}$$"
      ],
      "text/plain": [
       " x           x       \n",
       "ℯ ⋅sin(x)   ℯ ⋅cos(x)\n",
       "───────── - ─────────\n",
       "    2           2    "
      ]
     },
     "execution_count": 44,
     "metadata": {},
     "output_type": "execute_result"
    }
   ],
   "source": [
    "print (\"Integrant sin(x)*exp(x)\")\n",
    "sp.integrate(sp.sin(x)*sp.exp(x),x)"
   ]
  },
  {
   "cell_type": "markdown",
   "metadata": {},
   "source": [
    "\n",
    "### 12.3.2.2 Integració respecte múltiples variables\n",
    "\n",
    "Aquesta mateixa funció permet fer integrals múltiples, respecte diverses variables."
   ]
  },
  {
   "cell_type": "code",
   "execution_count": 45,
   "metadata": {},
   "outputs": [
    {
     "data": {
      "image/png": "[encoded data removed]",
      "text/latex": [
       "$$5 x^{2} \\sin{\\left (y \\right )}$$"
      ],
      "text/plain": [
       "   2       \n",
       "5⋅x ⋅sin(y)"
      ]
     },
     "execution_count": 45,
     "metadata": {},
     "output_type": "execute_result"
    }
   ],
   "source": [
    "import sympy as sp\n",
    "sp.init_printing()\n",
    "sp.var(\"x\")\n",
    "sp.var(\"y\")\n",
    "funcio = x**2 * 5*sp.sin(y)\n",
    "funcio"
   ]
  },
  {
   "cell_type": "code",
   "execution_count": 46,
   "metadata": {},
   "outputs": [
    {
     "data": {
      "image/png": "[encoded data removed]",
      "text/latex": [
       "$$- \\frac{5 x^{3}}{3} \\cos{\\left (y \\right )}$$"
      ],
      "text/plain": [
       "    3        \n",
       "-5⋅x ⋅cos(y) \n",
       "─────────────\n",
       "      3      "
      ]
     },
     "execution_count": 46,
     "metadata": {},
     "output_type": "execute_result"
    }
   ],
   "source": [
    "sp.integrate(funcio, x, y)"
   ]
  },
  {
   "cell_type": "code",
   "execution_count": 47,
   "metadata": {},
   "outputs": [
    {
     "data": {
      "image/png": "[encoded data removed]",
      "text/latex": [
       "$$- \\frac{5 x^{3}}{3} \\cos{\\left (y \\right )}$$"
      ],
      "text/plain": [
       "    3        \n",
       "-5⋅x ⋅cos(y) \n",
       "─────────────\n",
       "      3      "
      ]
     },
     "execution_count": 47,
     "metadata": {},
     "output_type": "execute_result"
    }
   ],
   "source": [
    "# que és el mateix que fer\n",
    "sp.integrate(sp.integrate(funcio,x),y)"
   ]
  },
  {
   "cell_type": "markdown",
   "metadata": {},
   "source": [
    "Fent integrals definides sobre més d'una variable es poden calcular volums i hipervolums (veurem un exercici més endavant)"
   ]
  },
  {
   "cell_type": "markdown",
   "metadata": {},
   "source": [
    "### 15.3.2.3 Integrals definides\n",
    "\n",
    "La mateixa funció `.integrate()` permet també calcular **integrals definides** indicant els límits d'integració. Per exemple la integral:\n",
    "\n",
    "$$\\int_0^\\pi sin(x) dx = -cos(x)|_0^\\pi = 2$$\n",
    "\n",
    "s'implementa com:"
   ]
  },
  {
   "cell_type": "code",
   "execution_count": 48,
   "metadata": {},
   "outputs": [
    {
     "data": {
      "image/png": "[encoded data removed]",
      "text/latex": [
       "$$2$$"
      ],
      "text/plain": [
       "2"
      ]
     },
     "execution_count": 48,
     "metadata": {},
     "output_type": "execute_result"
    }
   ],
   "source": [
    "import sympy as sp\n",
    "sp.init_printing()\n",
    "\n",
    "sp.var(\"x\")\n",
    "\n",
    "sp.integrate(sp.sin(x),(x,0,sp.pi))"
   ]
  },
  {
   "cell_type": "markdown",
   "metadata": {},
   "source": [
    "Fixeu-vos que cal indicar la variable d´integració i els seus extrems com una tupla:\n",
    "`(variable, extrem_inferior, extrem_superior)`"
   ]
  },
  {
   "cell_type": "markdown",
   "metadata": {},
   "source": [
    "Es pot indicar també un límit d'integració infinit ($\\infty$) amb el símbol `simpy.oo` . L'exemple següent implementa la integral:\n",
    "\n",
    "$$\\int_0^\\infty e^{-x} dx = e^{-x} |_0^\\infty = 1$$"
   ]
  },
  {
   "cell_type": "code",
   "execution_count": 49,
   "metadata": {},
   "outputs": [
    {
     "data": {
      "image/png": "[encoded data removed]",
      "text/latex": [
       "$$1$$"
      ],
      "text/plain": [
       "1"
      ]
     },
     "execution_count": 49,
     "metadata": {},
     "output_type": "execute_result"
    }
   ],
   "source": [
    "import sympy as sp\n",
    "sp.init_printing()\n",
    "\n",
    "sp.var(\"x\")\n",
    "\n",
    "sp.integrate(sp.exp(-x),(x,0,sp.oo))"
   ]
  },
  {
   "cell_type": "markdown",
   "metadata": {},
   "source": [
    "De forma similar es poden calcular integrals múltiples definides. Per exemple, la integral:\n",
    "\n",
    "$$\\int_0^\\infty \\int_0^\\infty e^{-x^2 - y^2} dx dy = \\pi$$"
   ]
  },
  {
   "cell_type": "code",
   "execution_count": 50,
   "metadata": {},
   "outputs": [
    {
     "data": {
      "image/png": "[encoded data removed]",
      "text/latex": [
       "$$\\pi$$"
      ],
      "text/plain": [
       "π"
      ]
     },
     "execution_count": 50,
     "metadata": {},
     "output_type": "execute_result"
    }
   ],
   "source": [
    "import sympy as sp\n",
    "sp.init_printing()\n",
    "\n",
    "sp.var(\"x\")\n",
    "sp.var(\"y\")\n",
    "\n",
    "sp.integrate(sp.exp(-x**2 - y**2), (x, -sp.oo, sp.oo), (y, -sp.oo, sp.oo))"
   ]
  },
  {
   "cell_type": "markdown",
   "metadata": {},
   "source": [
    "**Atenció!**: Els límits d'integracio poden ser símbols, i el resultat s'expressa en funció d'ells. Per exemple:\n",
    "\n",
    "$$\\int_0^a sin(x) dx = -cos(a) + 1$$"
   ]
  },
  {
   "cell_type": "code",
   "execution_count": 51,
   "metadata": {},
   "outputs": [
    {
     "data": {
      "image/png": "[encoded data removed]",
      "text/latex": [
       "$$- \\cos{\\left (a \\right )} + 1$$"
      ],
      "text/plain": [
       "-cos(a) + 1"
      ]
     },
     "execution_count": 51,
     "metadata": {},
     "output_type": "execute_result"
    }
   ],
   "source": [
    "import sympy as sp\n",
    "sp.init_printing()\n",
    "\n",
    "sp.var(\"x\")\n",
    "sp.var(\"a\")\n",
    "\n",
    "sp.integrate(sp.sin(x),(x,0,a))\n"
   ]
  },
  {
   "cell_type": "markdown",
   "metadata": {},
   "source": [
    "Però compte, si el resultat simbòlic depèn del domini de definició del símbol, podem trobar **solucions definides a troços**. \n",
    "\n",
    "En l'exemple següent el resultat indica dues possibilitats per què la integral  $\\int_{0}^{\\infty} x^a e^{-x} dx$ no convergeix si la part real de $a$ no és $>1$"
   ]
  },
  {
   "cell_type": "code",
   "execution_count": 53,
   "metadata": {},
   "outputs": [
    {
     "data": {
      "text/latex": [
       "$$\\begin{cases} \\Gamma{\\left(a + 1 \\right)} & \\text{for}\\: - \\Re{a} < 1 \\\\\\int_{0}^{\\infty} x^{a} e^{- x}\\, dx & \\text{otherwise} \\end{cases}$$"
      ],
      "text/plain": [
       "⎧ Γ(a + 1)    for -re(a) < 1\n",
       "⎪                           \n",
       "⎪∞                          \n",
       "⎪⌠                          \n",
       "⎨⎮  a  -x                   \n",
       "⎪⎮ x ⋅ℯ   dx    otherwise   \n",
       "⎪⌡                          \n",
       "⎪0                          \n",
       "⎩                           "
      ]
     },
     "execution_count": 53,
     "metadata": {},
     "output_type": "execute_result"
    }
   ],
   "source": [
    "import sympy as sp\n",
    "sp.init_printing()\n",
    "\n",
    "sp.var(\"x\")\n",
    "sp.var(\"a\")\n",
    "\n",
    "sp.integrate(x**a*sp.exp(-x), (x, 0, sp.oo))"
   ]
  },
  {
   "cell_type": "markdown",
   "metadata": {},
   "source": [
    "### Exercici 15.3.3\n",
    "\n",
    "___\n",
    "\n",
    ">  * Demostreu que l'àrea $A_{elipse}$ d´una el.lipse $\\frac{x^2}{a^2} + \\frac{y^2}{b^2} = 1 $ val:\n",
    ">>    $$ A_{elipse} = \\pi \\ ab$$\n",
    ">  * Demostreu que l'àrea $A_{cercle}$ d´un cercle de radi $r$ val:\n",
    ">>    $$ A_{cercle} = \\pi \\ r^2$$"
   ]
  },
  {
   "cell_type": "code",
   "execution_count": 54,
   "metadata": {},
   "outputs": [
    {
     "data": {
      "image/png": "[encoded data removed]",
      "text/latex": [
       "$$b \\sqrt{1 - \\frac{x^{2}}{a^{2}}}$$"
      ],
      "text/plain": [
       "        ________\n",
       "       ╱      2 \n",
       "      ╱      x  \n",
       "b⋅   ╱   1 - ── \n",
       "    ╱         2 \n",
       "  ╲╱         a  "
      ]
     },
     "execution_count": 54,
     "metadata": {},
     "output_type": "execute_result"
    }
   ],
   "source": [
    "#comencem per l'el·lipse\n",
    "import sympy as sp\n",
    "sp.init_printing()\n",
    "\n",
    "sp.var(\"x\")\n",
    "sp.var(\"a\")\n",
    "sp.var(\"b\")\n",
    "\n",
    "semi_elipse = b*sp.sqrt(1-(x/a)**2)\n",
    "semi_elipse"
   ]
  },
  {
   "cell_type": "code",
   "execution_count": 56,
   "metadata": {},
   "outputs": [
    {
     "data": {
      "text/latex": [
       "$$b \\begin{cases} - \\frac{i a}{2} \\operatorname{acosh}{\\left (\\frac{x}{a} \\right )} - \\frac{i x}{2 \\sqrt{-1 + \\frac{x^{2}}{a^{2}}}} + \\frac{i x^{3}}{2 a^{2} \\sqrt{-1 + \\frac{x^{2}}{a^{2}}}} & \\text{for}\\: \\left\\lvert{\\frac{x^{2}}{a^{2}}}\\right\\rvert > 1 \\\\\\frac{a}{2} \\operatorname{asin}{\\left (\\frac{x}{a} \\right )} + \\frac{x}{2} \\sqrt{1 - \\frac{x^{2}}{a^{2}}} & \\text{otherwise} \\end{cases}$$"
      ],
      "text/plain": [
       "  ⎛⎧           ⎛x⎞                                                         ⎞\n",
       "  ⎜⎪  ⅈ⋅a⋅acosh⎜─⎟                                  3              │ 2│    ⎟\n",
       "  ⎜⎪           ⎝a⎠          ⅈ⋅x                  ⅈ⋅x               │x │    ⎟\n",
       "  ⎜⎪- ──────────── - ───────────────── + ────────────────────  for │──│ > 1⎟\n",
       "  ⎜⎪       2                 _________              _________      │ 2│    ⎟\n",
       "  ⎜⎪                        ╱       2              ╱       2       │a │    ⎟\n",
       "  ⎜⎪                       ╱       x        2     ╱       x                ⎟\n",
       "  ⎜⎪                 2⋅   ╱   -1 + ──    2⋅a ⋅   ╱   -1 + ──               ⎟\n",
       "  ⎜⎪                     ╱          2           ╱          2               ⎟\n",
       "b⋅⎜⎨                   ╲╱          a          ╲╱          a                ⎟\n",
       "  ⎜⎪                                                                       ⎟\n",
       "  ⎜⎪                                  ________                             ⎟\n",
       "  ⎜⎪                                 ╱      2                              ⎟\n",
       "  ⎜⎪                                ╱      x                               ⎟\n",
       "  ⎜⎪                    ⎛x⎞   x⋅   ╱   1 - ──                              ⎟\n",
       "  ⎜⎪              a⋅asin⎜─⎟       ╱         2                              ⎟\n",
       "  ⎜⎪                    ⎝a⎠     ╲╱         a                               ⎟\n",
       "  ⎜⎪              ───────── + ────────────────                  otherwise  ⎟\n",
       "  ⎝⎩                  2              2                                     ⎠"
      ]
     },
     "execution_count": 56,
     "metadata": {},
     "output_type": "execute_result"
    }
   ],
   "source": [
    "sp.integrate(semi_elipse, x) #mirem si existeix la primitiva"
   ]
  },
  {
   "cell_type": "code",
   "execution_count": 57,
   "metadata": {},
   "outputs": [
    {
     "data": {
      "image/png": "[encoded data removed]",
      "text/latex": [
       "$$\\pi a b$$"
      ],
      "text/plain": [
       "π⋅a⋅b"
      ]
     },
     "execution_count": 57,
     "metadata": {},
     "output_type": "execute_result"
    }
   ],
   "source": [
    "area_elipse = 4 * sp.integrate(semi_elipse, (x, 0, a))  #integrem un quadrant de l'elipse (mitja semielipse)\n",
    "area_elipse"
   ]
  },
  {
   "cell_type": "code",
   "execution_count": 58,
   "metadata": {},
   "outputs": [
    {
     "data": {
      "image/png": "[encoded data removed]",
      "text/latex": [
       "$$\\pi r^{2}$$"
      ],
      "text/plain": [
       "   2\n",
       "π⋅r "
      ]
     },
     "execution_count": 58,
     "metadata": {},
     "output_type": "execute_result"
    }
   ],
   "source": [
    "sp.var(\"r\")  #el cercle és un cas particular de l'el·lipse\n",
    "area_cercle = area_elipse.subs(a,r).subs(b,r)\n",
    "area_cercle"
   ]
  },
  {
   "cell_type": "markdown",
   "metadata": {},
   "source": [
    "### Exercici 15.3.4\n",
    "\n",
    "___\n",
    "\n",
    ">  * Tracteu de calcular amb `sympy` el perímetre $P_{elipse}$ d´una el.lipse $\\frac{x^2}{a^2} + \\frac{y^2}{b^2} = 1.$\n",
    ">  * Tracteu de demostrar amb `sympy` que el perímetre $P_{cercle}$ d´un cercle de radi $r$ val:\n",
    ">>    $$ P_{cercle} = 2 \\ \\pi \\ r$$\n",
    "\n",
    "> _Ajuda: La longitud $L$ d'una funció arbitrària $f(x)$ en l'interval $x \\in [a,b]$ es pot calcular com\n",
    "$$L = \\int_a^b \\sqrt{1+\\left(\\frac{df}{dx}\\right)^2} \\ dx$$_"
   ]
  },
  {
   "cell_type": "code",
   "execution_count": 59,
   "metadata": {},
   "outputs": [
    {
     "data": {
      "image/png": "[encoded data removed]",
      "text/latex": [
       "$$b \\sqrt{1 - \\frac{x^{2}}{a^{2}}}$$"
      ],
      "text/plain": [
       "        ________\n",
       "       ╱      2 \n",
       "      ╱      x  \n",
       "b⋅   ╱   1 - ── \n",
       "    ╱         2 \n",
       "  ╲╱         a  "
      ]
     },
     "execution_count": 59,
     "metadata": {},
     "output_type": "execute_result"
    }
   ],
   "source": [
    "import sympy as sp\n",
    "sp.init_printing()\n",
    "\n",
    "sp.var(\"x\")\n",
    "sp.var(\"a\")\n",
    "sp.var(\"b\")\n",
    "\n",
    "semi_elipse = b*sp.sqrt(1-(x/a)**2)\n",
    "semi_elipse"
   ]
  },
  {
   "cell_type": "code",
   "execution_count": 60,
   "metadata": {},
   "outputs": [
    {
     "data": {
      "image/png": "[encoded data removed]",
      "text/latex": [
       "$$- \\frac{b x}{a^{2} \\sqrt{1 - \\frac{x^{2}}{a^{2}}}}$$"
      ],
      "text/plain": [
       "      -b⋅x       \n",
       "─────────────────\n",
       "         ________\n",
       "        ╱      2 \n",
       " 2     ╱      x  \n",
       "a ⋅   ╱   1 - ── \n",
       "     ╱         2 \n",
       "   ╲╱         a  "
      ]
     },
     "execution_count": 60,
     "metadata": {},
     "output_type": "execute_result"
    }
   ],
   "source": [
    "deriv_semi_elipse = sp.diff(semi_elipse,x)\n",
    "deriv_semi_elipse\n"
   ]
  },
  {
   "cell_type": "code",
   "execution_count": 61,
   "metadata": {},
   "outputs": [
    {
     "data": {
      "image/png": "[encoded data removed]",
      "text/latex": [
       "$$\\sqrt{\\frac{a^{2} \\left(a^{2} - x^{2}\\right) + b^{2} x^{2}}{a^{2} \\left(a^{2} - x^{2}\\right)}}$$"
      ],
      "text/plain": [
       "      ______________________\n",
       "     ╱  2 ⎛ 2    2⎞    2  2 \n",
       "    ╱  a ⋅⎝a  - x ⎠ + b ⋅x  \n",
       "   ╱   ──────────────────── \n",
       "  ╱         2 ⎛ 2    2⎞     \n",
       "╲╱         a ⋅⎝a  - x ⎠     "
      ]
     },
     "execution_count": 61,
     "metadata": {},
     "output_type": "execute_result"
    }
   ],
   "source": [
    "funcio_longitud = sp.sqrt(1+deriv_semi_elipse**2).simplify()\n",
    "funcio_longitud"
   ]
  },
  {
   "cell_type": "code",
   "execution_count": 62,
   "metadata": {},
   "outputs": [
    {
     "data": {
      "image/png": "[encoded data removed]",
      "text/latex": [
       "$$\\int \\sqrt{\\frac{a^{2} \\left(a^{2} - x^{2}\\right) + b^{2} x^{2}}{a^{2} \\left(a^{2} - x^{2}\\right)}}\\, dx$$"
      ],
      "text/plain": [
       "⌠                                \n",
       "⎮       ______________________   \n",
       "⎮      ╱  2 ⎛ 2    2⎞    2  2    \n",
       "⎮     ╱  a ⋅⎝a  - x ⎠ + b ⋅x     \n",
       "⎮    ╱   ────────────────────  dx\n",
       "⎮   ╱         2 ⎛ 2    2⎞        \n",
       "⎮ ╲╱         a ⋅⎝a  - x ⎠        \n",
       "⌡                                "
      ]
     },
     "execution_count": 62,
     "metadata": {},
     "output_type": "execute_result"
    }
   ],
   "source": [
    "sp.integrate(funcio_longitud,x) #intentem buscar primitiva simple: no existeix"
   ]
  },
  {
   "cell_type": "code",
   "execution_count": 63,
   "metadata": {},
   "outputs": [
    {
     "data": {
      "image/png": "[encoded data removed]",
      "text/latex": [
       "$$\\int_{0}^{a} \\sqrt{\\frac{a^{2} \\left(a^{2} - x^{2}\\right) + b^{2} x^{2}}{a^{2} \\left(a^{2} - x^{2}\\right)}}\\, dx$$"
      ],
      "text/plain": [
       "a                                \n",
       "⌠                                \n",
       "⎮       ______________________   \n",
       "⎮      ╱  2 ⎛ 2    2⎞    2  2    \n",
       "⎮     ╱  a ⋅⎝a  - x ⎠ + b ⋅x     \n",
       "⎮    ╱   ────────────────────  dx\n",
       "⎮   ╱         2 ⎛ 2    2⎞        \n",
       "⎮ ╲╱         a ⋅⎝a  - x ⎠        \n",
       "⌡                                \n",
       "0                                "
      ]
     },
     "execution_count": 63,
     "metadata": {},
     "output_type": "execute_result"
    }
   ],
   "source": [
    "sp.integrate(funcio_longitud, (x, 0, a)) #intentem buscar integral definida d'un quadrant: tampoc!"
   ]
  },
  {
   "cell_type": "markdown",
   "metadata": {},
   "source": [
    "* `sympy` no pot avaluar la longitud d'una el·lipse!!"
   ]
  },
  {
   "cell_type": "code",
   "execution_count": 64,
   "metadata": {},
   "outputs": [
    {
     "data": {
      "image/png": "[encoded data removed]",
      "text/latex": [
       "$$\\sqrt{\\frac{r^{2}}{r^{2} - x^{2}}}$$"
      ],
      "text/plain": [
       "      _________\n",
       "     ╱     2   \n",
       "    ╱     r    \n",
       "   ╱   ─────── \n",
       "  ╱     2    2 \n",
       "╲╱     r  - x  "
      ]
     },
     "execution_count": 64,
     "metadata": {},
     "output_type": "execute_result"
    }
   ],
   "source": [
    "funcio_longitud_cercle = funcio_longitud.subs(a,r).subs(b,r).simplify() #busquem solució pel cas del cercle (més simple)\n",
    "funcio_longitud_cercle"
   ]
  },
  {
   "cell_type": "code",
   "execution_count": 65,
   "metadata": {},
   "outputs": [
    {
     "data": {
      "image/png": "[encoded data removed]",
      "text/latex": [
       "$$\\int \\sqrt{\\frac{r^{2}}{r^{2} - x^{2}}}\\, dx$$"
      ],
      "text/plain": [
       "⌠                   \n",
       "⎮       _________   \n",
       "⎮      ╱     2      \n",
       "⎮     ╱     r       \n",
       "⎮    ╱   ───────  dx\n",
       "⎮   ╱     2    2    \n",
       "⎮ ╲╱     r  - x     \n",
       "⌡                   "
      ]
     },
     "execution_count": 65,
     "metadata": {},
     "output_type": "execute_result"
    }
   ],
   "source": [
    "sp.integrate(funcio_longitud_cercle,x) #tampoc trobem primitiva"
   ]
  },
  {
   "cell_type": "code",
   "execution_count": 66,
   "metadata": {},
   "outputs": [
    {
     "data": {
      "image/png": "[encoded data removed]",
      "text/latex": [
       "$$\\int_{0}^{r} \\sqrt{\\frac{r^{2}}{r^{2} - x^{2}}}\\, dx$$"
      ],
      "text/plain": [
       "r                   \n",
       "⌠                   \n",
       "⎮       _________   \n",
       "⎮      ╱     2      \n",
       "⎮     ╱     r       \n",
       "⎮    ╱   ───────  dx\n",
       "⎮   ╱     2    2    \n",
       "⎮ ╲╱     r  - x     \n",
       "⌡                   \n",
       "0                   "
      ]
     },
     "execution_count": 66,
     "metadata": {},
     "output_type": "execute_result"
    }
   ],
   "source": [
    "sp.integrate(funcio_longitud_cercle, (x, 0, r)) #ni integral definida a un quadrant!!"
   ]
  },
  {
   "cell_type": "markdown",
   "metadata": {},
   "source": [
    "* `sympy` tampoc sap avaluar la longitud d'un cercle!!"
   ]
  },
  {
   "cell_type": "markdown",
   "metadata": {},
   "source": [
    "### Exercici 15.3.4\n",
    "\n",
    "___\n",
    "\n",
    ">  * Calculeu el volum $V_{paraboloide}$ tancat pel paraboloide de revolució definit per $z = h^2 -(x^2+y^2)$ en l'interval $x,y\\in[-h,+h]$"
   ]
  },
  {
   "cell_type": "code",
   "execution_count": 67,
   "metadata": {},
   "outputs": [
    {
     "data": {
      "image/png": "[encoded data removed]",
      "text/latex": [
       "$$h^{2} - x^{2} - y^{2}$$"
      ],
      "text/plain": [
       " 2    2    2\n",
       "h  - x  - y "
      ]
     },
     "execution_count": 67,
     "metadata": {},
     "output_type": "execute_result"
    }
   ],
   "source": [
    "import sympy as sp\n",
    "sp.init_printing()\n",
    "\n",
    "sp.var(\"x\")\n",
    "sp.var(\"y\")\n",
    "sp.var(\"h\")\n",
    "\n",
    "parab = h**2 - (x**2 + y **2)\n",
    "parab"
   ]
  },
  {
   "cell_type": "code",
   "execution_count": 64,
   "metadata": {},
   "outputs": [
    {
     "data": {
      "image/png": "[encoded data removed]",
      "text/plain": [
       "<matplotlib.figure.Figure at 0x825ac30>"
      ]
     },
     "metadata": {},
     "output_type": "display_data"
    },
    {
     "data": {
      "text/plain": [
       "<sympy.plotting.plot.Plot at 0x7ec2490>"
      ]
     },
     "execution_count": 64,
     "metadata": {},
     "output_type": "execute_result"
    }
   ],
   "source": [
    "#mostrem corba per entendre que estem fent...\n",
    "from sympy.plotting import plot3d\n",
    "plot3d(parab.subs(h, 1), (x,-1,1), (y,-1,1),xlabel= 'X',ylabel= 'Y',zlabel= 'Z' )"
   ]
  },
  {
   "cell_type": "code",
   "execution_count": 68,
   "metadata": {},
   "outputs": [
    {
     "data": {
      "image/png": "[encoded data removed]",
      "text/latex": [
       "$$\\frac{4 h^{4}}{3}$$"
      ],
      "text/plain": [
       "   4\n",
       "4⋅h \n",
       "────\n",
       " 3  "
      ]
     },
     "execution_count": 68,
     "metadata": {},
     "output_type": "execute_result"
    }
   ],
   "source": [
    "sp.integrate(parab, (x, -h, h), (y, -h, h))  #integrem les dues variables en el domini demanat"
   ]
  },
  {
   "cell_type": "markdown",
   "metadata": {},
   "source": [
    "### 15.3.2.4 Integrals com a símbols\n",
    "\n",
    "En cas que la integral no es vulgui avaluar, obtenint la funció o el valor numèric corresponent, es pot usar `Integral()` que retorna la integral com una expressió simbòlica de `sympy`. Posteriorment la integral es pot avaluar usant `.doit()`\n",
    "\n",
    "Per exemple, en el cas d'integració definida:"
   ]
  },
  {
   "cell_type": "code",
   "execution_count": 70,
   "metadata": {},
   "outputs": [
    {
     "data": {
      "text/latex": [
       "$$\\begin{pmatrix}\\int_{-\\infty}^{\\infty}\\int_{-\\infty}^{\\infty} e^{- x^{2} - y^{2}}\\, dx\\, dy, & \\pi\\end{pmatrix}$$"
      ],
      "text/plain": [
       "⎛∞  ∞                     ⎞\n",
       "⎜⌠  ⌠                     ⎟\n",
       "⎜⎮  ⎮      2    2         ⎟\n",
       "⎜⎮  ⎮   - x  - y          ⎟\n",
       "⎜⎮  ⎮  ℯ          dx dy, π⎟\n",
       "⎜⌡  ⌡                     ⎟\n",
       "⎝-∞ -∞                    ⎠"
      ]
     },
     "execution_count": 70,
     "metadata": {},
     "output_type": "execute_result"
    }
   ],
   "source": [
    "import sympy as sp\n",
    "sp.init_printing()\n",
    "\n",
    "sp.var(\"x\")\n",
    "\n",
    "resultat = sp.Integral(sp.exp(-x**2 - y**2), (x, -sp.oo, sp.oo), (y, -sp.oo, sp.oo))\n",
    "resultat, resultat.doit()"
   ]
  },
  {
   "cell_type": "markdown",
   "metadata": {},
   "source": [
    "I un exemple en el cas d'integració simbòlica:"
   ]
  },
  {
   "cell_type": "code",
   "execution_count": 72,
   "metadata": {},
   "outputs": [
    {
     "data": {
      "text/latex": [
       "$$\\begin{pmatrix}\\int \\frac{\\left(x^{4} + x^{2} e^{x} - x^{2} - 2 x e^{x} - 2 x - e^{x}\\right) e^{x}}{\\left(x - 1\\right)^{2} \\left(x + 1\\right)^{2} \\left(e^{x} + 1\\right)}\\, dx, & \\log{\\left (e^{x} + 1 \\right )} + \\frac{e^{x}}{x^{2} - 1}\\end{pmatrix}$$"
      ],
      "text/plain": [
       "⎛⌠                                                                  ⎞\n",
       "⎜⎮ ⎛ 4    2  x    2        x          x⎞  x                      x  ⎟\n",
       "⎜⎮ ⎝x  + x ⋅ℯ  - x  - 2⋅x⋅ℯ  - 2⋅x - ℯ ⎠⋅ℯ         ⎛ x    ⎞     ℯ   ⎟\n",
       "⎜⎮ ──────────────────────────────────────── dx, log⎝ℯ  + 1⎠ + ──────⎟\n",
       "⎜⎮               2        2 ⎛ x    ⎞                           2    ⎟\n",
       "⎜⎮        (x - 1) ⋅(x + 1) ⋅⎝ℯ  + 1⎠                          x  - 1⎟\n",
       "⎝⌡                                                                  ⎠"
      ]
     },
     "execution_count": 72,
     "metadata": {},
     "output_type": "execute_result"
    }
   ],
   "source": [
    "import sympy as sp\n",
    "sp.init_printing()\n",
    "\n",
    "sp.var(\"x\")\n",
    "\n",
    "resultat = sp.Integral((x**4 + x**2*sp.exp(x) - x**2 - 2*x*sp.exp(x) - 2*x - sp.exp(x))*sp.exp(x)/((x - 1)**2*(x + 1)**2*(sp.exp(x) + 1)), x)\n",
    "resultat, resultat.doit()"
   ]
  },
  {
   "cell_type": "code",
   "execution_count": null,
   "metadata": {},
   "outputs": [],
   "source": []
  }
 ],
 "metadata": {
  "kernelspec": {
   "display_name": "Python 3",
   "language": "python",
   "name": "python3"
  },
  "language_info": {
   "codemirror_mode": {
    "name": "ipython",
    "version": 3
   },
   "file_extension": ".py",
   "mimetype": "text/x-python",
   "name": "python",
   "nbconvert_exporter": "python",
   "pygments_lexer": "ipython3",
   "version": "3.6.5"
  }
 },
 "nbformat": 4,
 "nbformat_minor": 1
}
