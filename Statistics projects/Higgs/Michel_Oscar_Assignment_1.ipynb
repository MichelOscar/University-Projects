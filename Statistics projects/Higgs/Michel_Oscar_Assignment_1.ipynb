{
 "cells": [
  {
   "cell_type": "markdown",
   "id": "5b79a4dc",
   "metadata": {},
   "source": [
    "## Simulation of the Higgs' boson detection experiment\n",
    "\n",
    "See: http://www.sciencedirect.com/science/article/pii/S037026931200857X\n",
    "\n",
    "Physics Letters B\n",
    "      Volume 716, Issue 1, 17 September 2012, Pages 1-29\n",
    "\n",
    "The following code produces a distribution of events that \n",
    "__qualitatively__ reproduces the values in Figure 4 of the above\n",
    "paper. It is not base on any actual physics but can be used\n",
    "for the purposes of this course to emulate the kind of distribution\n",
    "resulting from the experiment"
   ]
  },
  {
   "cell_type": "code",
   "execution_count": 123,
   "id": "44e5ba86",
   "metadata": {},
   "outputs": [
    {
     "name": "stdout",
     "output_type": "stream",
     "text": [
      "0.007609023301332055 0.0013715501117754442 1\n",
      "0.00038382662148509454 3.292779694069555e-05 2\n",
      "2.050891440145428e-05 7.819179211804294e-07 3\n",
      "7.207306314048686e-07 1.8398208147964893e-09 4\n",
      "1.1187000200396901e-06 5.998364759493551e-08 5\n",
      "3.659181070777301e-10 7.978675301598177e-16 6\n"
     ]
    },
    {
     "data": {
      "image/png": "[encoded data removed]",
      "text/plain": [
       "<Figure size 432x288 with 1 Axes>"
      ]
     },
     "metadata": {
      "needs_background": "light"
     },
     "output_type": "display_data"
    }
   ],
   "source": [
    "#calculation of the expected significance with the chi^2 test:\n",
    "%matplotlib inline\n",
    "import scipy.stats as sp\n",
    "import matplotlib.pyplot as plt\n",
    "import numpy as np\n",
    "\n",
    "#definition of higgs mass\n",
    "mH= 126.5\n",
    "\n",
    "#Define the total number of data, number of years and samples\n",
    "Ntot = 80000\n",
    "Nbg = int(Ntot*0.995)\n",
    "Ns = int(Ntot*0.005)\n",
    "Nyears=7\n",
    "Nsamples=500\n",
    "\n",
    "# Mdefinition of paramenters in the distributions\n",
    "tau= 0.0218\n",
    "min= 100\n",
    "max= 160\n",
    "bins=int((max-min)/2)\n",
    "\n",
    "#definition of the distributions\n",
    "bg_dist= sp.truncexpon(b=(max-min)*tau, loc=min, scale=1./tau)\n",
    "sig_dist= sp.norm(loc=mH,scale=2)\n",
    "# Rate\n",
    "\n",
    "#we calculate p-values after certain number of years\n",
    "for n in range(1,Nyears):\n",
    "    p_values=[]\n",
    "#we make multiple iterations to calculate averages\n",
    "     for k in range(Nsamples):\n",
    "        obs=[]\n",
    "        exp=[]\n",
    "#for every year we generate a distribution with N elements and combine them together to calculate p-value\n",
    "        for j in range(n):\n",
    "\n",
    "#generation of the distributions\n",
    "            bg_points= bg_dist.rvs(Nbg)\n",
    "            sig_points= sig_dist.rvs(Ns)\n",
    "\n",
    "# Join background and signal in a single sample\n",
    "            all_points= np.concatenate( (bg_points,sig_points) )\n",
    "\n",
    "#we create exponential distribution which we'll use as background\n",
    "            x=bg_dist.rvs(Ntot)\n",
    "#create histograms of the samples\n",
    "            counts= np.histogram(all_points,bins)\n",
    "            counts_2= np.histogram(x,bins)\n",
    "\n",
    "#apply the test\n",
    "            for i in range(bins):\n",
    "                obs.append(counts[0][i])\n",
    "                exp.append(counts_2[0][i])\n",
    "            c2_stat, p_val = sp.chisquare(exp,obs)\n",
    "#the list contains p-value after 1 year, 2 years, etc...\n",
    "        p_values.append(p_val)\n",
    "\n",
    "           \n",
    "    print(sum(p_values)/len(p_values),np.var(p_values),n)\n",
    "_= plt.hist(all_points,bins)"
   ]
  },
  {
   "cell_type": "code",
   "execution_count": null,
   "id": "1d7a7bb1",
   "metadata": {},
   "outputs": [],
   "source": [
    " \n"
   ]
  },
  {
   "cell_type": "code",
   "execution_count": null,
   "id": "1d3504c1",
   "metadata": {},
   "outputs": [],
   "source": []
  },
  {
   "cell_type": "code",
   "execution_count": 127,
   "id": "873a3c30",
   "metadata": {},
   "outputs": [
    {
     "name": "stdout",
     "output_type": "stream",
     "text": [
      "0.007989085823974616 0.0015171533094021498 1\n",
      "23.369999999999997\n",
      "0.0017782941421643596 0.0002575984450896342 2\n",
      "49.296\n",
      "0.0004364052809474468 6.902458265824798e-05 3\n",
      "72.824\n",
      "7.464313369971734e-05 6.3718007343016446e-06 4\n",
      "87.388\n",
      "1.1650596142184523e-05 3.698014484108575e-07 5\n",
      "95.004\n",
      "3.2733312179280573e-06 5.727423418778417e-08 6\n",
      "98.346\n",
      "2.4139710545332765e-07 4.250851689868309e-10 7\n",
      "99.47\n"
     ]
    },
    {
     "data": {
      "text/plain": [
       "Text(0, 0.5, 'Counts')"
      ]
     },
     "execution_count": 127,
     "metadata": {},
     "output_type": "execute_result"
    },
    {
     "data": {
      "image/png": "[encoded data removed]",
      "text/plain": [
       "<Figure size 432x288 with 1 Axes>"
      ]
     },
     "metadata": {
      "needs_background": "light"
     },
     "output_type": "display_data"
    }
   ],
   "source": [
    "#here we make the same thing but calculate the number of p-values below 5 sigma for every number of years\n",
    "%matplotlib inline\n",
    "import scipy.stats as sp\n",
    "import matplotlib.pyplot as plt\n",
    "import numpy as np\n",
    "\n",
    "mH= 126.5\n",
    "tau= 0.0218\n",
    "min= 100\n",
    "max= 160\n",
    "bins=int((max-min)/2)\n",
    "bg_dist= sp.truncexpon(b=(max-min)*tau, loc=min, scale=1./tau)\n",
    "sig_dist= sp.norm(loc=mH,scale=2)\n",
    "Nyears=8\n",
    "Nsamples=500\n",
    "\n",
    "for n in range(1,Nyears):\n",
    "#what we modify is the number of measurements per year\n",
    "    nok=0\n",
    "    Ntot = 80000*n\n",
    "    Nbg = int(Ntot*0.995)\n",
    "    Ns = int(Ntot*0.005)\n",
    "   \n",
    "    p_values=[]\n",
    "#the procedure for running the test is the same\n",
    "    for k in range(Nsamples):\n",
    "        obs=[]\n",
    "        exp=[]\n",
    "\n",
    "        bg_points= bg_dist.rvs(Nbg)\n",
    "        sig_points= sig_dist.rvs(Ns)\n",
    "\n",
    "        all_points= np.concatenate( (bg_points,sig_points) )\n",
    "\n",
    "        x=bg_dist.rvs(Ntot)\n",
    "        counts= np.histogram(all_points,bins)\n",
    "        counts_2= np.histogram(x,bins)\n",
    "\n",
    "        for i in range(bins):\n",
    "            obs.append(counts[0][i])\n",
    "            exp.append(counts_2[0][i])\n",
    "\n",
    "        c2_stat, p_val = sp.chisquare(exp,obs)\n",
    "#we check wether the p-val is below the number we want, and count them\n",
    "        if p_val <= 2.9*10**-7:\n",
    "            nok=nok+1\n",
    "        p_values.append(p_val)\n",
    "\n",
    "    print(sum(p_values)/len(p_values),np.var(p_values),n)\n",
    "    print(nok/Nsamples*100)\n",
    "\n",
    "\n"
   ]
  },
  {
   "cell_type": "code",
   "execution_count": 114,
   "id": "ee5c0eee",
   "metadata": {},
   "outputs": [
    {
     "name": "stdout",
     "output_type": "stream",
     "text": [
      "0.008173442973923965 1\n",
      "23.512\n",
      "50000\n"
     ]
    },
    {
     "data": {
      "image/png": "[encoded data removed]",
      "text/plain": [
       "<Figure size 432x288 with 1 Axes>"
      ]
     },
     "metadata": {
      "needs_background": "light"
     },
     "output_type": "display_data"
    }
   ],
   "source": [
    "#this is a similar code as the one above to calculate various p-values after one year \n",
    "#in order to make a graphical representation\n",
    "%matplotlib inline\n",
    "import scipy.stats as sp\n",
    "import matplotlib.pyplot as plt\n",
    "import numpy as np\n",
    "\n",
    "mH= 126.5\n",
    "tau= 0.0218\n",
    "min= 100\n",
    "max= 160\n",
    "bins=int((max-min)/2)\n",
    "bg_dist= sp.truncexpon(b=(max-min)*tau, loc=min, scale=1./tau)\n",
    "sig_dist= sp.norm(loc=mH,scale=2)\n",
    "Nyears=2\n",
    "Nsamples=5000\n",
    "\n",
    "for n in range(1,Nyears):\n",
    "    nok=0\n",
    "    Ntot = 80000*n\n",
    "    Nbg = int(Ntot*0.995)\n",
    "    Ns = int(Ntot*0.005)\n",
    "    p_values=[]\n",
    "    for k in range(Nsamples):\n",
    "        obs=[]\n",
    "        exp=[]\n",
    "        bg_points= bg_dist.rvs(Nbg)\n",
    "        sig_points= sig_dist.rvs(Ns)\n",
    "        all_points= np.concatenate( (bg_points,sig_points) )\n",
    "\n",
    "        x=bg_dist.rvs(Ntot)\n",
    "        counts= np.histogram(all_points,bins)\n",
    "        counts_2= np.histogram(x,bins)\n",
    "\n",
    "        for i in range(bins):\n",
    "            obs.append(counts[0][i])\n",
    "            exp.append(counts_2[0][i])\n",
    "\n",
    "        c2_stat, p_val = sp.chisquare(exp,obs)\n",
    "        if p_val <= 2.9*10**-7:\n",
    "            nok=nok+1\n",
    "        p_values.append(p_val)\n",
    "\n",
    "    print(sum(p_values)/len(p_values),n)\n",
    "    print(nok/Nsamples*100)\n",
    "print(len(p_values))\n",
    "_= plt.hist(p_values,bins,range=[0,0.001])\n",
    "#as we can see the graph is not very conclusive, we don't know how the numbers are distributed around the zero"
   ]
  },
  {
   "cell_type": "code",
   "execution_count": 120,
   "id": "ef0b7949",
   "metadata": {},
   "outputs": [
    {
     "name": "stdout",
     "output_type": "stream",
     "text": [
      "50000 0.008173442973923965 0.0015715213152821877\n"
     ]
    },
    {
     "data": {
      "image/png": "[encoded data removed]",
      "text/plain": [
       "<Figure size 432x288 with 1 Axes>"
      ]
     },
     "metadata": {
      "needs_background": "light"
     },
     "output_type": "display_data"
    }
   ],
   "source": [
    "#to solve it we make a logarithmic representation of the above result\n",
    "p_log=[]\n",
    "\n",
    "for i in range(0,50000):\n",
    "    p_log.append(np.log(p_values[i]))\n",
    "\n",
    "_= plt.hist(p_log,bins)\n",
    "plt.xlabel(\"Log(p-value)\")\n",
    "plt.ylabel(\"Counts\")\n",
    "avg_p=sum(p_values)/len(p_values)\n",
    "var_p=(sum((x-avg_p)**2 for x in p_values)/len(p_values))\n",
    "var=np.sqrt(np.var(p_values))\n",
    "print(len(p_values),avg_p,var_p)"
   ]
  },
  {
   "cell_type": "code",
   "execution_count": 112,
   "id": "c7458b82",
   "metadata": {},
   "outputs": [
    {
     "name": "stdout",
     "output_type": "stream",
     "text": [
      "1000\n"
     ]
    }
   ],
   "source": []
  },
  {
   "cell_type": "code",
   "execution_count": 151,
   "id": "c71dfb57",
   "metadata": {},
   "outputs": [
    {
     "name": "stdout",
     "output_type": "stream",
     "text": [
      "0.3250180612265025 0.06584737281120404 1\n",
      "0.19687343934773058 0.040530605608332354 1\n",
      "0.14437611486024432 0.023888681354266597 1\n",
      "0.08782202934782136 0.015048662483833656 1\n",
      "0.05516057481865542 0.005454678911963955 1\n",
      "0.03721095999793469 0.0028229777527072706 1\n",
      "0.025986795072319945 0.0017981855402707126 1\n",
      "0.016804033927294175 0.0010436145904205848 1\n",
      "0.01315785087537633 0.00045319334622776717 1\n",
      "0.008477970644006107 0.0005287954935606258 1\n",
      "0.00616073387630062 0.0002086761363608682 1\n",
      "0.003234115772313265 6.465620093927993e-05 1\n",
      "0.0025871806921863856 7.50741330996682e-05 1\n",
      "0.0018846216535462561 3.179708357870666e-05 1\n",
      "0.0017317638299296804 2.69830970545839e-05 1\n",
      "0.0009134300321250364 4.998388161607058e-06 1\n",
      "0.0005817020739741501 2.268450299502616e-06 1\n",
      "0.0004151175317191847 1.2082341351898262e-06 1\n",
      "0.0003682284887330195 1.411177092932295e-06 1\n"
     ]
    },
    {
     "data": {
      "image/png": "[encoded data removed]",
      "text/plain": [
       "<Figure size 432x288 with 1 Axes>"
      ]
     },
     "metadata": {
      "needs_background": "light"
     },
     "output_type": "display_data"
    }
   ],
   "source": [
    "#the same code as the first cell but running the kolmogorov-smirnov test instead\n",
    "\n",
    "%matplotlib inline\n",
    "import scipy.stats as sp\n",
    "import matplotlib.pyplot as plt\n",
    "import numpy as np\n",
    "\n",
    "mH= 126.5\n",
    "for u in range(1,20):\n",
    "    Ntot = 80000*u\n",
    "    Nbg = int(Ntot*0.995)\n",
    "    Ns = int(Ntot*0.005)\n",
    "    Nyears=2\n",
    "    Nsamples=200\n",
    "\n",
    "    tau= 0.0218\n",
    "    min= 100\n",
    "    max= 160\n",
    "    bins=int((max-min)/2)\n",
    "    bg_dist= sp.truncexpon(b=(max-min)*tau, loc=min, scale=1./tau)\n",
    "    sig_dist= sp.norm(loc=mH,scale=2)\n",
    "\n",
    "    for n in range(1,Nyears):\n",
    "        p_values=[]\n",
    "\n",
    "        for k in range(Nsamples):\n",
    "\n",
    "            obs=[]\n",
    "            exp=[]\n",
    "            for j in range(n):\n",
    "                bg_points= bg_dist.rvs(Nbg)\n",
    "                sig_points= sig_dist.rvs(Ns)\n",
    "                all_points= np.concatenate( (bg_points,sig_points) )\n",
    "                x=bg_dist.rvs(Ntot)\n",
    "                counts= np.histogram(all_points,bins)\n",
    "                counts_2= np.histogram(x,bins)\n",
    "                \n",
    "#the main difference is that we compare the samples directly, we don't use the histograms\n",
    "                D_value,p_val= sp.ks_2samp(all_points,x)\n",
    "            p_values.append(p_val)\n",
    "\n",
    "        print(sum(p_values)/len(p_values),np.var(p_values),n)\n",
    "_= plt.hist(all_points,bins)"
   ]
  },
  {
   "cell_type": "code",
   "execution_count": 156,
   "id": "2ad3b357",
   "metadata": {},
   "outputs": [
    {
     "name": "stdout",
     "output_type": "stream",
     "text": [
      "0.05331739451359373 0.00611588357666115 5\n",
      "0.3\n",
      "0.008590088927192424 0.00031538300065740233 10\n",
      "1.7000000000000002\n",
      "0.0011989962398819493 1.0064733543583515e-05 15\n",
      "9.4\n",
      "0.00022193182010259998 5.447277121633683e-07 20\n",
      "22.5\n",
      "3.740731712419263e-05 4.3284919006523554e-08 25\n",
      "44.5\n",
      "5.552382159402435e-06 7.314050626413576e-10 30\n",
      "64.60000000000001\n",
      "1.3993073013067759e-06 6.769660941220534e-11 35\n",
      "78.2\n",
      "2.0512482376220818e-07 1.547013932399186e-12 40\n",
      "92.5\n",
      "3.30134251547656e-08 6.726330941484302e-14 45\n",
      "97.7\n"
     ]
    },
    {
     "data": {
      "text/plain": [
       "Text(0, 0.5, 'Counts')"
      ]
     },
     "execution_count": 156,
     "metadata": {},
     "output_type": "execute_result"
    },
    {
     "data": {
      "image/png": "[encoded data removed]",
      "text/plain": [
       "<Figure size 432x288 with 1 Axes>"
      ]
     },
     "metadata": {
      "needs_background": "light"
     },
     "output_type": "display_data"
    }
   ],
   "source": [
    "#the same code used when computing the percentage of p-values below 5 sigma, but using the K-S test.\n",
    "\n",
    "%matplotlib inline\n",
    "import scipy.stats as sp\n",
    "import matplotlib.pyplot as plt\n",
    "import numpy as np\n",
    "\n",
    "mH= 126.5\n",
    "tau= 0.0218\n",
    "min= 100\n",
    "max= 160\n",
    "bins=int((max-min)/2)\n",
    "bg_dist= sp.truncexpon(b=(max-min)*tau, loc=min, scale=1./tau)\n",
    "sig_dist= sp.norm(loc=mH,scale=2)\n",
    "Nyears=10\n",
    "Nsamples=100\n",
    "for n in range(1,Nyears):\n",
    "\n",
    "    nok=0\n",
    "    Ntot = 80000*5*n\n",
    "    Nbg = int(Ntot*0.995)\n",
    "    Ns = int(Ntot*0.005)\n",
    "\n",
    "    p_values=[]\n",
    "    for k in range(Nsamples):\n",
    "\n",
    "        bg_points= bg_dist.rvs(Nbg)\n",
    "\n",
    "        sig_points= sig_dist.rvs(Ns)\n",
    "\n",
    "        all_points= np.concatenate( (bg_points,sig_points) )\n",
    "\n",
    "        x=bg_dist.rvs(Ntot)\n",
    "\n",
    "        c2_stat, p_val = sp.ks_2samp(all_points,x)\n",
    "        if p_val <= 2.9*10**-7:\n",
    "            nok=nok+1\n",
    "        p_values.append(p_val)\n",
    "\n",
    "    print(sum(p_values)/len(p_values),np.var(p_values),5*n)\n",
    "    print(nok/Nsamples*100)\n"
   ]
  },
  {
   "cell_type": "code",
   "execution_count": null,
   "id": "5e6a5533",
   "metadata": {},
   "outputs": [],
   "source": []
  }
 ],
 "metadata": {
  "kernelspec": {
   "display_name": "Python 3",
   "language": "python",
   "name": "python3"
  },
  "language_info": {
   "codemirror_mode": {
    "name": "ipython",
    "version": 3
   },
   "file_extension": ".py",
   "mimetype": "text/x-python",
   "name": "python",
   "nbconvert_exporter": "python",
   "pygments_lexer": "ipython3",
   "version": "3.8.8"
  }
 },
 "nbformat": 4,
 "nbformat_minor": 5
}
