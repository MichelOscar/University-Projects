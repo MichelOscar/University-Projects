{
 "cells": [
  {
   "cell_type": "code",
   "execution_count": 61,
   "id": "f84c6808",
   "metadata": {},
   "outputs": [
    {
     "name": "stdout",
     "output_type": "stream",
     "text": [
      "k= 140 : 6.642115124004322\n",
      "k= 146 : 0.9375170329727234\n",
      "p= 0.55 0.352366719725944\n",
      "p=0.6 0.8896251002901807\n",
      "n_min= 992\n"
     ]
    },
    {
     "data": {
      "text/plain": [
       "[<matplotlib.lines.Line2D at 0x20914d77880>]"
      ]
     },
     "execution_count": 61,
     "metadata": {},
     "output_type": "execute_result"
    },
    {
     "data": {
      "image/png": "[encoded data removed]",
      "text/plain": [
       "<Figure size 432x288 with 1 Axes>"
      ]
     },
     "metadata": {
      "needs_background": "light"
     },
     "output_type": "display_data"
    }
   ],
   "source": [
    "#EXERCISE 1:\n",
    "\n",
    "%matplotlib inline\n",
    "import scipy.stats as sp\n",
    "import matplotlib.pyplot as plt\n",
    "import numpy as np\n",
    "import math as mt\n",
    "\n",
    "\n",
    "#section a)\n",
    "p=0.5\n",
    "Ntot=250\n",
    "Nmax=140\n",
    "Nmean=int(250/2)\n",
    "l=[]\n",
    "\n",
    "def function1(p,k,Ntot):\n",
    "    l=[]\n",
    "    for n in range(Nmean-(k-Nmean)+1,Nmean+(k-Nmean)):\n",
    "        l.append(mt.factorial(Ntot)/(mt.factorial(n)*mt.factorial(Ntot-n))*p**n*(1-p)**(Ntot-n))\n",
    "    print(\"k=\",k,\":\",(1-np.sum(l))*100)\n",
    "    \n",
    "#it wil calculate from 111 to 139\n",
    "function1(p,Nmax,Ntot) \n",
    "#section c) We repeat for Nmax=146\n",
    "Nmax=146\n",
    "function1(p,Nmax,Ntot) \n",
    "\n",
    "#section d)\n",
    "p=0.55\n",
    "Nmax=141\n",
    "Ntot=250\n",
    " \n",
    "#function that returns the power of the test\n",
    "def power_2(p,k,Ntot):\n",
    "    l=[]\n",
    "    for n in range(0,Ntot+1):\n",
    "        l.append(mt.factorial(Ntot)/(mt.factorial(n)*mt.factorial((Ntot)-n))*p**n*(1-p)**(Ntot-n))\n",
    "    prob=0\n",
    "    if k>=(Ntot/2):\n",
    "        for n in range(0,Ntot-k+1):\n",
    "            prob=prob+l[n]\n",
    "        for n in range(k,Ntot+1):\n",
    "            prob=prob+l[n]\n",
    "        return(prob)\n",
    "    if k<(Ntot/2):\n",
    "        for n in range(0,k+1):\n",
    "            prob=prob+l[n]\n",
    "        for n in range(Ntot-k,Ntot+1):\n",
    "            prob=prob+l[n]\n",
    "        return(prob)\n",
    "\n",
    "\n",
    "print(\"p=\",p,power_2(p,Nmax,Ntot))\n",
    "p=0.6\n",
    "print(\"p=0.6\",power_2(0.6,Nmax,Ntot))\n",
    "\n",
    "#section e)\n",
    "pnull=0.5\n",
    "a=0.05\n",
    "\n",
    "#function that determines the number of heads that we need to accept Ho\n",
    "def nsig(a,p,Ntot):\n",
    "    l=[]\n",
    "    for n in range(0,Ntot+1):\n",
    "        l.append(mt.factorial(Ntot)/(mt.factorial(n)*mt.factorial((Ntot)-n))*p**n*(1-p)**(Ntot-n))\n",
    "    dif=1\n",
    "    nfin=0\n",
    "    for i in range(int(Ntot/2),Ntot+1):\n",
    "        prob=0\n",
    "        #calculate cumulative prob up until certain element\n",
    "        for j in range(i,Ntot+1):\n",
    "            prob=prob+2*l[j]\n",
    "        #find the # of flips for when the prob=significance (critical value) \n",
    "        if abs((prob-a))<=dif:\n",
    "            dif=abs(prob-a)\n",
    "            nfin=i\n",
    "    return(nfin-1)\n",
    "\n",
    "a=0.05\n",
    "p=0.55\n",
    "pw=0\n",
    "#set initial n to avoid too much computation time\n",
    "n=100\n",
    "conf=90\n",
    "pwlist=[]\n",
    "num=[]\n",
    "#calculate power for different #of coin flips\n",
    "while pw*100<conf:\n",
    "    n=n+1\n",
    "    num.append(n)\n",
    "    nk=nsig(a,pnull,n)\n",
    "    pw=power_2(p,nk,n)\n",
    "    pwlist.append(pw)\n",
    "print(\"n_min=\",n)\n",
    "\n",
    "plt.plot(num,pwlist)\n"
   ]
  },
  {
   "cell_type": "code",
   "execution_count": 35,
   "id": "0aa5cb77",
   "metadata": {},
   "outputs": [
    {
     "name": "stdout",
     "output_type": "stream",
     "text": [
      "0.47567793518287516\n"
     ]
    },
    {
     "data": {
      "image/png": "[encoded data removed]",
      "text/plain": [
       "<Figure size 432x288 with 1 Axes>"
      ]
     },
     "metadata": {
      "needs_background": "light"
     },
     "output_type": "display_data"
    }
   ],
   "source": [
    "#plot part d\n",
    "\n",
    "p=0.56\n",
    "Ntot=250\n",
    "\n",
    "def power_2(p,k,Ntot):\n",
    "    l=[]\n",
    "    for n in range(0,Ntot+1):\n",
    "        l.append(mt.factorial(Ntot)/(mt.factorial(n)*mt.factorial((Ntot)-n))*p**n*(1-p)**(Ntot-n))\n",
    "    \n",
    "\n",
    "    prob=0\n",
    "    if k>=(Ntot/2):\n",
    "        for n in range(0,Ntot-k+1):\n",
    "            prob=prob+l[n]\n",
    "        for n in range(k,Ntot+1):\n",
    "            prob=prob+l[n]\n",
    "        return(prob,l)\n",
    "    if k<(Ntot/2):\n",
    "        for n in range(0,k+1):\n",
    "            prob=prob+l[n]\n",
    "        for n in range(Ntot-k,Ntot+1):\n",
    "            prob=prob+l[n]\n",
    "        return(prob,l)\n",
    "        \n",
    "pmf=[]\n",
    "num=[]\n",
    "for i in range(0,Ntot+1):\n",
    "    num.append(i)\n",
    "plt.plot(num,power_2(0.55,141,Ntot)[1],power_2(0.6,141,Ntot)[1])\n",
    "plt.xlim([100, 180])\n",
    "print(power_2(p,141,Ntot)[0])\n",
    "\n"
   ]
  },
  {
   "cell_type": "code",
   "execution_count": 57,
   "id": "8b45bf0a",
   "metadata": {},
   "outputs": [
    {
     "name": "stdout",
     "output_type": "stream",
     "text": [
      "2.0\n",
      "0.05920773163466455\n",
      "p-val= 0.015986251821180075\n"
     ]
    },
    {
     "data": {
      "image/png": "[encoded data removed]",
      "text/plain": [
       "<Figure size 432x288 with 1 Axes>"
      ]
     },
     "metadata": {
      "needs_background": "light"
     },
     "output_type": "display_data"
    }
   ],
   "source": [
    "#EXERCISE 3\n",
    "\n",
    "%matplotlib inline\n",
    "import scipy.stats as sp\n",
    "import matplotlib.pyplot as plt\n",
    "import numpy as np\n",
    "import math as mt\n",
    "import scipy.optimize as so\n",
    "import scipy.integrate as integrate\n",
    "import scipy.special as special\n",
    "a=0.05\n",
    "n=16\n",
    "mu=10\n",
    "mean=11\n",
    "var=2\n",
    "\n",
    "#part a) (probably needs changing bc error in the problem description)\n",
    "t=(mean-mu)/(var/(mt.sqrt(n)))\n",
    "print(t)\n",
    "po=mt.gamma(n/2)/(mt.sqrt((n-1)*mt.pi)*mt.gamma((n-1)/2))*(1+t**2/(n-1))**(-n/2)\n",
    "print(po)\n",
    "\n",
    "#part b) calculate p(t,ho) for different values of the mean and determine the rejection region\n",
    "\n",
    "#calculates statistic\n",
    "def fun(mean):\n",
    "    return(mean-mu)/(var/(mt.sqrt(n)))\n",
    "\n",
    "#student-t distr.-significance\n",
    "def fun2(mean):\n",
    "    return(mt.gamma(n/2)/(mt.sqrt((n-1)*mt.pi)*mt.gamma((n-1)/2))*(1+(fun(mean))**2/(n-1))**(-n/2)-a)\n",
    "#same without significance\n",
    "def fun3(mean):\n",
    "    return(mt.gamma(n/2)/(mt.sqrt((n-1)*mt.pi)*mt.gamma((n-1)/2))*(1+(fun(mean))**2/(n-1))**(-n/2))\n",
    "\n",
    "t1 = np.arange(0, 16.0, 0.05)\n",
    "plt.plot(t1, fun3(t1))\n",
    "\n",
    "#calculate power of H1 \n",
    "r1 = integrate.quad(lambda mean: fun3(mean), 11, 100)\n",
    "\n",
    "print(\"p-val=\",r1[0])\n",
    "\n",
    "\n",
    "\n"
   ]
  },
  {
   "cell_type": "code",
   "execution_count": null,
   "id": "681366f2",
   "metadata": {},
   "outputs": [],
   "source": [
    "\n",
    "\n"
   ]
  },
  {
   "cell_type": "code",
   "execution_count": 60,
   "id": "147684ea",
   "metadata": {},
   "outputs": [
    {
     "name": "stdout",
     "output_type": "stream",
     "text": [
      "z_crit= 1.2816692240980094\n",
      "90.00206473231155\n"
     ]
    }
   ],
   "source": [
    "#EXERCISE 4\n",
    "\n",
    "import scipy.integrate as integrate\n",
    "import scipy.special as special\n",
    "from statsmodels.stats.weightstats import ztest\n",
    "\n",
    "\n",
    "def gaus(z):\n",
    "    return(1/(mt.sqrt(2*mt.pi))*mt.exp(-(z**2)/2))\n",
    "#we set the value of n that gives us power=0.9\n",
    "n=29\n",
    "xt=46.19 #calculated manually in part a)\n",
    "zt=(xt-45)/(5/(mt.sqrt(n)))\n",
    "\n",
    "print(\"z_crit=\",zt)\n",
    "result = integrate.quad(lambda z: gaus(z), zt, 100)\n",
    "\n",
    "print((1-result[0])*100)\n"
   ]
  },
  {
   "cell_type": "code",
   "execution_count": 59,
   "id": "9de11e3d",
   "metadata": {},
   "outputs": [
    {
     "name": "stdout",
     "output_type": "stream",
     "text": [
      "mean= 0.050000000000000024\n",
      "var= 2.3397454545454544\n",
      "dev= 1.5296226510304607 stat= 25.737199999999998\n",
      "p-val= 0.007100031368917792\n",
      " the critical value at a=0,05 is 19.675: 0.05000206180187894\n"
     ]
    }
   ],
   "source": [
    "#EXERCISE 6\n",
    "\n",
    "%matplotlib inline\n",
    "import scipy.stats as sp\n",
    "import matplotlib.pyplot as plt\n",
    "import numpy as np\n",
    "import math as mt\n",
    "import scipy.optimize as so\n",
    "import scipy.integrate as integrate\n",
    "\n",
    "#define parameters and create data\n",
    "so=1\n",
    "n=12\n",
    "a=0.05\n",
    "\n",
    "\n",
    "data=[]\n",
    "data.append(1.76)\n",
    "data.append(-2.28)\n",
    "data.append(-0.56)\n",
    "data.append(1.46)\n",
    "data.append(0.59)\n",
    "data.append(1.26)\n",
    "data.append(-1.94)\n",
    "data.append(-0.79)\n",
    "data.append(-0.86)\n",
    "data.append(-1.41)\n",
    "data.append(2.07)\n",
    "data.append(1.30)\n",
    "\n",
    "\n",
    "#calculate mean\n",
    "mean=sum(data)/(len(data))\n",
    "print(\"mean=\",mean)\n",
    "\n",
    "#calculate sample variance\n",
    "var=0\n",
    "for i in range(0,n):\n",
    "    var=var+(data[i]-mean)**2/(n-1)\n",
    "print(\"var=\",var)\n",
    "    \n",
    "s=np.sqrt(var)\n",
    "#calculate statistic\n",
    "def tstat(n,s,so):\n",
    "    return((n-1)*(s/so)**2)\n",
    "\n",
    "print(\"deviation=\",s,\"stat=\",tstat(n,s,so))\n",
    "t=tstat(n,s,so)\n",
    "\n",
    "#define chi^2 function\n",
    "def chi(x,n):\n",
    "    return(0.5**(n/2)/(mt.gamma(n/2))*x**(n/2-1)*np.exp(-x/2))\n",
    "\n",
    "#run test (integrate chi^2 function)\n",
    "def test(x0,x1,n):\n",
    "    return(integrate.quad(lambda x: chi(x,n),x0,x1))\n",
    "\n",
    "\n",
    "print(\"p-val=\",1-test(0,t,n-1)[0])\n",
    "\n",
    "#find critical value of chi(a=0.05) \n",
    "print(\" the critical value at a=0,05 is 19.675:\",1-test(0,19.675,n-1)[0])\n",
    "\n"
   ]
  },
  {
   "cell_type": "code",
   "execution_count": 75,
   "id": "5ae053d6",
   "metadata": {},
   "outputs": [
    {
     "name": "stdout",
     "output_type": "stream",
     "text": [
      "100.0\n",
      "p_value= 1.372911625782498e-10\n"
     ]
    },
    {
     "data": {
      "text/plain": [
       "Text(0, 0.5, 'counts')"
      ]
     },
     "execution_count": 75,
     "metadata": {},
     "output_type": "execute_result"
    },
    {
     "data": {
      "image/png": "[encoded data removed]",
      "text/plain": [
       "<Figure size 432x288 with 2 Axes>"
      ]
     },
     "metadata": {
      "needs_background": "light"
     },
     "output_type": "display_data"
    }
   ],
   "source": [
    "#EXERCISE 7\n",
    "\n",
    "%matplotlib inline\n",
    "import scipy.stats as sp\n",
    "import matplotlib.pyplot as plt\n",
    "import numpy as np\n",
    "import math as mt\n",
    "import scipy.optimize as so\n",
    "import scipy.integrate as integrate\n",
    "\n",
    "#create lists with experimental data and background(null hypothesis)\n",
    "data=[7,13,12,9,9,13,11,10,16]\n",
    "\n",
    "bkg=[30.1,17.6,12.5,9.7,7.9,6.7,5.8,5.1,4.6]\n",
    "\n",
    "# run chi^2 test\n",
    "c2_stat, p_val = sp.chisquare(data,bkg)\n",
    "\n",
    "print(\"p_value=\",p_val)\n",
    "\n",
    "\n",
    "plt.subplot(1, 2, 1)\n",
    "plt.bar(range(9),bkg)\n",
    "plt.title(\"Expected\")\n",
    "plt.xlabel('digit')\n",
    "plt.ylabel('counts')\n",
    "\n",
    "plt.subplot(1, 2, 2)\n",
    "plt.bar(range(9),data)\n",
    "plt.title(\"Observed\")\n",
    "plt.xlabel('digit')\n",
    "plt.ylabel('counts')\n",
    "\n"
   ]
  },
  {
   "cell_type": "code",
   "execution_count": 1,
   "id": "db8e8577",
   "metadata": {},
   "outputs": [
    {
     "ename": "IndentationError",
     "evalue": "unexpected indent (<ipython-input-1-f453bbf65980>, line 2)",
     "output_type": "error",
     "traceback": [
      "\u001b[1;36m  File \u001b[1;32m\"<ipython-input-1-f453bbf65980>\"\u001b[1;36m, line \u001b[1;32m2\u001b[0m\n\u001b[1;33m    print(\"max(l)=\",max(l))\u001b[0m\n\u001b[1;37m    ^\u001b[0m\n\u001b[1;31mIndentationError\u001b[0m\u001b[1;31m:\u001b[0m unexpected indent\n"
     ]
    }
   ],
   "source": [
    "#from this cell on it's just discarded material        \n",
    "    print(n,l[n])\n",
    "    print(\"max(l)=\",max(l))"
   ]
  },
  {
   "cell_type": "code",
   "execution_count": null,
   "id": "3d69f87d",
   "metadata": {},
   "outputs": [],
   "source": [
    "\n",
    "def function2(p,k,Ntot):\n",
    "    l=[]\n",
    "    for n in range(0,Ntot+1):\n",
    "        l.append(mt.factorial(Ntot)/(mt.factorial(n)*mt.factorial((Ntot)-n))*p**n*(1-p)**(Ntot-n))\n",
    "    prob=0\n",
    "    for n in range(0,Ntot+1):\n",
    "        if l[n]>l[k]:\n",
    "            l[n]=0\n",
    "        prob=prob+l[n]\n",
    "    print(prob*100)\n",
    "    \n",
    "    \n",
    "    \n",
    "    \n",
    "def power(p,k,Ntot):\n",
    "    l=[]\n",
    "    for n in range(0,Ntot+1):\n",
    "        l.append(mt.factorial(Ntot)/(mt.factorial(n)*mt.factorial((Ntot)-n))*p**n*(1-p)**(Ntot-n))\n",
    "    prob=0\n",
    "    for n in range(0,Ntot-k+1):\n",
    "        prob=prob+l[n]\n",
    "    for n in range(k,Ntot+1):\n",
    "        prob=prob+l[n]\n",
    "    return(prob)\n",
    "\n",
    "\n",
    "\n",
    "guess=8\n",
    "func=lambda mean: fun2(mean)\n",
    "sol = fsolve(func,guess)\n",
    "print(sol)\n",
    "\n",
    "guess=12\n",
    "func=lambda mean: fun2(mean)\n",
    "sol = fsolve(func,guess)\n",
    "print(sol)"
   ]
  }
 ],
 "metadata": {
  "kernelspec": {
   "display_name": "Python 3",
   "language": "python",
   "name": "python3"
  },
  "language_info": {
   "codemirror_mode": {
    "name": "ipython",
    "version": 3
   },
   "file_extension": ".py",
   "mimetype": "text/x-python",
   "name": "python",
   "nbconvert_exporter": "python",
   "pygments_lexer": "ipython3",
   "version": "3.8.8"
  }
 },
 "nbformat": 4,
 "nbformat_minor": 5
}
