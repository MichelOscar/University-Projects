{
 "cells": [
  {
   "cell_type": "code",
   "execution_count": 1,
   "id": "3ef76f06",
   "metadata": {},
   "outputs": [],
   "source": [
    "%matplotlib inline\n",
    "import scipy.stats as sp\n",
    "import matplotlib.pyplot as plt\n",
    "import numpy as np\n",
    "import math as mt\n",
    "import scipy.optimize as so\n",
    "import scipy.integrate as integrate\n",
    "import random as rn\n",
    "import statistics as st"
   ]
  },
  {
   "cell_type": "code",
   "execution_count": 2,
   "id": "2b91ea3f",
   "metadata": {},
   "outputs": [],
   "source": [
    "#LCG algorithm\n",
    "\n",
    "def lcg(a,c,m,xo,ndat,output):\n",
    "#generate a sample of size ndat with the given parameters\n",
    "    num=[]\n",
    "    for n in range(0,ndat):\n",
    "        xj=((a*xo+c)%m)\n",
    "        xo=xj\n",
    "        num.append(xj/m)\n",
    "    output=num\n",
    "    return(output)\n",
    "    \n",
    "#generator of SystemRandom numbers (sample of size ndat)  \n",
    "def sysran(ndat,output):\n",
    "    num=[]\n",
    "    for n in range(0,ndat):\n",
    "        num.append(rn.SystemRandom().random())\n",
    "    output=num\n",
    "    return(output)\n",
    "    \n",
    " "
   ]
  },
  {
   "cell_type": "code",
   "execution_count": null,
   "id": "56ec5659",
   "metadata": {},
   "outputs": [],
   "source": [
    "\n"
   ]
  },
  {
   "cell_type": "code",
   "execution_count": 45,
   "id": "9c02244a",
   "metadata": {},
   "outputs": [
    {
     "name": "stdout",
     "output_type": "stream",
     "text": [
      "45\n"
     ]
    }
   ],
   "source": [
    "#this cells serves as an example to create the histograms, the calculations for the report are at the bottom\n",
    "\n",
    "#set parameters of LCG and significance\n",
    "xo=343  \n",
    "ndat=1000000\n",
    "a=0.05\n",
    "\n",
    "#create samples\n",
    "sample1,sample2,sample3=[],[],[]\n",
    "bins=int(1+3.22*mt.log(ndat))\n",
    "sample1=lcg(7**5,0,2**31-1,xo,ndat,sample1)\n",
    "sample2=lcg(7**5,0,2**22-1,xo,ndat,sample2)\n",
    "sample3=sysran(ndat,sample3)\n",
    "\n",
    "#create histograms for the chi-quare test\n",
    "counts_1= np.histogram(sample1,bins)\n",
    "counts_2= np.histogram(sample2,bins)\n",
    "counts_3= np.histogram(sample3,bins)\n",
    "print(bins)"
   ]
  },
  {
   "cell_type": "code",
   "execution_count": 46,
   "id": "c817aa63",
   "metadata": {},
   "outputs": [
    {
     "data": {
      "text/plain": [
       "Text(0, 0.5, 'Counts')"
      ]
     },
     "execution_count": 46,
     "metadata": {},
     "output_type": "execute_result"
    },
    {
     "data": {
      "image/png": "[encoded data removed]",
      "text/plain": [
       "<Figure size 432x288 with 1 Axes>"
      ]
     },
     "metadata": {
      "needs_background": "light"
     },
     "output_type": "display_data"
    }
   ],
   "source": [
    "_= plt.hist(sample1,bins)\n",
    "plt.xlabel(\"x\")\n",
    "plt.ylabel(\"Counts\")"
   ]
  },
  {
   "cell_type": "code",
   "execution_count": 47,
   "id": "fe208e6a",
   "metadata": {},
   "outputs": [
    {
     "data": {
      "text/plain": [
       "Text(0, 0.5, 'Counts')"
      ]
     },
     "execution_count": 47,
     "metadata": {},
     "output_type": "execute_result"
    },
    {
     "data": {
      "image/png": "[encoded data removed]",
      "text/plain": [
       "<Figure size 432x288 with 1 Axes>"
      ]
     },
     "metadata": {
      "needs_background": "light"
     },
     "output_type": "display_data"
    }
   ],
   "source": [
    "_= plt.hist(sample2,bins)\n",
    "plt.xlabel(\"x\")\n",
    "plt.ylabel(\"Counts\")"
   ]
  },
  {
   "cell_type": "code",
   "execution_count": 48,
   "id": "1a3094cf",
   "metadata": {},
   "outputs": [
    {
     "data": {
      "text/plain": [
       "Text(0, 0.5, 'Counts')"
      ]
     },
     "execution_count": 48,
     "metadata": {},
     "output_type": "execute_result"
    },
    {
     "data": {
      "image/png": "[encoded data removed]",
      "text/plain": [
       "<Figure size 432x288 with 1 Axes>"
      ]
     },
     "metadata": {
      "needs_background": "light"
     },
     "output_type": "display_data"
    }
   ],
   "source": [
    "_= plt.hist(sample3,bins)\n",
    "plt.xlabel(\"x\")\n",
    "plt.ylabel(\"Counts\")"
   ]
  },
  {
   "cell_type": "code",
   "execution_count": 41,
   "id": "1b6aced5",
   "metadata": {},
   "outputs": [
    {
     "name": "stdout",
     "output_type": "stream",
     "text": [
      "(40.57729999999998, 60.480886582336446)\n",
      "(14607.73862, 60.480886582336446)\n",
      "(48.55112, 60.480886582336446)\n"
     ]
    }
   ],
   "source": [
    "#CHI-SQUARE TEST\n",
    "\n",
    "#run the test for a sample of data\n",
    "def chitest(data,ndata,bins,a):\n",
    "    #create the \"expected\" uniform distributon\n",
    "    exp=ndata/(bins)\n",
    "    chi=0\n",
    "    #run the algorithm\n",
    "    for i in range(0,bins):\n",
    "        chi=chi+(data[i]-exp)**2/(exp)\n",
    "    return(chi,sp.chi2.ppf(1-a, bins-1))\n",
    "\n",
    "print(chitest(counts_1[0],ndat,bins,a))\n",
    "print(chitest(counts_2[0],ndat,bins,a))\n",
    "print(chitest(counts_3[0],ndat,bins,a))\n",
    "\n",
    "\n"
   ]
  },
  {
   "cell_type": "code",
   "execution_count": 42,
   "id": "7747d86f",
   "metadata": {},
   "outputs": [
    {
     "name": "stdout",
     "output_type": "stream",
     "text": [
      "(1.0247042423713326, 50.00600550000002)\n",
      "(20.25778074879181, 50.00600550000002)\n",
      "(0.9620634924972782, 50.00600550000002)\n"
     ]
    }
   ],
   "source": [
    "#KOLMOGOROV-SMIRNOV TEST\n",
    "\n",
    "def ks(data,a):\n",
    "    n=len(data)\n",
    "    #first we sort the data\n",
    "    sort=[]\n",
    "    for i in range(0,n):\n",
    "        sort.append(data[i])\n",
    "    sort.sort()\n",
    "    \n",
    "    kpl=[]\n",
    "    kml=[]\n",
    "    #run the algorithm\n",
    "    for i in range(0,n):\n",
    "        kpl.append(i/n-sort[i])\n",
    "        kml.append(sort[i]-(i-1)/n)\n",
    "    kplus=max(kpl)\n",
    "    kmin=max(kml)\n",
    "    k=max(mt.sqrt(n)*kplus,mt.sqrt(n)*kmin)\n",
    "    #calculate critical value\n",
    "    Q=0\n",
    "    for j in range(1,100):\n",
    "        Q=Q+2*(-1)**(j-1)*mt.exp(-2*j**2*a**2)\n",
    "        \n",
    "    P=Q*a*(mt.sqrt(ndat)+0.12+0.11/(mt.sqrt(ndat)))   \n",
    "   \n",
    "    return(k,P)\n",
    "\n",
    "print(ks(sample1,a))\n",
    "print(ks(sample2,a))\n",
    "print(ks(sample3,a))\n",
    "\n"
   ]
  },
  {
   "cell_type": "code",
   "execution_count": 43,
   "id": "208b2aee",
   "metadata": {},
   "outputs": [
    {
     "name": "stdout",
     "output_type": "stream",
     "text": [
      "(0.027000013500023626, 1.6448536269514729)\n",
      "(18.758315251696533, 1.6448536269514729)\n",
      "(1.945000972501702, 1.6448536269514729)\n"
     ]
    }
   ],
   "source": [
    "#RUNS TEST\n",
    "\n",
    "def run(data,a):\n",
    "    #calculate median and classify the data in 0's and 1's\n",
    "    median=st.median(data)\n",
    "    binlist=[]\n",
    "    n1,n0,v=0,0,1\n",
    "    mu,sig=0,0\n",
    "    #calculate the number of ones and zeros\n",
    "    for i in range(0,len(data)):\n",
    "        if(data[i]> median):\n",
    "            binlist.append(1)\n",
    "            n1+=1\n",
    "        if(data[i]< median):\n",
    "            binlist.append(0)\n",
    "            n0+=1\n",
    "    #calculate number of runs\n",
    "    for i in range(0,len(binlist)-1):\n",
    "        if(binlist[i+1]!=binlist[i]):\n",
    "            v=v+1\n",
    "        else:\n",
    "            v=v+0\n",
    "    #calculate critical value\n",
    "    mu=2*n1*n0/(n1+n0)+1\n",
    "    sig=mt.sqrt(2*n1*n0*(2*n1*n0-n1-n0)/((n1+n0)**2*(n1+n0-1)))\n",
    "    if (v>=mu):\n",
    "        k=-0.5\n",
    "    if (v<mu):\n",
    "        k=0.5\n",
    "    z=(v+k-mu)/sig\n",
    "    p=-sp.norm.ppf(a)   \n",
    "    return(abs(z),p)\n",
    "\n",
    "print(run(sample1,a))\n",
    "print(run(sample2,a))\n",
    "print(run(sample3,a))\n"
   ]
  },
  {
   "cell_type": "code",
   "execution_count": null,
   "id": "dfd2c444",
   "metadata": {},
   "outputs": [],
   "source": [
    "#REVERSE ARRANGEMENTS TEST\n",
    "\n",
    "\n",
    "def reverse(data,s):\n",
    "    alist=[]\n",
    "    n=len(data)\n",
    "    a=0\n",
    "    #run arrangements algorithm\n",
    "    for i in range(0,n-1):\n",
    "        for j in range(i+1,n):\n",
    "            if(data[i]>data[j]):\n",
    "                a+=1\n",
    "    #calculate critical value\n",
    "    mu=n*(n-1)/4\n",
    "    sig=mt.sqrt(n*(2*n-1)*(n-1)/72)\n",
    "    z=(a-mu)/sig\n",
    "    p=-sp.norm.ppf(s)  \n",
    "    return(abs(z),p)\n",
    "\n",
    "\n",
    "\n",
    "\n"
   ]
  },
  {
   "cell_type": "code",
   "execution_count": 44,
   "id": "29fcd3c4",
   "metadata": {},
   "outputs": [
    {
     "name": "stdout",
     "output_type": "stream",
     "text": [
      "2\n",
      "NDAT= 100\n",
      "chi_1:= (9.799999999999999, 23.684791304840576)\n",
      "chi_2:= (13.399999999999999, 23.684791304840576)\n",
      "chi_3:= (11.9, 23.684791304840576)\n",
      "\n",
      "ks_1:= (0.630047502568945, 0.5065500000000002)\n",
      "ks_2:= (0.7143780504174346, 0.5065500000000002)\n",
      "ks_3:= (1.0385774504430718, 0.5065500000000002)\n",
      "\n",
      "runs_1:= (1.7086514553642496, 1.6448536269514729)\n",
      "runs_2:= (1.3066158188079555, 1.6448536269514729)\n",
      "runs_3:= (0.1005089091390735, 1.6448536269514729)\n",
      "\n",
      "reverse_1:= (0.6468534374764877, 1.6448536269514729, 2368)\n",
      "reverse_2:= (0.09672574766003555, 1.6448536269514729, 2459)\n",
      "reverse_3:= (1.444840855671781, 1.6448536269514729, 2714)\n",
      "\n",
      "\n",
      "3\n",
      "NDAT= 1000\n",
      "chi_1:= (16.002000000000002, 33.92443847144381)\n",
      "chi_2:= (14.622, 33.92443847144381)\n",
      "chi_3:= (24.144000000000005, 33.92443847144381)\n",
      "\n",
      "ks_1:= (0.7767929152015093, 1.5873127553554995)\n",
      "ks_2:= (0.8474380257463876, 1.5873127553554995)\n",
      "ks_3:= (0.7302952641537621, 1.5873127553554995)\n",
      "\n",
      "runs_1:= (0.854242624154194, 1.6448536269514729)\n",
      "runs_2:= (1.7401238640178027, 1.6448536269514729)\n",
      "runs_3:= (0.4113020042223897, 1.6448536269514729)\n",
      "\n",
      "reverse_1:= (1.4675753695497997, 1.6448536269514729, 242021)\n",
      "reverse_2:= (1.2171248698168218, 1.6448536269514729, 243340)\n",
      "reverse_3:= (1.7664450333706543, 1.6448536269514729, 240447)\n",
      "\n",
      "\n",
      "4\n",
      "NDAT= 10000\n",
      "chi_1:= (25.778000000000002, 42.55696780429269)\n",
      "chi_2:= (97.62199999999999, 42.55696780429269)\n",
      "chi_3:= (19.909999999999997, 42.55696780429269)\n",
      "\n",
      "ks_1:= (0.956161640340536, 5.006055000000003)\n",
      "ks_2:= (2.060178074879182, 5.006055000000003)\n",
      "ks_3:= (0.9111251585406877, 5.006055000000003)\n",
      "\n",
      "runs_1:= (1.1700585102393284, 1.6448536269514729)\n",
      "runs_2:= (2.360471176580054, 1.6448536269514729)\n",
      "runs_3:= (1.3300665116395785, 1.6448536269514729)\n",
      "\n",
      "reverse_1:= (0.8410350778936853, 1.6448536269514729, 25137662)\n",
      "reverse_2:= (0.014059054433476296, 1.6448536269514729, 24999843)\n",
      "reverse_3:= (0.6375838189856838, 1.6448536269514729, 25103756)\n",
      "\n",
      "\n",
      "5\n",
      "NDAT= 100000\n",
      "chi_1:= (36.31099999999999, 52.192319730102895)\n",
      "chi_2:= (1034.6447199999998, 52.192319730102895)\n",
      "chi_3:= (33.556, 52.192319730102895)\n",
      "\n",
      "ks_1:= (1.1297754111262466, 15.817405693369036)\n",
      "ks_2:= (6.429473605334593, 15.817405693369036)\n",
      "ks_3:= (1.0915489184176532, 15.817405693369036)\n",
      "\n",
      "runs_1:= (1.5526860946701917, 1.6448536269514729)\n",
      "runs_2:= (6.066394295753893, 1.6448536269514729)\n",
      "runs_3:= (1.5273877468955246, 1.6448536269514729)\n",
      "\n",
      "reverse_1:= (1.2145189694234626, 1.6448536269514729, 2493573971)\n",
      "reverse_2:= (0.09145508400210263, 1.6448536269514729, 2499492993)\n",
      "reverse_3:= (0.9967854121588485, 1.6448536269514729, 2494721519)\n",
      "\n",
      "\n",
      "6\n",
      "NDAT= 1000000\n",
      "chi_1:= (40.57729999999998, 60.480886582336446)\n",
      "chi_2:= (14607.73862, 60.480886582336446)\n",
      "chi_3:= (31.20461, 60.480886582336446)\n",
      "\n",
      "ks_1:= (1.0247042423713326, 50.00600550000002)\n",
      "ks_2:= (20.25778074879181, 50.00600550000002)\n",
      "ks_3:= (0.8659334058586099, 50.00600550000002)\n",
      "\n",
      "runs_1:= (0.027000013500023626, 1.6448536269514729)\n",
      "runs_2:= (18.758315251696533, 1.6448536269514729)\n",
      "runs_3:= (0.8890004445007779, 1.6448536269514729)\n",
      "\n",
      "\n",
      "\n"
     ]
    }
   ],
   "source": [
    "\n",
    "#here we run all the tests at once for the three samples and different number of elements\n",
    "k=7\n",
    "a=0.05\n",
    "xo=343\n",
    "for n in range(2,k):\n",
    "    print(n)\n",
    "    ndat=10**n\n",
    "    sample1,sample2,sample3=[],[],[]\n",
    "    bins=int(1+3.22*mt.log(ndat))\n",
    "    sample1=lcg(7**5,0,2**31-1,xo,ndat,sample1)\n",
    "    sample2=lcg(7**5,0,2**22-1,xo,ndat,sample2)\n",
    "    sample3=sysran(ndat,sample3)\n",
    "    \n",
    "    counts_1= np.histogram(sample1,bins)\n",
    "    counts_2= np.histogram(sample2,bins)\n",
    "    counts_3= np.histogram(sample3,bins)\n",
    "    print(\"NDAT=\",ndat)\n",
    "    print(\"chi_1:=\",chitest(counts_1[0],ndat,bins,a))\n",
    "    print(\"chi_2:=\",chitest(counts_2[0],ndat,bins,a))\n",
    "    print(\"chi_3:=\",chitest(counts_3[0],ndat,bins,a))\n",
    "    print()\n",
    "    print(\"ks_1:=\",ks(sample1,a))\n",
    "    print(\"ks_2:=\",ks(sample2,a))\n",
    "    print(\"ks_3:=\",ks(sample3,a))\n",
    "    print()\n",
    "    print(\"runs_1:=\",run(sample1,a))\n",
    "    print(\"runs_2:=\",run(sample2,a))\n",
    "    print(\"runs_3:=\",run(sample3,a))\n",
    "    print()\n",
    "    #we don't run the arrangements test for more that 10^5 numbers because it's too slow\n",
    "    if(n<=5):\n",
    "        print(\"reverse_1:=\",reverse(sample1,a))\n",
    "        print(\"reverse_2:=\",reverse(sample2,a))\n",
    "        print(\"reverse_3:=\",reverse(sample3,a))        \n",
    "    print() \n",
    "    print() \n"
   ]
  },
  {
   "cell_type": "code",
   "execution_count": null,
   "id": "6c25f6ed",
   "metadata": {},
   "outputs": [],
   "source": [
    "xo=100\n",
    "for i in range(0,1000):\n",
    "    xo=xo+1\n",
    "    ndat=10000\n",
    "    sample1,sample2,sample3=[],[],[]\n",
    "    sample2=lcg(7**5,0,2**22-1,xo,ndat,sample2)\n",
    "    x=reverse(sample2,a)[0]\n",
    "    print(\"reverse_2:=\",x)\n",
    "    if(x>a+1):\n",
    "        print(\"STOP\")\n",
    "        break\n",
    "\n",
    "    \n",
    "    "
   ]
  },
  {
   "cell_type": "code",
   "execution_count": null,
   "id": "07604f35",
   "metadata": {},
   "outputs": [],
   "source": [
    "for x in range(1,10):\n",
    "    print(x*10)\n",
    "    break"
   ]
  },
  {
   "cell_type": "code",
   "execution_count": 34,
   "id": "babacca0",
   "metadata": {},
   "outputs": [
    {
     "name": "stdout",
     "output_type": "stream",
     "text": [
      "2\n"
     ]
    }
   ],
   "source": [
    "print(2)"
   ]
  },
  {
   "cell_type": "code",
   "execution_count": null,
   "id": "e8de0b2e",
   "metadata": {},
   "outputs": [],
   "source": []
  },
  {
   "cell_type": "code",
   "execution_count": null,
   "id": "ea5c3467",
   "metadata": {},
   "outputs": [],
   "source": []
  },
  {
   "cell_type": "code",
   "execution_count": null,
   "id": "6ac90ca0",
   "metadata": {},
   "outputs": [],
   "source": []
  },
  {
   "cell_type": "code",
   "execution_count": null,
   "id": "c1a1c952",
   "metadata": {},
   "outputs": [],
   "source": []
  }
 ],
 "metadata": {
  "kernelspec": {
   "display_name": "Python 3",
   "language": "python",
   "name": "python3"
  },
  "language_info": {
   "codemirror_mode": {
    "name": "ipython",
    "version": 3
   },
   "file_extension": ".py",
   "mimetype": "text/x-python",
   "name": "python",
   "nbconvert_exporter": "python",
   "pygments_lexer": "ipython3",
   "version": "3.8.8"
  }
 },
 "nbformat": 4,
 "nbformat_minor": 5
}
