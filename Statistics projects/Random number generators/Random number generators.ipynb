{
 "cells": [
  {
   "cell_type": "code",
   "execution_count": 76,
   "id": "9001dfa2",
   "metadata": {},
   "outputs": [],
   "source": [
    "#we will use a multiplicative congruential algorithm with a questinable chioce of paramenters as an example\n",
    "#of bad RNG, and the inbuilt RNG in python.\n",
    "\n",
    "#Multiplicative linear congruential generator:\n",
    "%matplotlib inline\n",
    "import scipy.stats as sp\n",
    "import matplotlib.pyplot as plt\n",
    "import numpy as np\n",
    "import math as mt\n",
    "import scipy.optimize as so\n",
    "import scipy.integrate as integrate\n",
    "import random as rn\n",
    "import statistics as st\n",
    "\n",
    "a=16807\n",
    "m=2**20-1\n",
    "xo=343  \n",
    "c=0\n",
    "bins=10\n",
    "num=[]\n",
    "nseeds=1\n",
    "nsam=10000\n",
    "for n in range(0,nseeds*nsam):\n",
    "    xj=((a*xo+c)%m)\n",
    "    xo=xj\n",
    "    num.append(xj/m)\n",
    "counts_b= np.histogram(num,bins)        "
   ]
  },
  {
   "cell_type": "code",
   "execution_count": null,
   "id": "d5726d08",
   "metadata": {},
   "outputs": [],
   "source": [
    "\n"
   ]
  },
  {
   "cell_type": "code",
   "execution_count": 77,
   "id": "97346727",
   "metadata": {},
   "outputs": [],
   "source": [
    "import random as rn\n",
    "nump=[]\n",
    "so=123\n",
    "for n in range(0,nseeds):\n",
    "    rn.seed(so+n)\n",
    "    for i in range(0,nsam):\n",
    "        nump.append(rn.SystemRandom().random())\n",
    "counts_g= np.histogram(nump,bins)"
   ]
  },
  {
   "cell_type": "code",
   "execution_count": null,
   "id": "3d54b326",
   "metadata": {},
   "outputs": [],
   "source": [
    "\n"
   ]
  },
  {
   "cell_type": "code",
   "execution_count": 23,
   "id": "a300f816",
   "metadata": {},
   "outputs": [
    {
     "name": "stdout",
     "output_type": "stream",
     "text": [
      "45\n",
      "1500002.5002200005\n",
      "50.762779999999985\n"
     ]
    },
    {
     "data": {
      "text/plain": [
       "60.480886582336446"
      ]
     },
     "execution_count": 23,
     "metadata": {},
     "output_type": "execute_result"
    }
   ],
   "source": [
    "#chi-square test of uniformity\n",
    "#the closer to 1 the better\n",
    "#number of bins computed using sturge's rule\n",
    "bins=int(1+3.22*mt.log(nsam*nseeds))\n",
    "\n",
    "counts_b= np.histogram(num,bins) \n",
    "counts_g= np.histogram(nump,bins)\n",
    "\n",
    "\n",
    "print(bins)\n",
    "\n",
    "def chitest(data,ndata,bins):\n",
    "    exp=ndata/(bins)\n",
    "    chi=0\n",
    "    for i in range(0,bins):\n",
    "        chi=chi+(data[i]-exp)**2/(exp)\n",
    "    return(chi)\n",
    "print(chitest(counts_b[0],nsam*nseeds,bins))\n",
    "print(chitest(counts_g[0],nsam*nseeds,bins))\n",
    "\n",
    "sp.chi2.ppf(1-.05, bins-1)"
   ]
  },
  {
   "cell_type": "code",
   "execution_count": 24,
   "id": "7328c6a9",
   "metadata": {},
   "outputs": [
    {
     "data": {
      "image/png": "[encoded data removed]",
      "text/plain": [
       "<Figure size 432x288 with 1 Axes>"
      ]
     },
     "metadata": {
      "needs_background": "light"
     },
     "output_type": "display_data"
    }
   ],
   "source": [
    "_= plt.hist(num,bins)\n"
   ]
  },
  {
   "cell_type": "code",
   "execution_count": 25,
   "id": "a45afa3f",
   "metadata": {},
   "outputs": [
    {
     "data": {
      "image/png": "[encoded data removed]",
      "text/plain": [
       "<Figure size 432x288 with 1 Axes>"
      ]
     },
     "metadata": {
      "needs_background": "light"
     },
     "output_type": "display_data"
    }
   ],
   "source": [
    "_= plt.hist(nump,bins)"
   ]
  },
  {
   "cell_type": "code",
   "execution_count": 169,
   "id": "e4177958",
   "metadata": {},
   "outputs": [
    {
     "name": "stdout",
     "output_type": "stream",
     "text": [
      "0.5015569226830796\n"
     ]
    }
   ],
   "source": [
    "print(st.median(num))"
   ]
  },
  {
   "cell_type": "code",
   "execution_count": null,
   "id": "d78e9210",
   "metadata": {},
   "outputs": [],
   "source": []
  },
  {
   "cell_type": "code",
   "execution_count": 71,
   "id": "4054b344",
   "metadata": {},
   "outputs": [
    {
     "name": "stdout",
     "output_type": "stream",
     "text": [
      "0.4332317669217748\n",
      "2.0\n",
      "0.49893248460238343\n",
      "0.3270861186553847\n"
     ]
    }
   ],
   "source": [
    "#runs test\n",
    "#if we fix significance to e.g. 0.05 we say sample is not random if pval<0.05\n",
    "def runs(data):\n",
    "    median=st.median(data)\n",
    "    print(median)\n",
    "    binlist=[]\n",
    "    pi=0\n",
    "    v=1\n",
    "    n=len(data)\n",
    "    for i in range(0,len(data)):\n",
    "        if(data[i]>= median):\n",
    "            binlist.append(1)\n",
    "            pi=pi+1/len(data)\n",
    "        else:\n",
    "            binlist.append(0)        \n",
    "    for i in range(0,len(binlist)-1):\n",
    "        if(binlist[i+1]!=binlist[i]):\n",
    "            v=v+1\n",
    "        else:\n",
    "            v=v+0\n",
    "    pval=mt.erfc((v-2*n*pi*(1-pi))/(2*mt.sqrt(2*n)*pi*(1-pi)))\n",
    "    return(binlist,pi,pval)\n",
    "\n",
    "print(runs(num)[2])\n",
    "print(runs(nump)[2])\n"
   ]
  },
  {
   "cell_type": "code",
   "execution_count": 272,
   "id": "47e493d4",
   "metadata": {},
   "outputs": [
    {
     "name": "stdout",
     "output_type": "stream",
     "text": [
      "0.6\n",
      "7\n",
      "0.1472322553636657\n"
     ]
    }
   ],
   "source": [
    "def runs2(data):\n",
    "    pi=0\n",
    "    v=1\n",
    "    n=len(data)\n",
    "    for i in range(0,len(data)):\n",
    "        if(data[i]== 1):\n",
    "            pi=pi+1/len(data)\n",
    "        else:\n",
    "            pi=pi+0\n",
    "    print(pi)        \n",
    "    for i in range(0,len(data)-1):\n",
    "        if(data[i+1]!=data[i]):\n",
    "            v=v+1\n",
    "        else:\n",
    "            v=v+0\n",
    "    print(v)\n",
    "    pval=mt.erfc((v-2*n*pi*(1-pi))/(2*mt.sqrt(2*n)*pi*(1-pi)))\n",
    "    return(data,pi,pval)\n",
    "\n",
    "\n",
    "l=[1,0,0,1,1,0,1,0,1,1]\n",
    "print(runs2(l)[2])\n",
    "\n"
   ]
  },
  {
   "cell_type": "code",
   "execution_count": 27,
   "id": "520bbcf4",
   "metadata": {},
   "outputs": [
    {
     "name": "stdout",
     "output_type": "stream",
     "text": [
      "127.25110404596712\n",
      "0.8934906820513566\n"
     ]
    }
   ],
   "source": [
    "#KOLMOGOROV-SMIRNOV\n",
    "\n",
    "def ks(data):\n",
    "    n=len(data)\n",
    "    sort=[]\n",
    "    for i in range(0,n):\n",
    "        sort.append(data[i])\n",
    "    sort.sort()\n",
    "    \n",
    "    kpl=[]\n",
    "    kml=[]\n",
    "    for i in range(0,n):\n",
    "        kpl.append(i/n-sort[i])\n",
    "        kml.append(sort[i]-(i-1)/n)\n",
    "    kplus=max(kpl)\n",
    "    kmin=max(kml)\n",
    "    k=max(mt.sqrt(n)*kplus,mt.sqrt(n)*kmin)\n",
    "    return(k)\n",
    "print(ks(num))\n",
    "print(ks(nump))\n"
   ]
  },
  {
   "cell_type": "code",
   "execution_count": 72,
   "id": "377758f1",
   "metadata": {},
   "outputs": [
    {
     "name": "stdout",
     "output_type": "stream",
     "text": [
      "(2429.22, 62.13961377414572)\n",
      "(2501.05, 167.04780004537622)\n"
     ]
    }
   ],
   "source": [
    "#reverse arrangements\n",
    "def reverse(data):\n",
    "    alist=[]\n",
    "    n=len(data)\n",
    "    nloops=int(n/100)\n",
    "    for q in range(0,nloops):\n",
    "        dat=[]\n",
    "        for i in range(0,100):\n",
    "            dat.append(data[100*q+i])\n",
    "        ai=[]\n",
    "        a=0\n",
    "        for i in range(0,99):\n",
    "            ai.append(0)\n",
    "            for j in range(i+1,100):\n",
    "                if (dat[i]>dat[j]):\n",
    "                    ai[i]=ai[i]+1\n",
    "            a=a+ai[i]\n",
    "        alist.append(a)\n",
    "        \n",
    "    return(sum(alist)/len(alist),mt.sqrt(np.var(alist)))\n",
    "        \n",
    "\n",
    "test=[]\n",
    "for i in range(0,1000):\n",
    "    test.append(rn.random())\n",
    "\n",
    "print(reverse(num)) \n",
    "print(reverse(nump))"
   ]
  },
  {
   "cell_type": "code",
   "execution_count": 259,
   "id": "b52df240",
   "metadata": {},
   "outputs": [
    {
     "name": "stdout",
     "output_type": "stream",
     "text": [
      "16807 343\n"
     ]
    }
   ],
   "source": [
    "m=2**31-1\n",
    "a=7**5%m\n",
    "x=7**3%m\n",
    "print(a,x)"
   ]
  },
  {
   "cell_type": "code",
   "execution_count": 29,
   "id": "52ddd681",
   "metadata": {},
   "outputs": [],
   "source": [
    "#we will use a multiplicative congruential algorithm with a questinable chioce of paramenters as an example\n",
    "#of bad RNG, and the inbuilt RNG in python.\n",
    "\n",
    "#Multiplicative linear congruential generator:\n",
    "%matplotlib inline\n",
    "import scipy.stats as sp\n",
    "import matplotlib.pyplot as plt\n",
    "import numpy as np\n",
    "import math as mt\n",
    "import scipy.optimize as so\n",
    "import scipy.integrate as integrate\n",
    "import random as rn\n",
    "import statistics as st\n",
    "\n",
    "a=65539\n",
    "m=2**31-1\n",
    "xo=322365\n",
    "c=0\n",
    "bins=10\n",
    "num=[]\n",
    "nseeds=1024\n",
    "nsam=1024\n",
    "for n in range(0,nseeds):\n",
    "    xi=xo+n\n",
    "    for i in range(0,nsam):\n",
    "        xj=((a*xi+c)%m)\n",
    "        xi=xj\n",
    "        num.append(xj/m)\n",
    "counts_b= np.histogram(num,bins) "
   ]
  },
  {
   "cell_type": "code",
   "execution_count": 51,
   "id": "bd83a3c3",
   "metadata": {},
   "outputs": [
    {
     "name": "stdout",
     "output_type": "stream",
     "text": [
      "1.741211767775461\n",
      "0.6770003385005924\n"
     ]
    },
    {
     "data": {
      "text/plain": [
       "1.6448536269514729"
      ]
     },
     "execution_count": 51,
     "metadata": {},
     "output_type": "execute_result"
    }
   ],
   "source": [
    "#DEFINITIVE RUNS TEST\n",
    "\n",
    "def run3(data):\n",
    "    median=st.median(data)\n",
    "    binlist=[]\n",
    "    n1,n0,v=0,0,1\n",
    "    mu,sig=0,0\n",
    "    for i in range(0,len(data)):\n",
    "        if(data[i]> median):\n",
    "            binlist.append(1)\n",
    "            n1+=1\n",
    "        if(data[i]< median):\n",
    "            binlist.append(0)\n",
    "            n0+=1\n",
    "    for i in range(0,len(binlist)-1):\n",
    "        if(binlist[i+1]!=binlist[i]):\n",
    "            v=v+1\n",
    "        else:\n",
    "            v=v+0\n",
    "    \n",
    "    mu=2*n1*n0/(n1+n0)+1\n",
    "    sig=mt.sqrt(2*n1*n0*(2*n1*n0-n1-n0)/((n1+n0)**2*(n1+n0-1)))\n",
    "    if (v>=mu):\n",
    "        k=-0.5\n",
    "    if (v<mu):\n",
    "        k=0.5\n",
    "    z=(v+k-mu)/sig\n",
    "        \n",
    "    return(z)\n",
    "\n",
    "print(run3(num))\n",
    "print(run3(nump))\n",
    "\n",
    "-sp.norm.ppf(.05)\n",
    "\n",
    "\n",
    "\n",
    "    "
   ]
  },
  {
   "cell_type": "code",
   "execution_count": 78,
   "id": "4f2a29d3",
   "metadata": {},
   "outputs": [
    {
     "name": "stdout",
     "output_type": "stream",
     "text": [
      "0\n",
      "100\n",
      "200\n",
      "300\n",
      "400\n",
      "500\n",
      "600\n",
      "700\n",
      "800\n",
      "900\n",
      "1000\n",
      "1100\n",
      "1200\n",
      "1300\n",
      "1400\n",
      "1500\n",
      "1600\n",
      "1700\n",
      "1800\n",
      "1900\n",
      "2000\n",
      "2100\n",
      "2200\n",
      "2300\n",
      "2400\n",
      "2500\n",
      "2600\n",
      "2700\n",
      "2800\n",
      "2900\n",
      "3000\n",
      "3100\n",
      "3200\n",
      "3300\n",
      "3400\n",
      "3500\n",
      "3600\n",
      "3700\n",
      "3800\n",
      "3900\n",
      "4000\n",
      "4100\n",
      "4200\n",
      "4300\n",
      "4400\n",
      "4500\n",
      "4600\n",
      "4700\n",
      "4800\n",
      "4900\n",
      "5000\n",
      "5100\n",
      "5200\n",
      "5300\n",
      "5400\n",
      "5500\n",
      "5600\n",
      "5700\n",
      "5800\n",
      "5900\n",
      "6000\n",
      "6100\n",
      "6200\n",
      "6300\n",
      "6400\n",
      "6500\n",
      "6600\n",
      "6700\n",
      "6800\n",
      "6900\n",
      "7000\n",
      "7100\n",
      "7200\n",
      "7300\n",
      "7400\n",
      "7500\n",
      "7600\n",
      "7700\n",
      "7800\n",
      "7900\n",
      "8000\n",
      "8100\n",
      "8200\n",
      "8300\n",
      "8400\n",
      "8500\n",
      "8600\n",
      "8700\n",
      "8800\n",
      "8900\n",
      "9000\n",
      "9100\n",
      "9200\n",
      "9300\n",
      "9400\n",
      "9500\n",
      "9600\n",
      "9700\n",
      "9800\n",
      "9900\n",
      "-1.7595959702476838\n",
      "0\n",
      "100\n",
      "200\n",
      "300\n",
      "400\n",
      "500\n",
      "600\n",
      "700\n",
      "800\n",
      "900\n",
      "1000\n",
      "1100\n",
      "1200\n",
      "1300\n",
      "1400\n",
      "1500\n",
      "1600\n",
      "1700\n",
      "1800\n",
      "1900\n",
      "2000\n",
      "2100\n",
      "2200\n",
      "2300\n",
      "2400\n",
      "2500\n",
      "2600\n",
      "2700\n",
      "2800\n",
      "2900\n",
      "3000\n",
      "3100\n",
      "3200\n",
      "3300\n",
      "3400\n",
      "3500\n",
      "3600\n",
      "3700\n",
      "3800\n",
      "3900\n",
      "4000\n",
      "4100\n",
      "4200\n",
      "4300\n",
      "4400\n",
      "4500\n",
      "4600\n",
      "4700\n",
      "4800\n",
      "4900\n",
      "5000\n",
      "5100\n",
      "5200\n",
      "5300\n",
      "5400\n",
      "5500\n",
      "5600\n",
      "5700\n",
      "5800\n",
      "5900\n",
      "6000\n",
      "6100\n",
      "6200\n",
      "6300\n",
      "6400\n",
      "6500\n",
      "6600\n",
      "6700\n",
      "6800\n",
      "6900\n",
      "7000\n",
      "7100\n",
      "7200\n",
      "7300\n",
      "7400\n",
      "7500\n",
      "7600\n",
      "7700\n",
      "7800\n",
      "7900\n",
      "8000\n",
      "8100\n",
      "8200\n",
      "8300\n",
      "8400\n",
      "8500\n",
      "8600\n",
      "8700\n",
      "8800\n",
      "8900\n",
      "9000\n",
      "9100\n",
      "9200\n",
      "9300\n",
      "9400\n",
      "9500\n",
      "9600\n",
      "9700\n",
      "9800\n",
      "9900\n",
      "-6.140458536309261\n"
     ]
    },
    {
     "data": {
      "text/plain": [
       "1.6448536269514729"
      ]
     },
     "execution_count": 78,
     "metadata": {},
     "output_type": "execute_result"
    }
   ],
   "source": [
    "#reverse arrangements\n",
    "def reverse2(data):\n",
    "    alist=[]\n",
    "    n=len(data)\n",
    "    a=0\n",
    "    for i in range(0,n-1):\n",
    "        if(i%100==0):\n",
    "            print(i)\n",
    "        for j in range(i+1,n):\n",
    "            if(data[i]>data[j]):\n",
    "                a+=1\n",
    "    mu=n*(n-1)/4\n",
    "    sig=mt.sqrt(n*(2*n-1)*(n-1)/72)\n",
    "    z=(a-mu)/sig\n",
    "    return(z)\n",
    "\n",
    "print(reverse2(nump))\n",
    "print(reverse2(num))\n",
    "        \n",
    "-sp.norm.ppf(.05)"
   ]
  },
  {
   "cell_type": "code",
   "execution_count": null,
   "id": "3e793211",
   "metadata": {},
   "outputs": [],
   "source": []
  }
 ],
 "metadata": {
  "kernelspec": {
   "display_name": "Python 3",
   "language": "python",
   "name": "python3"
  },
  "language_info": {
   "codemirror_mode": {
    "name": "ipython",
    "version": 3
   },
   "file_extension": ".py",
   "mimetype": "text/x-python",
   "name": "python",
   "nbconvert_exporter": "python",
   "pygments_lexer": "ipython3",
   "version": "3.8.8"
  }
 },
 "nbformat": 4,
 "nbformat_minor": 5
}
